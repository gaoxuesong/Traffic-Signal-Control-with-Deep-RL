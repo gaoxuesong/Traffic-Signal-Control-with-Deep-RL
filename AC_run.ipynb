{
 "cells": [
  {
   "cell_type": "code",
   "execution_count": 1,
   "metadata": {
    "collapsed": false
   },
   "outputs": [],
   "source": [
    "import numpy as np\n",
    "import tensorflow as tf \n",
    "import tflearn\n",
    "from collections import deque\n",
    "import random\n",
    "import pdb\n",
    "from replay_memory import ReplayMemory\n",
    "from AC_networks import ActorNet, CriticNet\n",
    "from test_game import test_env\n",
    "import os"
   ]
  },
  {
   "cell_type": "code",
   "execution_count": 2,
   "metadata": {
    "collapsed": false
   },
   "outputs": [],
   "source": [
    "class input_struct:\n",
    "    def __init__(self, net):\n",
    "        self.net = net\n"
   ]
  },
  {
   "cell_type": "code",
   "execution_count": 3,
   "metadata": {
    "collapsed": false
   },
   "outputs": [
    {
     "name": "stderr",
     "output_type": "stream",
     "text": [
      "[2016-12-28 19:29:58,652] Making new env: LunarLander-v2\n"
     ]
    }
   ],
   "source": [
    "import gym\n",
    "game = gym.make('LunarLander-v2')\n",
    "#game = gym.make('CartPole-v0')\n",
    "state_dim = game.observation_space.shape[0]\n",
    "action_dim = game.action_space.n"
   ]
  },
  {
   "cell_type": "code",
   "execution_count": 6,
   "metadata": {
    "collapsed": false
   },
   "outputs": [],
   "source": [
    "# info = graph, dim_s, dim_a, hid_layers, learning_rate, tau\n",
    "MAX_EPISODE = 10000\n",
    "MAX_STEP = 1000\n",
    "MINIBATCH_SIZE = 8\n",
    "GAMMA = 0.99\n",
    "LEARNING_RATE = 2e-2 #5e-5 lr/2\n",
    "TAU = 0\n",
    "ENTROPY_BETA = 0\n",
    "buff = ReplayMemory(500)\n",
    "info = input_struct('actor')\n",
    "try:\n",
    "    actor\n",
    "except:\n",
    "    pass\n",
    "else:\n",
    "    actor.reset_net()\n",
    "try:\n",
    "    critic\n",
    "except:\n",
    "    pass\n",
    "else:\n",
    "    critic.reset_net()  \n",
    "    \n",
    "graph = tf.Graph()\n",
    "with graph.as_default():\n",
    "    info.graph = graph\n",
    "    info.dim_s = state_dim\n",
    "    info.dim_a = action_dim\n",
    "    info.act_hid_layers = np.array([16])\n",
    "    info.crit_hid_layers = np.array([16])\n",
    "    info.learning_rate = LEARNING_RATE\n",
    "    info.tau = TAU\n",
    "    info.ent_beta = ENTROPY_BETA\n",
    "    actor = ActorNet(info)\n",
    "    critic = CriticNet(info, actor.get_num_trainable_vars())"
   ]
  },
  {
   "cell_type": "code",
   "execution_count": 7,
   "metadata": {
    "collapsed": false
   },
   "outputs": [
    {
     "name": "stdout",
     "output_type": "stream",
     "text": [
      "WARNING:tensorflow:From <ipython-input-7-95f82d36f5ab>:12 in <module>.: initialize_all_variables (from tensorflow.python.ops.variables) is deprecated and will be removed after 2017-03-02.\n",
      "Instructions for updating:\n",
      "Use `tf.global_variables_initializer` instead.\n"
     ]
    },
    {
     "name": "stderr",
     "output_type": "stream",
     "text": [
      "[2016-12-28 19:45:49,262] From <ipython-input-7-95f82d36f5ab>:12 in <module>.: initialize_all_variables (from tensorflow.python.ops.variables) is deprecated and will be removed after 2017-03-02.\n",
      "Instructions for updating:\n",
      "Use `tf.global_variables_initializer` instead.\n"
     ]
    },
    {
     "name": "stdout",
     "output_type": "stream",
     "text": [
      "Episode: 0 --- Ave R: -155.8  |  Success: 0.00  |  crash: 1.00  |  Max R: -155.8  |  var: 0.25  |  lr:200.00*1e-4\n",
      "Episode: 99 --- Ave R: -220.1  |  Success: 0.00  |  crash: 1.00  |  Max R: -26.0  |  var: 0.26  |  lr:200.00*1e-4\n",
      "Episode: 199 --- Ave R: -223.6  |  Success: 0.00  |  crash: 1.00  |  Max R: -65.0  |  var: 0.27  |  lr:194.00*1e-4\n",
      "Episode: 299 --- Ave R: -252.9  |  Success: 0.00  |  crash: 0.99  |  Max R: -6.9  |  var: 0.30  |  lr:188.18*1e-4\n",
      "Episode: 399 --- Ave R: -363.3  |  Success: 0.00  |  crash: 1.00  |  Max R: -65.9  |  var: 0.42  |  lr:182.53*1e-4\n",
      "Episode: 499 --- Ave R: -407.0  |  Success: 0.00  |  crash: 1.00  |  Max R: -3.4  |  var: 0.40  |  lr:177.06*1e-4\n",
      "Episode: 599 --- Ave R: -402.8  |  Success: 0.00  |  crash: 1.00  |  Max R: -105.1  |  var: 0.32  |  lr:171.75*1e-4\n",
      "Episode: 699 --- Ave R: -358.0  |  Success: 0.00  |  crash: 1.00  |  Max R: -43.2  |  var: 0.32  |  lr:166.59*1e-4\n",
      "Episode: 799 --- Ave R: -224.8  |  Success: 0.00  |  crash: 0.99  |  Max R: -13.9  |  var: 0.27  |  lr:161.60*1e-4\n",
      "Episode: 899 --- Ave R: -154.1  |  Success: 0.00  |  crash: 0.99  |  Max R: 68.1  |  var: 0.27  |  lr:156.75*1e-4\n",
      "Episode: 999 --- Ave R: -154.6  |  Success: 0.00  |  crash: 1.00  |  Max R: -28.8  |  var: 0.28  |  lr:152.05*1e-4\n",
      " ***** Saving...  at episode 999 ******\n",
      "WARNING:tensorflow:Error encountered when serializing data_augmentation.\n",
      "Type is unsupported, or the types of the items don't match field type in CollectionDef.\n",
      "'NoneType' object has no attribute 'name'\n"
     ]
    },
    {
     "name": "stderr",
     "output_type": "stream",
     "text": [
      "[2016-12-28 19:47:20,427] Error encountered when serializing data_augmentation.\n",
      "Type is unsupported, or the types of the items don't match field type in CollectionDef.\n",
      "'NoneType' object has no attribute 'name'\n"
     ]
    },
    {
     "name": "stdout",
     "output_type": "stream",
     "text": [
      "WARNING:tensorflow:Error encountered when serializing data_preprocessing.\n",
      "Type is unsupported, or the types of the items don't match field type in CollectionDef.\n",
      "'NoneType' object has no attribute 'name'\n"
     ]
    },
    {
     "name": "stderr",
     "output_type": "stream",
     "text": [
      "[2016-12-28 19:47:20,432] Error encountered when serializing data_preprocessing.\n",
      "Type is unsupported, or the types of the items don't match field type in CollectionDef.\n",
      "'NoneType' object has no attribute 'name'\n"
     ]
    },
    {
     "name": "stdout",
     "output_type": "stream",
     "text": [
      "Episode: 1099 --- Ave R: -156.9  |  Success: 0.00  |  crash: 1.00  |  Max R: -26.4  |  var: 0.30  |  lr:147.48*1e-4\n",
      "Episode: 1199 --- Ave R: -169.7  |  Success: 0.00  |  crash: 1.00  |  Max R: -26.4  |  var: 0.30  |  lr:143.06*1e-4\n",
      "Episode: 1299 --- Ave R: -188.1  |  Success: 0.00  |  crash: 0.99  |  Max R: 16.0  |  var: 0.29  |  lr:138.77*1e-4\n",
      "Episode: 1399 --- Ave R: -162.5  |  Success: 0.00  |  crash: 1.00  |  Max R: -21.0  |  var: 0.29  |  lr:134.61*1e-4\n",
      "Episode: 1499 --- Ave R: -143.6  |  Success: 0.00  |  crash: 1.00  |  Max R: -70.5  |  var: 0.28  |  lr:130.57*1e-4\n",
      "Episode: 1599 --- Ave R: -140.6  |  Success: 0.00  |  crash: 1.00  |  Max R: -38.3  |  var: 0.28  |  lr:126.65*1e-4\n",
      "Episode: 1699 --- Ave R: -138.1  |  Success: 0.00  |  crash: 1.00  |  Max R: -44.6  |  var: 0.29  |  lr:122.85*1e-4\n",
      "Episode: 1799 --- Ave R: -138.6  |  Success: 0.00  |  crash: 1.00  |  Max R: -61.5  |  var: 0.26  |  lr:119.17*1e-4\n",
      "Episode: 1899 --- Ave R: -145.7  |  Success: 0.00  |  crash: 1.00  |  Max R: -60.1  |  var: 0.27  |  lr:115.59*1e-4\n",
      "Episode: 1999 --- Ave R: -146.0  |  Success: 0.00  |  crash: 1.00  |  Max R: -62.9  |  var: 0.30  |  lr:112.12*1e-4\n",
      " ***** Saving...  at episode 1999 ******\n",
      "WARNING:tensorflow:Error encountered when serializing data_augmentation.\n",
      "Type is unsupported, or the types of the items don't match field type in CollectionDef.\n",
      "'NoneType' object has no attribute 'name'\n"
     ]
    },
    {
     "name": "stderr",
     "output_type": "stream",
     "text": [
      "[2016-12-28 19:48:37,967] Error encountered when serializing data_augmentation.\n",
      "Type is unsupported, or the types of the items don't match field type in CollectionDef.\n",
      "'NoneType' object has no attribute 'name'\n"
     ]
    },
    {
     "name": "stdout",
     "output_type": "stream",
     "text": [
      "WARNING:tensorflow:Error encountered when serializing data_preprocessing.\n",
      "Type is unsupported, or the types of the items don't match field type in CollectionDef.\n",
      "'NoneType' object has no attribute 'name'\n"
     ]
    },
    {
     "name": "stderr",
     "output_type": "stream",
     "text": [
      "[2016-12-28 19:48:37,972] Error encountered when serializing data_preprocessing.\n",
      "Type is unsupported, or the types of the items don't match field type in CollectionDef.\n",
      "'NoneType' object has no attribute 'name'\n"
     ]
    },
    {
     "name": "stdout",
     "output_type": "stream",
     "text": [
      "Episode: 2099 --- Ave R: -143.0  |  Success: 0.00  |  crash: 1.00  |  Max R: -61.4  |  var: 0.32  |  lr:108.76*1e-4\n",
      "Episode: 2199 --- Ave R: -145.8  |  Success: 0.00  |  crash: 1.00  |  Max R: -22.7  |  var: 0.30  |  lr:105.50*1e-4\n",
      "Episode: 2299 --- Ave R: -141.0  |  Success: 0.00  |  crash: 1.00  |  Max R: -31.0  |  var: 0.30  |  lr:102.33*1e-4\n",
      "Episode: 2399 --- Ave R: -137.4  |  Success: 0.00  |  crash: 1.00  |  Max R: -58.4  |  var: 0.27  |  lr:99.26*1e-4\n",
      "Episode: 2499 --- Ave R: -137.8  |  Success: 0.00  |  crash: 1.00  |  Max R: -47.5  |  var: 0.31  |  lr:96.28*1e-4\n",
      "Episode: 2599 --- Ave R: -125.7  |  Success: 0.00  |  crash: 1.00  |  Max R: -72.8  |  var: 0.29  |  lr:93.39*1e-4\n",
      "Episode: 2699 --- Ave R: -134.3  |  Success: 0.00  |  crash: 1.00  |  Max R: -64.3  |  var: 0.30  |  lr:90.59*1e-4\n",
      "Episode: 2799 --- Ave R: -125.1  |  Success: 0.00  |  crash: 1.00  |  Max R: -57.3  |  var: 0.31  |  lr:87.88*1e-4\n",
      "Episode: 2899 --- Ave R: -125.1  |  Success: 0.00  |  crash: 1.00  |  Max R: -46.6  |  var: 0.28  |  lr:85.24*1e-4\n",
      "Episode: 2999 --- Ave R: -131.9  |  Success: 0.00  |  crash: 1.00  |  Max R: -28.7  |  var: 0.31  |  lr:82.68*1e-4\n",
      " ***** Saving...  at episode 2999 ******\n",
      "WARNING:tensorflow:Error encountered when serializing data_augmentation.\n",
      "Type is unsupported, or the types of the items don't match field type in CollectionDef.\n",
      "'NoneType' object has no attribute 'name'\n"
     ]
    },
    {
     "name": "stderr",
     "output_type": "stream",
     "text": [
      "[2016-12-28 19:49:59,688] Error encountered when serializing data_augmentation.\n",
      "Type is unsupported, or the types of the items don't match field type in CollectionDef.\n",
      "'NoneType' object has no attribute 'name'\n"
     ]
    },
    {
     "name": "stdout",
     "output_type": "stream",
     "text": [
      "WARNING:tensorflow:Error encountered when serializing data_preprocessing.\n",
      "Type is unsupported, or the types of the items don't match field type in CollectionDef.\n",
      "'NoneType' object has no attribute 'name'\n"
     ]
    },
    {
     "name": "stderr",
     "output_type": "stream",
     "text": [
      "[2016-12-28 19:49:59,692] Error encountered when serializing data_preprocessing.\n",
      "Type is unsupported, or the types of the items don't match field type in CollectionDef.\n",
      "'NoneType' object has no attribute 'name'\n"
     ]
    },
    {
     "name": "stdout",
     "output_type": "stream",
     "text": [
      "Episode: 3099 --- Ave R: -132.4  |  Success: 0.00  |  crash: 1.00  |  Max R: -65.0  |  var: 0.27  |  lr:80.20*1e-4\n",
      "Episode: 3199 --- Ave R: -138.5  |  Success: 0.00  |  crash: 1.00  |  Max R: -76.5  |  var: 0.27  |  lr:77.80*1e-4\n",
      "Episode: 3299 --- Ave R: -135.5  |  Success: 0.00  |  crash: 1.00  |  Max R: -54.4  |  var: 0.28  |  lr:75.46*1e-4\n",
      "Episode: 3399 --- Ave R: -131.4  |  Success: 0.00  |  crash: 1.00  |  Max R: -53.8  |  var: 0.31  |  lr:73.20*1e-4\n",
      "Episode: 3499 --- Ave R: -125.1  |  Success: 0.00  |  crash: 1.00  |  Max R: -40.6  |  var: 0.31  |  lr:71.00*1e-4\n",
      "Episode: 3599 --- Ave R: -124.3  |  Success: 0.00  |  crash: 1.00  |  Max R: -13.8  |  var: 0.29  |  lr:68.87*1e-4\n",
      "Episode: 3699 --- Ave R: -128.1  |  Success: 0.00  |  crash: 1.00  |  Max R: -66.8  |  var: 0.30  |  lr:66.81*1e-4\n",
      "Episode: 3799 --- Ave R: -124.1  |  Success: 0.00  |  crash: 1.00  |  Max R: -45.2  |  var: 0.30  |  lr:64.80*1e-4\n",
      "Episode: 3899 --- Ave R: -127.5  |  Success: 0.00  |  crash: 1.00  |  Max R: -39.9  |  var: 0.29  |  lr:62.86*1e-4\n",
      "Episode: 3999 --- Ave R: -126.0  |  Success: 0.00  |  crash: 0.99  |  Max R: -46.7  |  var: 0.30  |  lr:60.97*1e-4\n",
      " ***** Saving...  at episode 3999 ******\n",
      "WARNING:tensorflow:Error encountered when serializing data_augmentation.\n",
      "Type is unsupported, or the types of the items don't match field type in CollectionDef.\n",
      "'NoneType' object has no attribute 'name'\n"
     ]
    },
    {
     "name": "stderr",
     "output_type": "stream",
     "text": [
      "[2016-12-28 19:51:29,548] Error encountered when serializing data_augmentation.\n",
      "Type is unsupported, or the types of the items don't match field type in CollectionDef.\n",
      "'NoneType' object has no attribute 'name'\n"
     ]
    },
    {
     "name": "stdout",
     "output_type": "stream",
     "text": [
      "WARNING:tensorflow:Error encountered when serializing data_preprocessing.\n",
      "Type is unsupported, or the types of the items don't match field type in CollectionDef.\n",
      "'NoneType' object has no attribute 'name'\n"
     ]
    },
    {
     "name": "stderr",
     "output_type": "stream",
     "text": [
      "[2016-12-28 19:51:29,552] Error encountered when serializing data_preprocessing.\n",
      "Type is unsupported, or the types of the items don't match field type in CollectionDef.\n",
      "'NoneType' object has no attribute 'name'\n"
     ]
    },
    {
     "name": "stdout",
     "output_type": "stream",
     "text": [
      "Episode: 4099 --- Ave R: -126.6  |  Success: 0.00  |  crash: 1.00  |  Max R: -60.0  |  var: 0.31  |  lr:59.14*1e-4\n",
      "Episode: 4199 --- Ave R: -123.0  |  Success: 0.00  |  crash: 1.00  |  Max R: -47.6  |  var: 0.30  |  lr:57.37*1e-4\n",
      "Episode: 4299 --- Ave R: -115.7  |  Success: 0.00  |  crash: 1.00  |  Max R: -7.7  |  var: 0.30  |  lr:55.65*1e-4\n",
      "Episode: 4399 --- Ave R: -115.1  |  Success: 0.00  |  crash: 1.00  |  Max R: -45.2  |  var: 0.30  |  lr:53.98*1e-4\n",
      "Episode: 4499 --- Ave R: -122.8  |  Success: 0.00  |  crash: 1.00  |  Max R: -43.7  |  var: 0.30  |  lr:52.36*1e-4\n",
      "Episode: 4599 --- Ave R: -120.5  |  Success: 0.00  |  crash: 1.00  |  Max R: -47.4  |  var: 0.30  |  lr:50.79*1e-4\n",
      "Episode: 4699 --- Ave R: -110.7  |  Success: 0.00  |  crash: 1.00  |  Max R: -27.5  |  var: 0.30  |  lr:49.26*1e-4\n",
      "Episode: 4799 --- Ave R: -116.3  |  Success: 0.00  |  crash: 1.00  |  Max R: 4.8  |  var: 0.32  |  lr:47.79*1e-4\n",
      "Episode: 4899 --- Ave R: -116.3  |  Success: 0.00  |  crash: 0.99  |  Max R: -22.5  |  var: 0.32  |  lr:46.35*1e-4\n",
      "Episode: 4999 --- Ave R: -114.3  |  Success: 0.00  |  crash: 1.00  |  Max R: -46.3  |  var: 0.33  |  lr:44.96*1e-4\n",
      " ***** Saving...  at episode 4999 ******\n",
      "WARNING:tensorflow:Error encountered when serializing data_augmentation.\n",
      "Type is unsupported, or the types of the items don't match field type in CollectionDef.\n",
      "'NoneType' object has no attribute 'name'\n"
     ]
    },
    {
     "name": "stderr",
     "output_type": "stream",
     "text": [
      "[2016-12-28 19:53:14,989] Error encountered when serializing data_augmentation.\n",
      "Type is unsupported, or the types of the items don't match field type in CollectionDef.\n",
      "'NoneType' object has no attribute 'name'\n"
     ]
    },
    {
     "name": "stdout",
     "output_type": "stream",
     "text": [
      "WARNING:tensorflow:Error encountered when serializing data_preprocessing.\n",
      "Type is unsupported, or the types of the items don't match field type in CollectionDef.\n",
      "'NoneType' object has no attribute 'name'\n"
     ]
    },
    {
     "name": "stderr",
     "output_type": "stream",
     "text": [
      "[2016-12-28 19:53:14,995] Error encountered when serializing data_preprocessing.\n",
      "Type is unsupported, or the types of the items don't match field type in CollectionDef.\n",
      "'NoneType' object has no attribute 'name'\n"
     ]
    },
    {
     "name": "stdout",
     "output_type": "stream",
     "text": [
      "Episode: 5099 --- Ave R: -111.4  |  Success: 0.00  |  crash: 1.00  |  Max R: -18.5  |  var: 0.31  |  lr:43.61*1e-4\n",
      "Episode: 5199 --- Ave R: -107.8  |  Success: 0.00  |  crash: 0.99  |  Max R: 11.5  |  var: 0.32  |  lr:42.30*1e-4\n",
      "Episode: 5299 --- Ave R: -112.0  |  Success: 0.00  |  crash: 1.00  |  Max R: -32.4  |  var: 0.31  |  lr:41.04*1e-4\n",
      "Episode: 5399 --- Ave R: -115.7  |  Success: 0.00  |  crash: 0.99  |  Max R: 9.0  |  var: 0.35  |  lr:39.80*1e-4\n",
      "Episode: 5499 --- Ave R: -124.2  |  Success: 0.00  |  crash: 1.00  |  Max R: -43.8  |  var: 0.32  |  lr:38.61*1e-4\n",
      "Episode: 5599 --- Ave R: -127.5  |  Success: 0.00  |  crash: 1.00  |  Max R: -37.0  |  var: 0.31  |  lr:37.45*1e-4\n",
      "Episode: 5699 --- Ave R: -118.4  |  Success: 0.00  |  crash: 0.99  |  Max R: -11.8  |  var: 0.38  |  lr:36.33*1e-4\n",
      "Episode: 5799 --- Ave R: -117.5  |  Success: 0.00  |  crash: 1.00  |  Max R: -2.5  |  var: 0.31  |  lr:35.24*1e-4\n",
      "Episode: 5899 --- Ave R: -125.3  |  Success: 0.00  |  crash: 1.00  |  Max R: -34.3  |  var: 0.36  |  lr:34.18*1e-4\n",
      "Episode: 5999 --- Ave R: -144.2  |  Success: 0.00  |  crash: 1.00  |  Max R: -28.5  |  var: 0.35  |  lr:33.16*1e-4\n",
      " ***** Saving...  at episode 5999 ******\n",
      "WARNING:tensorflow:Error encountered when serializing data_augmentation.\n",
      "Type is unsupported, or the types of the items don't match field type in CollectionDef.\n",
      "'NoneType' object has no attribute 'name'\n"
     ]
    },
    {
     "name": "stderr",
     "output_type": "stream",
     "text": [
      "[2016-12-28 19:55:39,106] Error encountered when serializing data_augmentation.\n",
      "Type is unsupported, or the types of the items don't match field type in CollectionDef.\n",
      "'NoneType' object has no attribute 'name'\n"
     ]
    },
    {
     "name": "stdout",
     "output_type": "stream",
     "text": [
      "WARNING:tensorflow:Error encountered when serializing data_preprocessing.\n",
      "Type is unsupported, or the types of the items don't match field type in CollectionDef.\n",
      "'NoneType' object has no attribute 'name'\n"
     ]
    },
    {
     "name": "stderr",
     "output_type": "stream",
     "text": [
      "[2016-12-28 19:55:39,112] Error encountered when serializing data_preprocessing.\n",
      "Type is unsupported, or the types of the items don't match field type in CollectionDef.\n",
      "'NoneType' object has no attribute 'name'\n"
     ]
    },
    {
     "name": "stdout",
     "output_type": "stream",
     "text": [
      "Episode: 6099 --- Ave R: -134.3  |  Success: 0.00  |  crash: 0.98  |  Max R: -13.8  |  var: 0.32  |  lr:32.16*1e-4\n",
      "Episode: 6199 --- Ave R: -128.3  |  Success: 0.00  |  crash: 0.99  |  Max R: -23.8  |  var: 0.32  |  lr:31.20*1e-4\n",
      "Episode: 6299 --- Ave R: -111.7  |  Success: 0.00  |  crash: 1.00  |  Max R: -3.3  |  var: 0.32  |  lr:30.26*1e-4\n",
      "Episode: 6399 --- Ave R: -109.2  |  Success: 0.00  |  crash: 0.99  |  Max R: 0.2  |  var: 0.34  |  lr:29.35*1e-4\n",
      "Episode: 6499 --- Ave R: -112.3  |  Success: 0.00  |  crash: 1.00  |  Max R: -42.0  |  var: 0.32  |  lr:28.47*1e-4\n",
      "Episode: 6599 --- Ave R: -111.2  |  Success: 0.00  |  crash: 1.00  |  Max R: -9.4  |  var: 0.35  |  lr:27.62*1e-4\n",
      "Episode: 6699 --- Ave R: -108.1  |  Success: 0.00  |  crash: 1.00  |  Max R: -2.9  |  var: 0.34  |  lr:26.79*1e-4\n",
      "Episode: 6799 --- Ave R: -110.9  |  Success: 0.00  |  crash: 1.00  |  Max R: -26.1  |  var: 0.36  |  lr:25.99*1e-4\n",
      "Episode: 6899 --- Ave R: -118.4  |  Success: 0.00  |  crash: 1.00  |  Max R: -37.3  |  var: 0.32  |  lr:25.21*1e-4\n",
      "Episode: 6999 --- Ave R: -108.4  |  Success: 0.00  |  crash: 0.98  |  Max R: -0.3  |  var: 0.32  |  lr:24.45*1e-4\n",
      " ***** Saving...  at episode 6999 ******\n",
      "WARNING:tensorflow:Error encountered when serializing data_augmentation.\n",
      "Type is unsupported, or the types of the items don't match field type in CollectionDef.\n",
      "'NoneType' object has no attribute 'name'\n"
     ]
    },
    {
     "name": "stderr",
     "output_type": "stream",
     "text": [
      "[2016-12-28 19:58:16,016] Error encountered when serializing data_augmentation.\n",
      "Type is unsupported, or the types of the items don't match field type in CollectionDef.\n",
      "'NoneType' object has no attribute 'name'\n"
     ]
    },
    {
     "name": "stdout",
     "output_type": "stream",
     "text": [
      "WARNING:tensorflow:Error encountered when serializing data_preprocessing.\n",
      "Type is unsupported, or the types of the items don't match field type in CollectionDef.\n",
      "'NoneType' object has no attribute 'name'\n"
     ]
    },
    {
     "name": "stderr",
     "output_type": "stream",
     "text": [
      "[2016-12-28 19:58:16,021] Error encountered when serializing data_preprocessing.\n",
      "Type is unsupported, or the types of the items don't match field type in CollectionDef.\n",
      "'NoneType' object has no attribute 'name'\n"
     ]
    },
    {
     "name": "stdout",
     "output_type": "stream",
     "text": [
      "Episode: 7099 --- Ave R: -106.5  |  Success: 0.00  |  crash: 1.00  |  Max R: -0.6  |  var: 0.35  |  lr:23.72*1e-4\n",
      "Episode: 7199 --- Ave R: -114.4  |  Success: 0.00  |  crash: 1.00  |  Max R: -9.5  |  var: 0.33  |  lr:23.01*1e-4\n",
      "Episode: 7299 --- Ave R: -112.7  |  Success: 0.00  |  crash: 1.00  |  Max R: -3.8  |  var: 0.36  |  lr:22.31*1e-4\n",
      "Episode: 7399 --- Ave R: -122.4  |  Success: 0.00  |  crash: 0.99  |  Max R: -22.9  |  var: 0.33  |  lr:21.65*1e-4\n",
      "Episode: 7499 --- Ave R: -107.7  |  Success: 0.00  |  crash: 0.99  |  Max R: 1.4  |  var: 0.39  |  lr:21.00*1e-4\n",
      "Episode: 7599 --- Ave R: -108.6  |  Success: 0.00  |  crash: 0.99  |  Max R: 11.4  |  var: 0.42  |  lr:20.37*1e-4\n",
      "Episode: 7699 --- Ave R: -109.2  |  Success: 0.00  |  crash: 0.99  |  Max R: 6.4  |  var: 0.38  |  lr:19.76*1e-4\n",
      "Episode: 7799 --- Ave R: -115.3  |  Success: 0.00  |  crash: 0.99  |  Max R: -4.4  |  var: 0.39  |  lr:19.16*1e-4\n",
      "Episode: 7899 --- Ave R: -128.0  |  Success: 0.00  |  crash: 0.98  |  Max R: 9.7  |  var: 0.36  |  lr:18.59*1e-4\n",
      "Episode: 7999 --- Ave R: -120.5  |  Success: 0.00  |  crash: 0.96  |  Max R: -18.4  |  var: 0.33  |  lr:18.03*1e-4\n",
      " ***** Saving...  at episode 7999 ******\n",
      "WARNING:tensorflow:Error encountered when serializing data_augmentation.\n",
      "Type is unsupported, or the types of the items don't match field type in CollectionDef.\n",
      "'NoneType' object has no attribute 'name'\n"
     ]
    },
    {
     "name": "stderr",
     "output_type": "stream",
     "text": [
      "[2016-12-28 20:01:43,311] Error encountered when serializing data_augmentation.\n",
      "Type is unsupported, or the types of the items don't match field type in CollectionDef.\n",
      "'NoneType' object has no attribute 'name'\n"
     ]
    },
    {
     "name": "stdout",
     "output_type": "stream",
     "text": [
      "WARNING:tensorflow:Error encountered when serializing data_preprocessing.\n",
      "Type is unsupported, or the types of the items don't match field type in CollectionDef.\n",
      "'NoneType' object has no attribute 'name'\n"
     ]
    },
    {
     "name": "stderr",
     "output_type": "stream",
     "text": [
      "[2016-12-28 20:01:43,316] Error encountered when serializing data_preprocessing.\n",
      "Type is unsupported, or the types of the items don't match field type in CollectionDef.\n",
      "'NoneType' object has no attribute 'name'\n"
     ]
    },
    {
     "name": "stdout",
     "output_type": "stream",
     "text": [
      "Episode: 8099 --- Ave R: -126.8  |  Success: 0.00  |  crash: 0.98  |  Max R: -14.7  |  var: 0.34  |  lr:17.49*1e-4\n",
      "Episode: 8199 --- Ave R: -125.2  |  Success: 0.00  |  crash: 0.96  |  Max R: 12.8  |  var: 0.36  |  lr:16.96*1e-4\n",
      "Episode: 8299 --- Ave R: -106.9  |  Success: 0.00  |  crash: 0.98  |  Max R: 7.5  |  var: 0.33  |  lr:16.46*1e-4\n",
      "Episode: 8399 --- Ave R: -124.4  |  Success: 0.00  |  crash: 1.00  |  Max R: 3.2  |  var: 0.35  |  lr:15.96*1e-4\n",
      "Episode: 8499 --- Ave R: -128.2  |  Success: 0.00  |  crash: 1.00  |  Max R: -9.9  |  var: 0.34  |  lr:15.48*1e-4\n",
      "Episode: 8599 --- Ave R: -115.5  |  Success: 0.00  |  crash: 1.00  |  Max R: -12.0  |  var: 0.36  |  lr:15.02*1e-4\n",
      "Episode: 8699 --- Ave R: -134.8  |  Success: 0.00  |  crash: 1.00  |  Max R: -32.2  |  var: 0.35  |  lr:14.57*1e-4\n",
      "Episode: 8799 --- Ave R: -125.2  |  Success: 0.00  |  crash: 0.99  |  Max R: -11.4  |  var: 0.37  |  lr:14.13*1e-4\n",
      "Episode: 8899 --- Ave R: -112.9  |  Success: 0.00  |  crash: 1.00  |  Max R: -8.1  |  var: 0.33  |  lr:13.71*1e-4\n",
      "Episode: 8999 --- Ave R: -103.3  |  Success: 0.00  |  crash: 1.00  |  Max R: -11.8  |  var: 0.35  |  lr:13.30*1e-4\n",
      " ***** Saving...  at episode 8999 ******\n",
      "WARNING:tensorflow:Error encountered when serializing data_augmentation.\n",
      "Type is unsupported, or the types of the items don't match field type in CollectionDef.\n",
      "'NoneType' object has no attribute 'name'\n"
     ]
    },
    {
     "name": "stderr",
     "output_type": "stream",
     "text": [
      "[2016-12-28 20:05:28,559] Error encountered when serializing data_augmentation.\n",
      "Type is unsupported, or the types of the items don't match field type in CollectionDef.\n",
      "'NoneType' object has no attribute 'name'\n"
     ]
    },
    {
     "name": "stdout",
     "output_type": "stream",
     "text": [
      "WARNING:tensorflow:Error encountered when serializing data_preprocessing.\n",
      "Type is unsupported, or the types of the items don't match field type in CollectionDef.\n",
      "'NoneType' object has no attribute 'name'\n"
     ]
    },
    {
     "name": "stderr",
     "output_type": "stream",
     "text": [
      "[2016-12-28 20:05:28,565] Error encountered when serializing data_preprocessing.\n",
      "Type is unsupported, or the types of the items don't match field type in CollectionDef.\n",
      "'NoneType' object has no attribute 'name'\n"
     ]
    },
    {
     "name": "stdout",
     "output_type": "stream",
     "text": [
      "Episode: 9099 --- Ave R: -95.3  |  Success: 0.00  |  crash: 1.00  |  Max R: -11.8  |  var: 0.34  |  lr:12.90*1e-4\n",
      "Episode: 9199 --- Ave R: -101.6  |  Success: 0.00  |  crash: 1.00  |  Max R: -14.9  |  var: 0.33  |  lr:12.51*1e-4\n",
      "Episode: 9299 --- Ave R: -121.0  |  Success: 0.00  |  crash: 0.99  |  Max R: 4.0  |  var: 0.35  |  lr:12.13*1e-4\n",
      "Episode: 9399 --- Ave R: -101.0  |  Success: 0.00  |  crash: 0.99  |  Max R: 7.2  |  var: 0.36  |  lr:11.77*1e-4\n",
      "Episode: 9499 --- Ave R: -107.8  |  Success: 0.00  |  crash: 0.99  |  Max R: -20.1  |  var: 0.36  |  lr:11.42*1e-4\n",
      "Episode: 9599 --- Ave R: -102.9  |  Success: 0.00  |  crash: 0.97  |  Max R: 8.0  |  var: 0.34  |  lr:11.08*1e-4\n",
      "Episode: 9699 --- Ave R: -121.0  |  Success: 0.00  |  crash: 0.99  |  Max R: -20.2  |  var: 0.37  |  lr:10.74*1e-4\n",
      "Episode: 9799 --- Ave R: -119.0  |  Success: 0.00  |  crash: 1.00  |  Max R: -5.8  |  var: 0.35  |  lr:10.42*1e-4\n",
      "Episode: 9899 --- Ave R: -116.6  |  Success: 0.00  |  crash: 0.98  |  Max R: -17.3  |  var: 0.39  |  lr:10.11*1e-4\n",
      "Episode: 9999 --- Ave R: -103.6  |  Success: 0.00  |  crash: 1.00  |  Max R: -31.4  |  var: 0.34  |  lr:9.80*1e-4\n",
      " ***** Saving...  at episode 9999 ******\n",
      "WARNING:tensorflow:Error encountered when serializing data_augmentation.\n",
      "Type is unsupported, or the types of the items don't match field type in CollectionDef.\n",
      "'NoneType' object has no attribute 'name'\n"
     ]
    },
    {
     "name": "stderr",
     "output_type": "stream",
     "text": [
      "[2016-12-28 20:08:50,358] Error encountered when serializing data_augmentation.\n",
      "Type is unsupported, or the types of the items don't match field type in CollectionDef.\n",
      "'NoneType' object has no attribute 'name'\n"
     ]
    },
    {
     "name": "stdout",
     "output_type": "stream",
     "text": [
      "WARNING:tensorflow:Error encountered when serializing data_preprocessing.\n",
      "Type is unsupported, or the types of the items don't match field type in CollectionDef.\n",
      "'NoneType' object has no attribute 'name'\n"
     ]
    },
    {
     "name": "stderr",
     "output_type": "stream",
     "text": [
      "[2016-12-28 20:08:50,363] Error encountered when serializing data_preprocessing.\n",
      "Type is unsupported, or the types of the items don't match field type in CollectionDef.\n",
      "'NoneType' object has no attribute 'name'\n"
     ]
    },
    {
     "name": "stdout",
     "output_type": "stream",
     "text": [
      "DONE\n"
     ]
    }
   ],
   "source": [
    "#game = test_env()\n",
    "print_ep = 100\n",
    "save_ep = 1000\n",
    "lr_decay_ep = 100\n",
    "lr = LEARNING_RATE\n",
    "buff.clear()\n",
    "last_ep = 0\n",
    "start_update = 0\n",
    "with tf.Session(graph=graph) as sess:\n",
    "    actor.set_up(sess)\n",
    "    critic.set_up(sess)\n",
    "    sess.run(tf.initialize_all_variables())\n",
    "    \n",
    "    #saver = tf.train.Saver()\n",
    "    #filename = './saved_nets - last/Episod_4999.chk'\n",
    "    #saver.restore(sess, filename)\n",
    "    #pdb.set_trace()\n",
    "    ep_reward = np.zeros(MAX_EPISODE)\n",
    "    ep_success = np.zeros(MAX_EPISODE)\n",
    "    ep_crash = np.zeros(MAX_EPISODE)\n",
    "    avg_var = 0\n",
    "    \n",
    "    for ep in xrange(MAX_EPISODE):\n",
    "        s = game.reset()\n",
    "        var = 0\n",
    "        #ep_reward[ep] = 0\n",
    "        #print(ep)\n",
    "        for st in xrange(MAX_STEP):\n",
    "            A = actor.take_action(s.reshape(-1,info.dim_s))\n",
    "            a = np.argmax(A)\n",
    "            s2, r, terminal, report = game.step(a)\n",
    "            \n",
    "            #print(terminal, r)\n",
    "            #s2, r = game.step(a)\n",
    "            #terminal = 1\n",
    "            #print('s: %d,  a: %d,   s2: %d,   r: %d' %(s, np.argmax(A), s2, r))\n",
    "            \n",
    "            buff.add(np.reshape(s, (actor.dim_s,)).astype(np.float32), np.reshape(A, (actor.dim_a,)).astype(np.float32),\\\n",
    "                     np.array(r).astype(np.float32), np.reshape(s2, (actor.dim_s,)).astype(np.float32),\\\n",
    "                     np.reshape(terminal, (1,)))\n",
    "\n",
    "            ep_reward[ep] += (1.*r)\n",
    "            #pdb.set_trace()\n",
    "            var += np.sum(actor.give_policy(s.reshape(-1,info.dim_s))**2)\n",
    "            s = s2\n",
    "            #if buff.size() > MINIBATCH_SIZE:\n",
    "            \n",
    "            \n",
    "            \n",
    "            if terminal:\n",
    "                var = var/st\n",
    "                avg_var += (var/print_ep)\n",
    "                break\n",
    "                \n",
    "        if ((ep % MINIBATCH_SIZE) == (MINIBATCH_SIZE -1)):\n",
    "            (s_batch, a_batch, r_batch, s2_batch, t_batch) = \\\n",
    "                buff.sample_batch(MINIBATCH_SIZE)\n",
    "            start_update = 1\n",
    "            s_batch = np.array(s_batch).reshape(-1, info.dim_s)\n",
    "            s2_batch = np.array(s2_batch).reshape(-1, info.dim_s)\n",
    "            a_batch = np.array(a_batch).reshape(-1, info.dim_a)\n",
    "            r_batch = np.array(r_batch).reshape(-1, 1)\n",
    "            t_batch = np.array(t_batch).reshape(-1, 1)\n",
    "\n",
    "            \n",
    "\n",
    "            #Q_2 = critic.predict_target(s2_batch)\n",
    "            Q_2 = critic.predict(s2_batch)\n",
    "\n",
    "            R_batch = r_batch + GAMMA * Q_2 * (1-t_batch)\n",
    "            #if(np.max(t_batch) == 1):\n",
    "            #pdb.set_trace()\n",
    "\n",
    "            predicted_Q, _ = critic.train(s_batch, np.reshape(R_batch, (-1, 1)), lr/2)\n",
    "            #predicted_Q, _ = critic.train(s_batch, R_batch, lr/2)\n",
    "\n",
    "            td_batch = R_batch - predicted_Q\n",
    "            #pdb.set_trace()\n",
    "            actor.train(s_batch, a_batch, np.reshape(td_batch, (-1, 1)), lr)\n",
    "            #pdb.set_trace()\n",
    "                \n",
    "        if terminal == False:\n",
    "            var = var/MAX_STEP\n",
    "            avg_var += (var/print_ep)\n",
    "        if (r >= 100):\n",
    "            ep_success[ep] = 1\n",
    "        elif (r <= -100):\n",
    "            ep_crash[ep] = 1\n",
    "        #if(start_update):\n",
    "        #    actor.update_target_network\n",
    "        #    critic.update_target_network\n",
    "        \n",
    "        if ((ep % print_ep) == (print_ep-1)) or (ep == 0):\n",
    "            print('Episode: %d --- Ave R: %.1f  |  Success: %.2f  |  crash: %.2f  |  Max R: %.1f  |  var: %.2f  |  lr:%.2f*1e-4'\\\n",
    "                  %(ep, np.mean(ep_reward[last_ep:ep+1]), np.mean(ep_success[last_ep:ep+1]), \\\n",
    "                    np.mean(ep_crash[last_ep:ep+1]), np.amax(ep_reward[last_ep:ep+1]), var, 1e4*lr))\n",
    "            last_ep = ep\n",
    "            avg_var = 0\n",
    "        if (ep % save_ep) == (save_ep-1):\n",
    "            print(' ***** Saving...  at episode %d ******' %ep)\n",
    "            saver = tf.train.Saver()\n",
    "            filename = './saved_nets/Episod_' + str(ep) + '.chk'\n",
    "            try:\n",
    "                saver.save(sess, filename)\n",
    "            except:\n",
    "                os.mkdir('./saved_nets')  \n",
    "            with open('./saved_nets/rewards_file.txt', 'w') as f:\n",
    "                for i in xrange(MAX_EPISODE):\n",
    "                    f.write('%f\\n' %ep_reward[i])\n",
    "        if (ep % lr_decay_ep) == (lr_decay_ep-1):\n",
    "            lr = 1 * lr\n",
    "            \n",
    "            \n",
    "            \n",
    "    \n",
    "print('DONE') \n",
    "    "
   ]
  },
  {
   "cell_type": "code",
   "execution_count": null,
   "metadata": {
    "collapsed": false
   },
   "outputs": [],
   "source": [
    "EP = MAX_EPISODE - 1\n",
    "with tf.Session(graph=graph) as sess:\n",
    "    \n",
    "    actor.set_up(sess)\n",
    "    critic.set_up(sess)\n",
    "    sess.run(tf.initialize_all_variables())\n",
    "    saver = tf.train.Saver()\n",
    "    filename = './saved_nets/Episod_' + str(EP) + '.chk'\n",
    "    saver.restore(sess, filename)\n",
    "    \n",
    "    ep_reward = 0\n",
    "    s = game.reset()\n",
    "    for st in xrange(MAX_STEP):\n",
    "        game.render()\n",
    "        print(actor.give_policy(s.reshape(-1,info.dim_s)))\n",
    "        A = actor.take_action(s.reshape(-1,info.dim_s))\n",
    "        a = np.argmax(A)\n",
    "        s2, r, terminal, report = game.step(a)\n",
    "        s = s2\n",
    "        ep_reward += (1.*r)\n",
    "        if terminal:\n",
    "            break\n",
    "    print(r)\n",
    "    print('reward:%f' %np.mean(ep_reward))"
   ]
  },
  {
   "cell_type": "code",
   "execution_count": null,
   "metadata": {
    "collapsed": false
   },
   "outputs": [],
   "source": [
    "with open('rewards_file.txt', 'w') as f:\n",
    "    for i in xrange(MAX_EPISODE):\n",
    "        f.write('%f\\n' %ep_reward[i])\n"
   ]
  },
  {
   "cell_type": "markdown",
   "metadata": {},
   "source": [
    "## "
   ]
  }
 ],
 "metadata": {
  "kernelspec": {
   "display_name": "Python 2",
   "language": "python",
   "name": "python2"
  },
  "language_info": {
   "codemirror_mode": {
    "name": "ipython",
    "version": 2
   },
   "file_extension": ".py",
   "mimetype": "text/x-python",
   "name": "python",
   "nbconvert_exporter": "python",
   "pygments_lexer": "ipython2",
   "version": "2.7.13rc1"
  }
 },
 "nbformat": 4,
 "nbformat_minor": 0
}
