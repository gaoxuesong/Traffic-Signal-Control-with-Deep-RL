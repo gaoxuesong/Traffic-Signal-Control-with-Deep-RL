{
 "cells": [
  {
   "cell_type": "code",
   "execution_count": 2,
   "metadata": {
    "collapsed": false
   },
   "outputs": [],
   "source": [
    "import numpy as np\n",
    "import tensorflow as tf \n",
    "import tflearn\n",
    "from collections import deque\n",
    "import random\n",
    "import pdb\n",
    "from replay_memory import ReplayMemory\n",
    "#from AC_networks import ActorNet, CriticNet\n",
    "from AC_networks_2 import AC_Net\n",
    "from test_game import test_env\n",
    "import os"
   ]
  },
  {
   "cell_type": "code",
   "execution_count": 3,
   "metadata": {
    "collapsed": false
   },
   "outputs": [],
   "source": [
    "class input_struct:\n",
    "    def __init__(self, net):\n",
    "        self.net = net\n"
   ]
  },
  {
   "cell_type": "code",
   "execution_count": 4,
   "metadata": {
    "collapsed": false
   },
   "outputs": [
    {
     "data": {
      "text/plain": [
       "'import gym\\ngame = gym.make(\\'LunarLander-v2\\')\\n#game = gym.make(\\'CartPole-v0\\')\\nstate_dim = game.observation_space.shape[0]\\naction_dim = game.action_space.n\\n#for i_episode in range(20):\\n#    observation = env.reset()\\n#    for t in range(100):\\n#        env.render()\\n#        print(observation)\\n#        action = env.action_space.sample()\\n#        observation, reward, done, info = env.step(action)\\n#        if done:\\n#            print(\"Episode finished after {} timesteps\".format(t+1))\\n#            break\\n'"
      ]
     },
     "execution_count": 4,
     "metadata": {},
     "output_type": "execute_result"
    }
   ],
   "source": [
    "'''import gym\n",
    "game = gym.make('LunarLander-v2')\n",
    "#game = gym.make('CartPole-v0')\n",
    "state_dim = game.observation_space.shape[0]\n",
    "action_dim = game.action_space.n\n",
    "#for i_episode in range(20):\n",
    "#    observation = env.reset()\n",
    "#    for t in range(100):\n",
    "#        env.render()\n",
    "#        print(observation)\n",
    "#        action = env.action_space.sample()\n",
    "#        observation, reward, done, info = env.step(action)\n",
    "#        if done:\n",
    "#            print(\"Episode finished after {} timesteps\".format(t+1))\n",
    "#            break\n",
    "'''"
   ]
  },
  {
   "cell_type": "code",
   "execution_count": 9,
   "metadata": {
    "collapsed": false
   },
   "outputs": [],
   "source": [
    "# info = graph, dim_s, dim_a, hid_layers, learning_rate, tau\n",
    "MAX_EPISODE = 1000\n",
    "MAX_STEP = 1000\n",
    "#MINIBATCH_SIZE = 16\n",
    "GAMMA = 0.99\n",
    "LEARNING_RATE = 1e-3 #7e-5 lr/2\n",
    "ENTROPY_BETA = 0\n",
    "#buff = ReplayMemory(500)\n",
    "info = input_struct('actor')\n",
    "try:\n",
    "    actor\n",
    "except:\n",
    "    pass\n",
    "else:\n",
    "    AC_src.reset_net() \n",
    "    \n",
    "graph = tf.Graph()\n",
    "with graph.as_default():\n",
    "    info.graph = graph\n",
    "    info.dim_s = 1#state_dim\n",
    "    info.dim_a = 2#action_dim\n",
    "    info.shared_layers = np.array([64])\n",
    "    info.act_hid_layers = np.array([32])\n",
    "    info.crit_hid_layers = np.array([32])\n",
    "    info.learning_rate = LEARNING_RATE\n",
    "    info.entropy_beta = ENTROPY_BETA\n",
    "    thread = -1\n",
    "    AC_src = AC_Net(info, thread)\n",
    "    thread = 1\n",
    "    AC_dst = AC_Net(info, thread)\n",
    "    "
   ]
  },
  {
   "cell_type": "code",
   "execution_count": null,
   "metadata": {
    "collapsed": false
   },
   "outputs": [
    {
     "name": "stdout",
     "output_type": "stream",
     "text": [
      "Episode: 0 --- Ave R: 70.0  |  Success: 1.00  |  crash: 0.00  |  Max R: 70.0  |  var: 0.55  |  lr:10.00*1e-4\n",
      "Episode: 99 --- Ave R: 50.1  |  Success: 1.00  |  crash: 0.00  |  Max R: 96.0  |  var: 0.67  |  lr:10.00*1e-4\n",
      "Episode: 199 --- Ave R: 89.3  |  Success: 1.00  |  crash: 0.00  |  Max R: 96.0  |  var: 0.99  |  lr:10.00*1e-4\n",
      "Episode: 299 --- Ave R: 94.8  |  Success: 1.00  |  crash: 0.00  |  Max R: 96.0  |  var: 1.11  |  lr:10.00*1e-4\n",
      "Episode: 399 --- Ave R: 95.6  |  Success: 1.00  |  crash: 0.00  |  Max R: 96.0  |  var: 1.19  |  lr:10.00*1e-4\n",
      "Episode: 499 --- Ave R: 95.8  |  Success: 1.00  |  crash: 0.00  |  Max R: 96.0  |  var: 1.09  |  lr:10.00*1e-4\n",
      "Episode: 599 --- Ave R: 95.3  |  Success: 1.00  |  crash: 0.00  |  Max R: 96.0  |  var: 1.24  |  lr:10.00*1e-4\n",
      "Episode: 699 --- Ave R: 96.0  |  Success: 1.00  |  crash: 0.00  |  Max R: 96.0  |  var: 1.23  |  lr:10.00*1e-4\n",
      "Episode: 799 --- Ave R: 96.0  |  Success: 1.00  |  crash: 0.00  |  Max R: 96.0  |  var: 1.23  |  lr:10.00*1e-4\n",
      "Episode: 899 --- Ave R: 96.0  |  Success: 1.00  |  crash: 0.00  |  Max R: 96.0  |  var: 1.25  |  lr:10.00*1e-4\n",
      "Episode: 999 --- Ave R: 96.0  |  Success: 1.00  |  crash: 0.00  |  Max R: 96.0  |  var: 1.24  |  lr:10.00*1e-4\n",
      "> <ipython-input-11-24d86ad00d56>(109)<module>()\n",
      "-> AC_dst.sync_from_source(AC_src)\n",
      "(Pdb) c\n",
      "> /mnt/notebooks/AC_networks_2.py(147)sync_from_source()\n",
      "-> self.update_op = self.w_shared[0].assign(src_net.w_shared[0])\n",
      "(Pdb) c\n",
      "> <ipython-input-11-24d86ad00d56>(112)<module>()\n",
      "-> ep_dst = 0\n",
      "(Pdb) c\n",
      "> <ipython-input-11-24d86ad00d56>(123)<module>()\n",
      "-> print('dest_reward: %f' %(ep_dst))\n",
      "(Pdb) AC_dst.give_policy([[0\n",
      "*** SyntaxError: unexpected EOF while parsing (<stdin>, line 1)\n",
      "(Pdb) AC_dst.give_policy([[0]])\n",
      "array([[ 0.5,  0.5]], dtype=float32)\n",
      "(Pdb) AC_dst.give_policy([[4]])\n",
      "array([[ 0.50206167,  0.49793839]], dtype=float32)\n",
      "(Pdb) q\n"
     ]
    }
   ],
   "source": [
    "game = test_env()\n",
    "print_ep = 100\n",
    "save_ep = 1000\n",
    "lr_decay_ep = 100\n",
    "lr = LEARNING_RATE\n",
    "#buff.clear()\n",
    "last_ep = 0\n",
    "start_update = 0\n",
    "with tf.Session(graph=graph) as sess:\n",
    "    AC_src.set_up(sess)\n",
    "    AC_dst.set_up(sess)\n",
    "    sess.run(tf.initialize_all_variables())\n",
    "    \n",
    "    #saver = tf.train.Saver()\n",
    "    #filename = './saved_nets - last/Episod_4999.chk'\n",
    "    #saver.restore(sess, filename)\n",
    "    #pdb.set_trace()\n",
    "    ep_reward = np.zeros(MAX_EPISODE)\n",
    "    ep_success = np.zeros(MAX_EPISODE)\n",
    "    ep_crash = np.zeros(MAX_EPISODE)\n",
    "    avg_var = 0\n",
    "    \n",
    "    for ep in xrange(MAX_EPISODE):\n",
    "        s = game.reset()\n",
    "        var = 0\n",
    "        #ep_reward[ep] = 0\n",
    "        #print(ep)\n",
    "        for st in xrange(MAX_STEP):\n",
    "            A = AC_src.take_action(s.reshape(-1,info.dim_s))\n",
    "            a = np.argmax(A)\n",
    "            s2, r, terminal, report = game.step(A) # A changes to a\n",
    "            \n",
    "            #print(terminal, r)\n",
    "            #s2, r = game.step(a)\n",
    "            #terminal = 1\n",
    "            #print('s: %d,  a: %d,   s2: %d,   r: %d' %(s, np.argmax(A), s2, r))\n",
    "            \n",
    "            #buff.add(np.reshape(s, (actor.dim_s,)).astype(np.float32), np.reshape(A, (actor.dim_a,)).astype(np.float32),\\\n",
    "            #         np.array(r).astype(np.float32), np.reshape(s2, (actor.dim_s,)).astype(np.float32),\\\n",
    "            #         np.reshape(terminal, (1,)))\n",
    "\n",
    "            #pdb.set_trace()\n",
    "            #if buff.size() > MINIBATCH_SIZE:\n",
    "            if True:\n",
    "                (s_batch, a_batch, r_batch, s2_batch, t_batch) = (s, A, r, s2, terminal)#\\\n",
    "                    #buff.sample_batch(MINIBATCH_SIZE)\n",
    "                start_update = 1\n",
    "                #pdb.set_trace()\n",
    "                s_batch = np.array(s_batch).reshape(-1, info.dim_s)\n",
    "                s2_batch = np.array(s2_batch).reshape(-1, info.dim_s)\n",
    "                a_batch = np.array(a_batch).reshape(-1, info.dim_a)\n",
    "                r_batch = np.array(r_batch).reshape(-1, 1)\n",
    "                t_batch = np.array(t_batch).reshape(-1, 1)\n",
    "                \n",
    "                \n",
    "                #Q_2 = critic.predict_target(s2_batch)\n",
    "                Q_2 = AC_src.predict(s2_batch)\n",
    "\n",
    "                R_batch = r_batch + GAMMA * Q_2 * (1-t_batch)\n",
    "                #if((ep % print_ep) == (print_ep-1)) and (st == 0):\n",
    "                    #pdb.set_trace()\n",
    "                    \n",
    "                predicted_Q, _ = AC_src.train(s_batch, a_batch, np.reshape(R_batch, (1, 1)), lr)\n",
    "            \n",
    "                #td_batch = R_batch - predicted_Q\n",
    "                #pdb.set_trace()\n",
    "                #actor.train(s_batch, a_batch, np.reshape(td_batch, (MINIBATCH_SIZE, 1)), lr)\n",
    "            \n",
    "            ep_reward[ep] += (1.*r)\n",
    "            #pdb.set_trace()\n",
    "            var += np.sum(AC_src.give_policy(s.reshape(-1,info.dim_s))**2)\n",
    "            s = s2\n",
    "            if terminal:\n",
    "                var = var/st\n",
    "                avg_var += (var/print_ep)\n",
    "                break\n",
    "        if terminal == False:\n",
    "            var = var/MAX_STEP\n",
    "            avg_var += (var/print_ep)\n",
    "        if (r >= 100):\n",
    "            ep_success[ep] = 1\n",
    "        elif (r <= -100):\n",
    "            ep_crash[ep] = 1\n",
    "        #if(start_update):\n",
    "        #    actor.update_target_network\n",
    "        #    critic.update_target_network\n",
    "       \n",
    "        if ((ep % print_ep) == (print_ep-1)) or (ep == 0):\n",
    "            print('Episode: %d --- Ave R: %.1f  |  Success: %.2f  |  crash: %.2f  |  Max R: %.1f  |  var: %.2f  |  lr:%.2f*1e-4'\\\n",
    "                  %(ep, np.mean(ep_reward[last_ep:ep+1]), np.mean(ep_success[last_ep:ep+1]), \\\n",
    "                    np.mean(ep_crash[last_ep:ep+1]), np.amax(ep_reward[last_ep:ep+1]), var, 1e4*lr))\n",
    "            last_ep = ep\n",
    "            avg_var = 0\n",
    "            #pdb.set_trace()\n",
    "        '''\n",
    "        if (ep % save_ep) == (save_ep-1):\n",
    "            print(' ***** Saving...  at episode %d ******' %ep)\n",
    "            saver = tf.train.Saver()\n",
    "            filename = './saved_nets/Episod_' + str(ep) + '.chk'\n",
    "            try:\n",
    "                saver.save(sess, filename)\n",
    "            except:\n",
    "                os.mkdir('./saved_nets')  \n",
    "            with open('./saved_nets/rewards_file.txt', 'w') as f:\n",
    "                for i in xrange(MAX_EPISODE):\n",
    "                    f.write('%f\\n' %ep_reward[i])\n",
    "        if (ep % lr_decay_ep) == (lr_decay_ep-1):\n",
    "            lr = 0.97 * lr\n",
    "    '''\n",
    "    pdb.set_trace()\n",
    "    AC_dst.sync_from_source(AC_src)\n",
    "    #sess.run(AC_dst.sync_op)\n",
    "    pdb.set_trace()\n",
    "    ep_dst = 0\n",
    "    for st in xrange(MAX_STEP):\n",
    "        A = AC_dst.take_action(s.reshape(-1,info.dim_s))\n",
    "        a = np.argmax(A)\n",
    "        s2, r, terminal, report = game.step(A)\n",
    "        ep_dst += 1. * r\n",
    "        #pdb.set_trace() \n",
    "        s = s2\n",
    "        if terminal:\n",
    "            break\n",
    "    pdb.set_trace()\n",
    "    print('dest_reward: %f' %(ep_dst))\n",
    "    #pdb.set_trace()\n",
    "    \n",
    "print('DONE') \n",
    "    "
   ]
  },
  {
   "cell_type": "code",
   "execution_count": null,
   "metadata": {
    "collapsed": false
   },
   "outputs": [],
   "source": [
    "EP = MAX_EPISODE - 1\n",
    "with tf.Session(graph=graph) as sess:\n",
    "    \n",
    "    actor.set_up(sess)\n",
    "    critic.set_up(sess)\n",
    "    sess.run(tf.initialize_all_variables())\n",
    "    saver = tf.train.Saver()\n",
    "    filename = './saved_nets/Episod_' + str(EP) + '.chk'\n",
    "    saver.restore(sess, filename)\n",
    "    \n",
    "    ep_reward = 0\n",
    "    s = game.reset()\n",
    "    for st in xrange(MAX_STEP):\n",
    "        game.render()\n",
    "        print(actor.give_policy(s.reshape(-1,info.dim_s)))\n",
    "        A = actor.take_action(s.reshape(-1,info.dim_s))\n",
    "        a = np.argmax(A)\n",
    "        s2, r, terminal, report = game.step(a)\n",
    "        s = s2\n",
    "        ep_reward += (1.*r)\n",
    "        if terminal:\n",
    "            break\n",
    "    print(r)\n",
    "    print('reward:%f' %np.mean(ep_reward))"
   ]
  },
  {
   "cell_type": "code",
   "execution_count": null,
   "metadata": {
    "collapsed": false
   },
   "outputs": [],
   "source": [
    "with open('rewards_file.txt', 'w') as f:\n",
    "    for i in xrange(MAX_EPISODE):\n",
    "        f.write('%f\\n' %ep_reward[i])\n"
   ]
  },
  {
   "cell_type": "code",
   "execution_count": null,
   "metadata": {
    "collapsed": false
   },
   "outputs": [],
   "source": [
    "np.random.choice(2, 1)"
   ]
  },
  {
   "cell_type": "code",
   "execution_count": null,
   "metadata": {
    "collapsed": true
   },
   "outputs": [],
   "source": []
  }
 ],
 "metadata": {
  "kernelspec": {
   "display_name": "Python 2",
   "language": "python",
   "name": "python2"
  },
  "language_info": {
   "codemirror_mode": {
    "name": "ipython",
    "version": 2
   },
   "file_extension": ".py",
   "mimetype": "text/x-python",
   "name": "python",
   "nbconvert_exporter": "python",
   "pygments_lexer": "ipython2",
   "version": "2.7.13rc1"
  }
 },
 "nbformat": 4,
 "nbformat_minor": 0
}
