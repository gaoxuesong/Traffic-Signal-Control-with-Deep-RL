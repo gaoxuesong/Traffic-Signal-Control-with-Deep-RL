{
 "cells": [
  {
   "cell_type": "code",
   "execution_count": 20,
   "metadata": {
    "collapsed": false
   },
   "outputs": [
    {
     "name": "stderr",
     "output_type": "stream",
     "text": [
      "[2016-12-29 19:20:22,665] Making new env: LunarLander-v2\n"
     ]
    },
    {
     "name": "stdout",
     "output_type": "stream",
     "text": [
      "terminated\n",
      "100\n",
      "reward:154.360470\n"
     ]
    }
   ],
   "source": [
    "import numpy as np\n",
    "import tensorflow as tf \n",
    "from collections import deque\n",
    "import random\n",
    "import pdb\n",
    "from replay_memory_Q import ReplayMemory\n",
    "from q_networks import Q_Network\n",
    "from test_game import test_env\n",
    "from info_obj import info_holder\n",
    "import os\n",
    "import gym\n",
    "\n",
    "EP = 2000 - 1\n",
    "\n",
    "game = gym.make('LunarLander-v2')\n",
    "state_dim = game.observation_space.shape[0]\n",
    "action_dim = game.action_space.n\n",
    "save_dir = './Results/net/'\n",
    "string = 'hidden layers: '\n",
    "with open(save_dir + 'params.txt', 'r') as f:\n",
    "    while True:\n",
    "        xa = f.readline()\n",
    "        if string in xa:\n",
    "            hid_lay = int(xa[len(string):])\n",
    "            break\n",
    "MAX_STEP = 1000\n",
    "LEARNING_RATE = 0\n",
    "TAU = 0\n",
    "ENTROPY_BETA = 0\n",
    "eps = 0\n",
    "info = info_holder()\n",
    "try:\n",
    "    DQN\n",
    "except:\n",
    "    pass\n",
    "else:\n",
    "    DQN.reset_net()\n",
    "\n",
    "graph = tf.Graph()\n",
    "with graph.as_default():\n",
    "    info.graph = graph\n",
    "    info.dim_s = state_dim\n",
    "    info.dim_a = action_dim\n",
    "    info.hid_layers = np.array([hid_lay])\n",
    "    info.learning_rate = LEARNING_RATE\n",
    "    info.tau = TAU\n",
    "    info.entropy_beta = ENTROPY_BETA\n",
    "    DQN = Q_Network(info)\n",
    "\n",
    "\n",
    "with tf.Session(graph=graph) as sess:\n",
    "    \n",
    "    DQN.set_up(sess)\n",
    "    sess.run(tf.global_variables_initializer())\n",
    "    \n",
    "    saver = tf.train.Saver()\n",
    "    filename = save_dir + 'Episod_' + str(EP) + '.chk'\n",
    "    saver.restore(sess, filename)\n",
    "    \n",
    "    s = game.reset()\n",
    "    a = DQN.take_action(s.reshape(-1,info.dim_s), eps)\n",
    "    s2, r, terminal, report = game.step(a)\n",
    "    ep_reward = 0\n",
    "    for st in xrange(MAX_STEP):\n",
    "        game.render()\n",
    "        a = DQN.take_action(s.reshape(-1,info.dim_s), eps)\n",
    "        s2, r, terminal, report = game.step(a)\n",
    "        s = s2\n",
    "        ep_reward += (1.*r)\n",
    "        if terminal:\n",
    "            print('terminated')\n",
    "            break\n",
    "    print(r)\n",
    "    print('reward:%f' %np.mean(ep_reward))"
   ]
  },
  {
   "cell_type": "code",
   "execution_count": 8,
   "metadata": {
    "collapsed": false
   },
   "outputs": [
    {
     "name": "stdout",
     "output_type": "stream",
     "text": [
      "hidden layers: 16\n",
      "\n",
      "16\n"
     ]
    }
   ],
   "source": [
    "import numpy as np\n",
    "import tensorflow as tf \n",
    "from collections import deque\n",
    "import random\n",
    "import pdb\n",
    "from replay_memory_Q import ReplayMemory\n",
    "from q_networks import Q_Network\n",
    "from test_game import test_env\n",
    "from info_obj import info_holder\n",
    "import os\n",
    "import gym\n",
    "\n",
    "save_dir = './Results/net/'\n",
    "string = 'hidden layers: '\n",
    "with open(save_dir + 'params.txt', 'r') as f:\n",
    "    while True:\n",
    "        xa = f.readline()\n",
    "        if string in xa:\n",
    "            \n",
    "            print(hid_lay)\n",
    "            break"
   ]
  }
 ],
 "metadata": {
  "kernelspec": {
   "display_name": "Python 2",
   "language": "python",
   "name": "python2"
  },
  "language_info": {
   "codemirror_mode": {
    "name": "ipython",
    "version": 2
   },
   "file_extension": ".py",
   "mimetype": "text/x-python",
   "name": "python",
   "nbconvert_exporter": "python",
   "pygments_lexer": "ipython2",
   "version": "2.7.13rc1"
  }
 },
 "nbformat": 4,
 "nbformat_minor": 0
}
