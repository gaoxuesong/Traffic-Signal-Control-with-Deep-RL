{
 "cells": [
  {
   "cell_type": "code",
   "execution_count": 1,
   "metadata": {
    "collapsed": false
   },
   "outputs": [],
   "source": [
    "import numpy as np\n",
    "import tensorflow as tf \n",
    "from collections import deque\n",
    "import random\n",
    "import pdb\n",
    "from replay_memory_Q import ReplayMemory\n",
    "from q_networks import Q_Network\n",
    "from test_game import test_env\n",
    "from info_obj import info_holder\n",
    "import os\n",
    "from __future__ import print_function"
   ]
  },
  {
   "cell_type": "code",
   "execution_count": 2,
   "metadata": {
    "collapsed": false
   },
   "outputs": [
    {
     "name": "stderr",
     "output_type": "stream",
     "text": [
      "[2016-12-30 23:58:42,574] Making new env: LunarLander-v2\n"
     ]
    },
    {
     "data": {
      "text/plain": [
       "'\\ngame = test_env()\\nstate_dim = 1\\naction_dim = 2\\n'"
      ]
     },
     "execution_count": 2,
     "metadata": {},
     "output_type": "execute_result"
    }
   ],
   "source": [
    "import gym\n",
    "game_name = 'LunarLander-v2'\n",
    "#game_name = 'CartPole-v0'\n",
    "#game_name = 'MountainCar-v0'\n",
    "game = gym.make(game_name)\n",
    "state_dim = game.observation_space.shape[0]\n",
    "action_dim = game.action_space.n\n",
    "'''\n",
    "game = test_env()\n",
    "state_dim = 1\n",
    "action_dim = 2\n",
    "'''"
   ]
  },
  {
   "cell_type": "code",
   "execution_count": 3,
   "metadata": {
    "collapsed": false
   },
   "outputs": [],
   "source": [
    "# info = graph, dim_s, dim_a, hid_layers, learning_rate, tau\n",
    "save_dir = './Results/'+ game_name[:-3] + '/net/'\n",
    "if 'LunarLander' in game_name:\n",
    "    BUFFER_SIZE = int(1e5)\n",
    "    MINIBATCH_SIZE = 256\n",
    "    GAMMA = 0.99\n",
    "    LEARNING_RATE = 1. #5e-5 lr/2\n",
    "    lr = LEARNING_RATE / MINIBATCH_SIZE\n",
    "    lr_decay_ep = 100\n",
    "    lr_decay_rate = 0.955\n",
    "    eps_decay_rate = 0.955\n",
    "    TAU = 0\n",
    "    ENTROPY_BETA = 0\n",
    "    EPSILON = 1\n",
    "    C_target_update = 100 #episode\n",
    "    MAX_EPISODE = int(1e4)\n",
    "    MAX_STEP = int(1e3)\n",
    "    print_ep = int(1e2)\n",
    "    save_ep = int(1e3)\n",
    "    \n",
    "elif 'CartPole' in game_name:\n",
    "    BUFFER_SIZE = int(1e5)\n",
    "    MINIBATCH_SIZE = 128\n",
    "    GAMMA = 0.99\n",
    "    LEARNING_RATE = 1e-4 #5e-5 lr/2\n",
    "    lr_decay_ep = 100\n",
    "    lr_decay_rate = 1\n",
    "    eps_decay_rate = 0.9\n",
    "    TAU = 0\n",
    "    ENTROPY_BETA = 0\n",
    "    EPSILON = 1\n",
    "    C_target_update = 16 #episode\n",
    "    MAX_EPISODE = int(1e4)\n",
    "    MAX_STEP = int(2e2)\n",
    "    print_ep = int(1e2)\n",
    "    save_ep = int(1e3)\n",
    "    \n",
    "elif 'MountainCar' in game_name:\n",
    "    BUFFER_SIZE = int(1e5)\n",
    "    MINIBATCH_SIZE = 256\n",
    "    GAMMA = 0.99\n",
    "    LEARNING_RATE = 1e-2 #5e-5 lr/2\n",
    "    lr = LEARNING_RATE / MINIBATCH_SIZE\n",
    "    lr_decay_ep = 100\n",
    "    lr_decay_rate = 0.955\n",
    "    eps_decay_rate = 0.955\n",
    "    TAU = 0\n",
    "    ENTROPY_BETA = 0\n",
    "    EPSILON = 1\n",
    "    C_target_update = 100 #episode\n",
    "    MAX_EPISODE = int(1e4)\n",
    "    MAX_STEP = int(2e2)\n",
    "    print_ep = int(1e2)\n",
    "    save_ep = int(1e3)\n",
    "\n",
    "buff = ReplayMemory(BUFFER_SIZE)\n",
    "info = info_holder()\n",
    "try:\n",
    "    DQN\n",
    "except:\n",
    "    pass\n",
    "else:\n",
    "    DQN.reset_net()\n",
    "\n",
    "graph = tf.Graph()\n",
    "with graph.as_default():\n",
    "    info.graph = graph\n",
    "    info.dim_s = state_dim\n",
    "    info.dim_a = action_dim\n",
    "    info.hid_layers = np.array([16])\n",
    "    info.learning_rate = LEARNING_RATE\n",
    "    info.tau = TAU\n",
    "    info.entropy_beta = ENTROPY_BETA\n",
    "    DQN = Q_Network(info)"
   ]
  },
  {
   "cell_type": "code",
   "execution_count": null,
   "metadata": {
    "collapsed": false
   },
   "outputs": [
    {
     "name": "stdout",
     "output_type": "stream",
     "text": [
      "Ep: 0 --- Ave R: -200.2  |  loss: 0.0  |  Suc: 0.00  |  crash: 1.00  |  Max R: -200.2  |  lr:39.1e-4  |  eps:100e-2\n",
      "Ep: 99 --- Ave R: -215.5  |  loss: 82.9  |  Suc: 0.00  |  crash: 1.00  |  Max R: 10.2  |  lr:39.1e-4  |  eps:100e-2\n",
      "Ep: 199 --- Ave R: -231.1  |  loss: 56.9  |  Suc: 0.00  |  crash: 1.00  |  Max R: -50.1  |  lr:37.3e-4  |  eps:96e-2\n",
      "Ep: 299 --- Ave R: -191.7  |  loss: 56.1  |  Suc: 0.00  |  crash: 0.99  |  Max R: 47.1  |  lr:35.6e-4  |  eps:91e-2\n",
      "Ep: 399 --- Ave R: -174.3  |  loss: 59.4  |  Suc: 0.00  |  crash: 0.99  |  Max R: -6.7  |  lr:34.0e-4  |  eps:87e-2\n",
      "Ep: 499 --- Ave R: -163.7  |  loss: 44.5  |  Suc: 0.00  |  crash: 1.00  |  Max R: -21.2  |  lr:32.5e-4  |  eps:83e-2\n",
      "Ep: 599 --- Ave R: -160.4  |  loss: 42.4  |  Suc: 0.00  |  crash: 1.00  |  Max R: -64.3  |  lr:31.0e-4  |  eps:79e-2\n",
      "Ep: 699 --- Ave R: -150.7  |  loss: 46.2  |  Suc: 0.00  |  crash: 0.99  |  Max R: -22.2  |  lr:29.6e-4  |  eps:76e-2\n",
      "Ep: 799 --- Ave R: -141.9  |  loss: 32.5  |  Suc: 0.00  |  crash: 1.00  |  Max R: -59.5  |  lr:28.3e-4  |  eps:72e-2\n",
      "Ep: 899 --- Ave R: -141.8  |  loss: 26.9  |  Suc: 0.00  |  crash: 0.98  |  Max R: -25.9  |  lr:27.0e-4  |  eps:69e-2\n",
      "Ep: 999 --- Ave R: -142.7  |  loss: 35.7  |  Suc: 0.00  |  crash: 1.00  |  Max R: -43.0  |  lr:25.8e-4  |  eps:66e-2\n",
      " ***** Saving...  at episode 999 ... Done ******\n",
      "Ep: 1099 --- Ave R: -140.0  |  loss: 29.9  |  Suc: 0.00  |  crash: 1.00  |  Max R: -19.1  |  lr:24.6e-4  |  eps:63e-2\n",
      "Ep: 1199 --- Ave R: -142.7  |  loss: 25.6  |  Suc: 0.00  |  crash: 1.00  |  Max R: -40.2  |  lr:23.5e-4  |  eps:60e-2\n",
      "Ep: 1299 --- Ave R: -155.7  |  loss: 20.1  |  Suc: 0.00  |  crash: 1.00  |  Max R: -43.4  |  lr:22.5e-4  |  eps:58e-2\n",
      "Ep: 1399 --- Ave R: -149.8  |  loss: 19.9  |  Suc: 0.00  |  crash: 1.00  |  Max R: 6.5  |  lr:21.5e-4  |  eps:55e-2\n",
      "Ep: 1499 --- Ave R: -154.1  |  loss: 19.9  |  Suc: 0.00  |  crash: 0.99  |  Max R: -18.5  |  lr:20.5e-4  |  eps:52e-2\n",
      "Ep: 1599 --- Ave R: -164.1  |  loss: 22.8  |  Suc: 0.00  |  crash: 1.00  |  Max R: -14.7  |  lr:19.6e-4  |  eps:50e-2\n",
      "Ep: 1699 --- Ave R: -193.8  |  loss: 21.3  |  Suc: 0.00  |  crash: 0.97  |  Max R: 5.2  |  lr:18.7e-4  |  eps:48e-2\n",
      "Ep: 1799 --- Ave R: -225.9  |  loss: 18.9  |  Suc: 0.00  |  crash: 0.98  |  Max R: -18.0  |  lr:17.9e-4  |  eps:46e-2\n",
      "Ep: 1899 --- Ave R: -229.5  |  loss: 17.8  |  Suc: 0.00  |  crash: 0.98  |  Max R: -51.1  |  lr:17.1e-4  |  eps:44e-2\n",
      "Ep: 1999 --- Ave R: -221.7  |  loss: 18.2  |  Suc: 0.00  |  crash: 0.91  |  Max R: -66.6  |  lr:16.3e-4  |  eps:42e-2\n",
      " ***** Saving...  at episode 1999 ... Done ******\n",
      "Ep: 2099 --- Ave R: -211.4  |  loss: 15.1  |  Suc: 0.00  |  crash: 0.77  |  Max R: 1.1  |  lr:15.6e-4  |  eps:40e-2\n",
      "Ep: 2199 --- Ave R: -213.3  |  loss: 12.1  |  Suc: 0.00  |  crash: 0.75  |  Max R: -45.8  |  lr:14.9e-4  |  eps:38e-2\n",
      "Ep: 2299 --- Ave R: -179.0  |  loss: 9.8  |  Suc: 0.00  |  crash: 0.43  |  Max R: -71.9  |  lr:14.2e-4  |  eps:36e-2\n",
      "Ep: 2399 --- Ave R: -155.7  |  loss: 5.9  |  Suc: 0.00  |  crash: 0.33  |  Max R: -31.5  |  lr:13.5e-4  |  eps:35e-2\n",
      "Ep: 2499 --- Ave R: -151.3  |  loss: 5.9  |  Suc: 0.00  |  crash: 0.27  |  Max R: -52.5  |  lr:12.9e-4  |  eps:33e-2\n",
      "Ep: 2599 --- Ave R: -132.0  |  loss: 5.7  |  Suc: 0.00  |  crash: 0.29  |  Max R: -15.8  |  lr:12.4e-4  |  eps:32e-2\n",
      "Ep: 2699 --- Ave R: -128.3  |  loss: 4.3  |  Suc: 0.00  |  crash: 0.26  |  Max R: -23.5  |  lr:11.8e-4  |  eps:30e-2\n",
      "Ep: 2799 --- Ave R: -121.5  |  loss: 4.8  |  Suc: 0.00  |  crash: 0.16  |  Max R: -31.8  |  lr:11.3e-4  |  eps:29e-2\n",
      "Ep: 2899 --- Ave R: -116.5  |  loss: 3.0  |  Suc: 0.00  |  crash: 0.21  |  Max R: 39.8  |  lr:10.8e-4  |  eps:28e-2\n",
      "Ep: 2999 --- Ave R: -107.3  |  loss: 3.5  |  Suc: 0.01  |  crash: 0.10  |  Max R: 89.7  |  lr:10.3e-4  |  eps:26e-2\n",
      " ***** Saving...  at episode 2999 ... Done ******\n",
      "Ep: 3099 --- Ave R: -102.8  |  loss: 2.0  |  Suc: 0.00  |  crash: 0.08  |  Max R: 15.0  |  lr:9.8e-4  |  eps:25e-2\n",
      "Ep: 3199 --- Ave R: -89.1  |  loss: 1.5  |  Suc: 0.00  |  crash: 0.04  |  Max R: 31.6  |  lr:9.4e-4  |  eps:24e-2\n",
      "Ep: 3299 --- Ave R: -95.7  |  loss: 1.0  |  Suc: 0.00  |  crash: 0.02  |  Max R: -39.5  |  lr:9.0e-4  |  eps:23e-2\n",
      "Ep: 3399 --- Ave R: -90.6  |  loss: 1.0  |  Suc: 0.00  |  crash: 0.02  |  Max R: -35.7  |  lr:8.5e-4  |  eps:22e-2\n",
      "Ep: 3499 --- Ave R: -95.0  |  loss: 0.9  |  Suc: 0.00  |  crash: 0.00  |  Max R: -47.9  |  lr:8.2e-4  |  eps:21e-2\n",
      "Ep: 3599 --- Ave R: -96.7  |  loss: 1.5  |  Suc: 0.00  |  crash: 0.03  |  Max R: -52.7  |  lr:7.8e-4  |  eps:20e-2\n",
      "Ep: 3699 --- Ave R: -92.1  |  loss: 0.8  |  Suc: 0.00  |  crash: 0.01  |  Max R: -33.5  |  lr:7.4e-4  |  eps:19e-2\n"
     ]
    }
   ],
   "source": [
    "eps = EPSILON\n",
    "#lr = LEARNING_RATE\n",
    "buff.clear()\n",
    "last_ep = 0\n",
    "start_update = 0\n",
    "with tf.Session(graph=graph) as sess:\n",
    "    DQN.set_up(sess)\n",
    "    sess.run(tf.global_variables_initializer())\n",
    "    \n",
    "    ep_reward = np.zeros(MAX_EPISODE)\n",
    "    ep_success = np.zeros(MAX_EPISODE)\n",
    "    ep_crash = np.zeros(MAX_EPISODE)\n",
    "    batch_loss = np.zeros(MAX_EPISODE)\n",
    "    #avg_var = 0\n",
    "    \n",
    "    for ep in range(MAX_EPISODE):\n",
    "        s = game.reset()\n",
    "        #var = 0\n",
    "        for st in range(MAX_STEP):\n",
    "            a = DQN.take_action(s.reshape(-1,info.dim_s), eps)\n",
    "            s2, r, terminal, report = game.step(a)\n",
    "            \n",
    "            buff.add(np.reshape(s, (info.dim_s,)).astype(np.float32), np.array(a).astype(np.float32),\\\n",
    "                     np.array(r).astype(np.float32), np.reshape(s2, (info.dim_s,)).astype(np.float32),\\\n",
    "                     np.array(terminal).astype(np.float32))\n",
    "            \n",
    "            ep_reward[ep] += (1.*r)\n",
    "            #var += np.sum(actor.give_policy(s.reshape(-1,info.dim_s))**2)\n",
    "            s = s2\n",
    "            if buff.size() >= MINIBATCH_SIZE:\n",
    "                (s_batch, a_batch, r_batch, s2_batch, t_batch) = buff.sample_batch(MINIBATCH_SIZE)\n",
    "                \n",
    "                s_batch = np.array(s_batch).reshape(-1, info.dim_s)\n",
    "                s2_batch = np.array(s2_batch).reshape(-1, info.dim_s)\n",
    "                a_batch = np.array(a_batch)#.reshape(-1, 1)\n",
    "                r_batch = np.array(r_batch)#.reshape(-1, 1)\n",
    "                t_batch = np.array(t_batch)#.reshape(-1, 1)\n",
    "\n",
    "                Q_max = DQN.target_q(s2_batch)\n",
    "                Q_max = Q_max[0]\n",
    "                \n",
    "                R_batch = r_batch + GAMMA * Q_max * (1-t_batch) # if terminal then the second part is zero\n",
    "\n",
    "                if(len(a_batch.shape)>1):\n",
    "                    pdb.set_trace()\n",
    "                    print(a_batch.shape, buff.size(), ep, st)\n",
    "                batch_loss[ep], _ = DQN.train(s_batch, a_batch, R_batch, lr)\n",
    "            \n",
    "            if terminal:\n",
    "                break\n",
    "                \n",
    "        if ((ep % C_target_update) == (C_target_update -1)):\n",
    "            DQN.update_target()\n",
    "                \n",
    "        if (r >= 100):\n",
    "            ep_success[ep] = 1\n",
    "        elif (r <= -100):\n",
    "            ep_crash[ep] = 1\n",
    "        \n",
    "        if ((ep % print_ep) == (print_ep-1)) or (ep == 0):\n",
    "            print('Ep: %d --- Ave R: %.1f  |  loss: %.1f  |  Suc: %.2f  |  crash: %.2f  |  Max R: %.1f  |  lr:%.1fe-4  |  eps:%.0fe-2'\\\n",
    "                  %(ep, np.mean(ep_reward[last_ep:ep+1]), np.mean(batch_loss[last_ep:ep+1]),\\\n",
    "                    np.mean(ep_success[last_ep:ep+1]), np.mean(ep_crash[last_ep:ep+1]), \\\n",
    "                    np.amax(ep_reward[last_ep:ep+1]), 1e4*lr, 1e2*eps))\n",
    "            last_ep = ep\n",
    "            \n",
    "        if (ep % save_ep) == (save_ep-1):\n",
    "            print(' ***** Saving...  at episode %d ...' %ep, end=\"\")\n",
    "            saver = tf.train.Saver()\n",
    "            filename = save_dir + 'Episod_' + str(ep) + '.chk'\n",
    "            saver.save(sess, filename)\n",
    "            with open(save_dir + 'rewards.txt', 'w') as f:\n",
    "                f.write('%d, , , , ,Learning rate = %f - lr decay = %f - Epsilon = %f - eps decay = %f - Buffer size = %d - Batch size = %d - hidden layers: %d - target update cycle: %d\\n' \\\n",
    "                        %(ep, LEARNING_RATE, lr_decay_rate, EPSILON, eps_decay_rate, BUFFER_SIZE, MINIBATCH_SIZE, info.hid_layers, C_target_update) )\n",
    "                for i in range(ep):\n",
    "                    f.write('%f,      %f\\n' %(ep_reward[i], batch_loss[i]))\n",
    "            print(' Done ******')\n",
    "        if (ep == 0):\n",
    "            try:\n",
    "                os.mkdir(save_dir)  \n",
    "                with open(save_dir + 'params.txt', 'w') as f:\n",
    "                    f.write('Learning rate = %f\\n' %LEARNING_RATE)\n",
    "                    f.write('lr decay = %f\\n' %lr_decay_rate)\n",
    "                    f.write('Epsilon = %f\\n' %EPSILON)\n",
    "                    f.write('eps decay = %f\\n' %eps_decay_rate)\n",
    "                    f.write('Buffer size = %d\\n' %BUFFER_SIZE)\n",
    "                    f.write('Batch size = %d\\n' %MINIBATCH_SIZE)\n",
    "                    f.write('hidden layers: %d\\n' %info.hid_layers)\n",
    "                    f.write('target update cycle: %d\\n' %C_target_update)\n",
    "            except:\n",
    "                print('Directory \\net exists')\n",
    "                raise\n",
    "            \n",
    "        if (ep % lr_decay_ep) == (lr_decay_ep-1):\n",
    "            lr = lr_decay_rate * lr\n",
    "            eps = eps_decay_rate * eps\n",
    "            \n",
    "print('DONE') \n",
    "    "
   ]
  },
  {
   "cell_type": "code",
   "execution_count": null,
   "metadata": {
    "collapsed": false
   },
   "outputs": [],
   "source": []
  },
  {
   "cell_type": "code",
   "execution_count": null,
   "metadata": {
    "collapsed": false
   },
   "outputs": [],
   "source": []
  },
  {
   "cell_type": "code",
   "execution_count": null,
   "metadata": {
    "collapsed": false
   },
   "outputs": [],
   "source": []
  },
  {
   "cell_type": "code",
   "execution_count": null,
   "metadata": {
    "collapsed": false
   },
   "outputs": [],
   "source": []
  },
  {
   "cell_type": "code",
   "execution_count": null,
   "metadata": {
    "collapsed": false
   },
   "outputs": [],
   "source": []
  },
  {
   "cell_type": "code",
   "execution_count": null,
   "metadata": {
    "collapsed": true
   },
   "outputs": [],
   "source": []
  }
 ],
 "metadata": {
  "kernelspec": {
   "display_name": "Python 2",
   "language": "python",
   "name": "python2"
  },
  "language_info": {
   "codemirror_mode": {
    "name": "ipython",
    "version": 2
   },
   "file_extension": ".py",
   "mimetype": "text/x-python",
   "name": "python",
   "nbconvert_exporter": "python",
   "pygments_lexer": "ipython2",
   "version": "2.7.13rc1"
  }
 },
 "nbformat": 4,
 "nbformat_minor": 0
}
