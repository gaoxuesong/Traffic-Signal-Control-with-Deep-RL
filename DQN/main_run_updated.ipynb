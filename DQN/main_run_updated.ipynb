{
 "cells": [
  {
   "cell_type": "code",
   "execution_count": 1,
   "metadata": {
    "collapsed": false
   },
   "outputs": [],
   "source": [
    "import numpy as np\n",
    "import tensorflow as tf \n",
    "from collections import deque\n",
    "import random\n",
    "import pdb\n",
    "from replay_memory_Q import ReplayMemory\n",
    "from q_networks import Q_Network\n",
    "from test_game import test_env\n",
    "from info_obj import info_holder\n",
    "import os\n",
    "from __future__ import print_function"
   ]
  },
  {
   "cell_type": "code",
   "execution_count": 2,
   "metadata": {
    "collapsed": false
   },
   "outputs": [
    {
     "name": "stderr",
     "output_type": "stream",
     "text": [
      "[2016-12-31 05:03:00,413] Making new env: LunarLander-v2\n"
     ]
    },
    {
     "data": {
      "text/plain": [
       "'\\ngame = test_env()\\nstate_dim = 1\\naction_dim = 2\\n'"
      ]
     },
     "execution_count": 2,
     "metadata": {},
     "output_type": "execute_result"
    }
   ],
   "source": [
    "import gym\n",
    "game_name = 'LunarLander-v2'\n",
    "#game_name = 'CartPole-v0'\n",
    "#game_name = 'MountainCar-v0'\n",
    "game = gym.make(game_name)\n",
    "state_dim = game.observation_space.shape[0]\n",
    "action_dim = game.action_space.n\n",
    "'''\n",
    "game = test_env()\n",
    "state_dim = 1\n",
    "action_dim = 2\n",
    "'''"
   ]
  },
  {
   "cell_type": "code",
   "execution_count": 3,
   "metadata": {
    "collapsed": false
   },
   "outputs": [],
   "source": [
    "# info = graph, dim_s, dim_a, hid_layers, learning_rate, tau\n",
    "save_dir = './Results/'+ game_name[:-3] + '/net/'\n",
    "if 'LunarLander' in game_name:\n",
    "    BUFFER_SIZE = int(1e4)\n",
    "    MINIBATCH_SIZE = 256\n",
    "    GAMMA = 0.99\n",
    "    LEARNING_RATE = 1e-3 #5e-5 lr/2\n",
    "    lr = LEARNING_RATE #/ MINIBATCH_SIZE\n",
    "    lr_decay_ep = 100\n",
    "    lr_decay_rate = 0.98\n",
    "    eps_decay_rate = 0.955\n",
    "    TAU = 0\n",
    "    ENTROPY_BETA = 0\n",
    "    EPSILON = 1\n",
    "    C_target_update = 100 #episode\n",
    "    MAX_EPISODE = int(1e4)\n",
    "    MAX_STEP = int(1e3)\n",
    "    print_ep = int(1e2)\n",
    "    save_ep = int(1e3)\n",
    "    \n",
    "elif 'CartPole' in game_name:\n",
    "    BUFFER_SIZE = int(1e5)\n",
    "    MINIBATCH_SIZE = 128\n",
    "    GAMMA = 0.99\n",
    "    LEARNING_RATE = 1e-4 #5e-5 lr/2\n",
    "    lr_decay_ep = 100\n",
    "    lr_decay_rate = 1\n",
    "    eps_decay_rate = 0.9\n",
    "    TAU = 0\n",
    "    ENTROPY_BETA = 0\n",
    "    EPSILON = 1\n",
    "    C_target_update = 16 #episode\n",
    "    MAX_EPISODE = int(1e4)\n",
    "    MAX_STEP = int(2e2)\n",
    "    print_ep = int(1e2)\n",
    "    save_ep = int(1e3)\n",
    "    \n",
    "elif 'MountainCar' in game_name:\n",
    "    BUFFER_SIZE = int(1e5)\n",
    "    MINIBATCH_SIZE = 256\n",
    "    GAMMA = 0.99\n",
    "    LEARNING_RATE = 1e-2 #5e-5 lr/2\n",
    "    lr = LEARNING_RATE / MINIBATCH_SIZE\n",
    "    lr_decay_ep = 100\n",
    "    lr_decay_rate = 0.955\n",
    "    eps_decay_rate = 0.955\n",
    "    TAU = 0\n",
    "    ENTROPY_BETA = 0\n",
    "    EPSILON = 1\n",
    "    C_target_update = 100 #episode\n",
    "    MAX_EPISODE = int(1e4)\n",
    "    MAX_STEP = int(2e2)\n",
    "    print_ep = int(1e2)\n",
    "    save_ep = int(1e3)\n",
    "\n",
    "buff = ReplayMemory(BUFFER_SIZE)\n",
    "info = info_holder()\n",
    "try:\n",
    "    DQN\n",
    "except:\n",
    "    pass\n",
    "else:\n",
    "    DQN.reset_net()\n",
    "\n",
    "graph = tf.Graph()\n",
    "with graph.as_default():\n",
    "    info.graph = graph\n",
    "    info.dim_s = state_dim\n",
    "    info.dim_a = action_dim\n",
    "    info.hid_layers = np.array([16])\n",
    "    info.learning_rate = LEARNING_RATE\n",
    "    info.tau = TAU\n",
    "    info.entropy_beta = ENTROPY_BETA\n",
    "    DQN = Q_Network(info)"
   ]
  },
  {
   "cell_type": "code",
   "execution_count": 4,
   "metadata": {
    "collapsed": false
   },
   "outputs": [
    {
     "name": "stdout",
     "output_type": "stream",
     "text": [
      "Ep: 0 --- Ave R: -178.7  |  loss: 0.0  |  Suc: 0.00  |  crash: 1.00  |  Max R: -178.7  |  lr:10.0e-4  |  eps:100e-2\n",
      "Ep: 99 --- Ave R: -239.8  |  loss: 109.1  |  Suc: 0.00  |  crash: 1.00  |  Max R: -53.5  |  lr:10.0e-4  |  eps:100e-2\n",
      "Ep: 199 --- Ave R: -199.1  |  loss: 84.2  |  Suc: 0.00  |  crash: 1.00  |  Max R: -52.0  |  lr:9.8e-4  |  eps:96e-2\n",
      "Ep: 299 --- Ave R: -199.2  |  loss: 59.6  |  Suc: 0.00  |  crash: 0.99  |  Max R: 8.9  |  lr:9.6e-4  |  eps:91e-2\n",
      "Ep: 399 --- Ave R: -198.6  |  loss: 48.4  |  Suc: 0.00  |  crash: 1.00  |  Max R: -35.8  |  lr:9.4e-4  |  eps:87e-2\n",
      "Ep: 499 --- Ave R: -201.2  |  loss: 42.6  |  Suc: 0.00  |  crash: 0.99  |  Max R: 40.7  |  lr:9.2e-4  |  eps:83e-2\n",
      "Ep: 599 --- Ave R: -164.0  |  loss: 32.7  |  Suc: 0.00  |  crash: 1.00  |  Max R: -21.9  |  lr:9.0e-4  |  eps:79e-2\n",
      "Ep: 699 --- Ave R: -160.3  |  loss: 29.3  |  Suc: 0.00  |  crash: 1.00  |  Max R: -11.5  |  lr:8.9e-4  |  eps:76e-2\n",
      "Ep: 799 --- Ave R: -166.3  |  loss: 26.0  |  Suc: 0.00  |  crash: 1.00  |  Max R: -39.5  |  lr:8.7e-4  |  eps:72e-2\n",
      "Ep: 899 --- Ave R: -149.5  |  loss: 23.4  |  Suc: 0.00  |  crash: 1.00  |  Max R: -22.6  |  lr:8.5e-4  |  eps:69e-2\n",
      "Ep: 999 --- Ave R: -140.4  |  loss: 25.6  |  Suc: 0.00  |  crash: 0.99  |  Max R: 4.3  |  lr:8.3e-4  |  eps:66e-2\n",
      " ***** Saving...  at episode 999 ... Done ******\n",
      "Ep: 1099 --- Ave R: -127.4  |  loss: 17.0  |  Suc: 0.00  |  crash: 1.00  |  Max R: -32.3  |  lr:8.2e-4  |  eps:63e-2\n",
      "Ep: 1199 --- Ave R: -118.1  |  loss: 14.9  |  Suc: 0.00  |  crash: 1.00  |  Max R: 0.8  |  lr:8.0e-4  |  eps:60e-2\n",
      "Ep: 1299 --- Ave R: -127.4  |  loss: 17.7  |  Suc: 0.00  |  crash: 0.99  |  Max R: -18.1  |  lr:7.8e-4  |  eps:58e-2\n",
      "Ep: 1399 --- Ave R: -135.8  |  loss: 21.8  |  Suc: 0.00  |  crash: 0.97  |  Max R: -0.6  |  lr:7.7e-4  |  eps:55e-2\n",
      "Ep: 1499 --- Ave R: -143.5  |  loss: 21.0  |  Suc: 0.00  |  crash: 0.96  |  Max R: -30.5  |  lr:7.5e-4  |  eps:52e-2\n",
      "Ep: 1599 --- Ave R: -171.4  |  loss: 21.7  |  Suc: 0.00  |  crash: 0.98  |  Max R: -19.4  |  lr:7.4e-4  |  eps:50e-2\n",
      "Ep: 1699 --- Ave R: -173.4  |  loss: 19.5  |  Suc: 0.00  |  crash: 0.98  |  Max R: -30.7  |  lr:7.2e-4  |  eps:48e-2\n",
      "Ep: 1799 --- Ave R: -186.3  |  loss: 22.4  |  Suc: 0.00  |  crash: 0.96  |  Max R: 17.4  |  lr:7.1e-4  |  eps:46e-2\n",
      "Ep: 1899 --- Ave R: -190.9  |  loss: 20.5  |  Suc: 0.00  |  crash: 0.92  |  Max R: -26.5  |  lr:7.0e-4  |  eps:44e-2\n",
      "Ep: 1999 --- Ave R: -190.8  |  loss: 18.5  |  Suc: 0.00  |  crash: 0.98  |  Max R: -9.3  |  lr:6.8e-4  |  eps:42e-2\n",
      " ***** Saving...  at episode 1999 ... Done ******\n",
      "Ep: 2099 --- Ave R: -208.9  |  loss: 18.8  |  Suc: 0.00  |  crash: 0.94  |  Max R: -9.3  |  lr:6.7e-4  |  eps:40e-2\n",
      "Ep: 2199 --- Ave R: -206.1  |  loss: 10.7  |  Suc: 0.00  |  crash: 0.79  |  Max R: -49.8  |  lr:6.5e-4  |  eps:38e-2\n",
      "Ep: 2299 --- Ave R: -207.1  |  loss: 16.4  |  Suc: 0.00  |  crash: 0.78  |  Max R: -26.2  |  lr:6.4e-4  |  eps:36e-2\n",
      "Ep: 2399 --- Ave R: -176.3  |  loss: 6.3  |  Suc: 0.00  |  crash: 0.49  |  Max R: -55.2  |  lr:6.3e-4  |  eps:35e-2\n",
      "Ep: 2499 --- Ave R: -190.1  |  loss: 6.1  |  Suc: 0.00  |  crash: 0.47  |  Max R: -60.0  |  lr:6.2e-4  |  eps:33e-2\n",
      "Ep: 2599 --- Ave R: -175.6  |  loss: 4.7  |  Suc: 0.00  |  crash: 0.32  |  Max R: -48.9  |  lr:6.0e-4  |  eps:32e-2\n",
      "Ep: 2699 --- Ave R: -211.9  |  loss: 14.6  |  Suc: 0.00  |  crash: 0.92  |  Max R: -68.0  |  lr:5.9e-4  |  eps:30e-2\n",
      "Ep: 2799 --- Ave R: -183.1  |  loss: 6.5  |  Suc: 0.00  |  crash: 0.50  |  Max R: -46.7  |  lr:5.8e-4  |  eps:29e-2\n",
      "Ep: 2899 --- Ave R: -143.9  |  loss: 3.9  |  Suc: 0.00  |  crash: 0.24  |  Max R: -36.2  |  lr:5.7e-4  |  eps:28e-2\n",
      "Ep: 2999 --- Ave R: -135.4  |  loss: 2.4  |  Suc: 0.00  |  crash: 0.15  |  Max R: -42.9  |  lr:5.6e-4  |  eps:26e-2\n",
      " ***** Saving...  at episode 2999 ... Done ******\n",
      "Ep: 3099 --- Ave R: -140.0  |  loss: 5.7  |  Suc: 0.00  |  crash: 0.21  |  Max R: -22.4  |  lr:5.5e-4  |  eps:25e-2\n",
      "Ep: 3199 --- Ave R: -116.2  |  loss: 3.4  |  Suc: 0.00  |  crash: 0.16  |  Max R: -31.5  |  lr:5.3e-4  |  eps:24e-2\n",
      "Ep: 3299 --- Ave R: -121.0  |  loss: 3.0  |  Suc: 0.00  |  crash: 0.22  |  Max R: -31.5  |  lr:5.2e-4  |  eps:23e-2\n",
      "Ep: 3399 --- Ave R: -105.5  |  loss: 2.0  |  Suc: 0.00  |  crash: 0.11  |  Max R: -42.0  |  lr:5.1e-4  |  eps:22e-2\n",
      "Ep: 3499 --- Ave R: -112.4  |  loss: 5.6  |  Suc: 0.00  |  crash: 0.21  |  Max R: -45.8  |  lr:5.0e-4  |  eps:21e-2\n",
      "Ep: 3599 --- Ave R: -155.3  |  loss: 12.0  |  Suc: 0.00  |  crash: 0.62  |  Max R: -43.8  |  lr:4.9e-4  |  eps:20e-2\n",
      "Ep: 3699 --- Ave R: -159.9  |  loss: 13.1  |  Suc: 0.00  |  crash: 0.73  |  Max R: -50.0  |  lr:4.8e-4  |  eps:19e-2\n",
      "Ep: 3799 --- Ave R: -336.1  |  loss: 14.6  |  Suc: 0.00  |  crash: 0.62  |  Max R: -72.5  |  lr:4.7e-4  |  eps:18e-2\n",
      "Ep: 3899 --- Ave R: -309.3  |  loss: 16.9  |  Suc: 0.00  |  crash: 0.68  |  Max R: -68.7  |  lr:4.6e-4  |  eps:17e-2\n",
      "Ep: 3999 --- Ave R: -370.8  |  loss: 22.9  |  Suc: 0.00  |  crash: 0.93  |  Max R: -99.6  |  lr:4.5e-4  |  eps:17e-2\n",
      " ***** Saving...  at episode 3999 ... Done ******\n",
      "Ep: 4099 --- Ave R: -372.9  |  loss: 24.6  |  Suc: 0.00  |  crash: 0.91  |  Max R: -113.2  |  lr:4.5e-4  |  eps:16e-2\n",
      "Ep: 4199 --- Ave R: -304.0  |  loss: 18.3  |  Suc: 0.00  |  crash: 0.94  |  Max R: -89.6  |  lr:4.4e-4  |  eps:15e-2\n",
      "Ep: 4299 --- Ave R: -268.0  |  loss: 24.5  |  Suc: 0.00  |  crash: 0.98  |  Max R: -112.2  |  lr:4.3e-4  |  eps:14e-2\n",
      "Ep: 4399 --- Ave R: -364.5  |  loss: 17.2  |  Suc: 0.00  |  crash: 1.00  |  Max R: -95.9  |  lr:4.2e-4  |  eps:14e-2\n",
      "Ep: 4499 --- Ave R: -287.6  |  loss: 9.1  |  Suc: 0.00  |  crash: 0.56  |  Max R: -70.9  |  lr:4.1e-4  |  eps:13e-2\n"
     ]
    },
    {
     "ename": "KeyboardInterrupt",
     "evalue": "",
     "output_type": "error",
     "traceback": [
      "\u001b[0;31m---------------------------------------------------------------------------\u001b[0m",
      "\u001b[0;31mKeyboardInterrupt\u001b[0m                         Traceback (most recent call last)",
      "\u001b[0;32m<ipython-input-4-9314eda51370>\u001b[0m in \u001b[0;36m<module>\u001b[0;34m()\u001b[0m\n\u001b[1;32m     43\u001b[0m                     \u001b[0mpdb\u001b[0m\u001b[0;34m.\u001b[0m\u001b[0mset_trace\u001b[0m\u001b[0;34m(\u001b[0m\u001b[0;34m)\u001b[0m\u001b[0;34m\u001b[0m\u001b[0m\n\u001b[1;32m     44\u001b[0m                     \u001b[0;32mprint\u001b[0m\u001b[0;34m(\u001b[0m\u001b[0ma_batch\u001b[0m\u001b[0;34m.\u001b[0m\u001b[0mshape\u001b[0m\u001b[0;34m,\u001b[0m \u001b[0mbuff\u001b[0m\u001b[0;34m.\u001b[0m\u001b[0msize\u001b[0m\u001b[0;34m(\u001b[0m\u001b[0;34m)\u001b[0m\u001b[0;34m,\u001b[0m \u001b[0mep\u001b[0m\u001b[0;34m,\u001b[0m \u001b[0mst\u001b[0m\u001b[0;34m)\u001b[0m\u001b[0;34m\u001b[0m\u001b[0m\n\u001b[0;32m---> 45\u001b[0;31m                 \u001b[0mbatch_loss\u001b[0m\u001b[0;34m[\u001b[0m\u001b[0mep\u001b[0m\u001b[0;34m]\u001b[0m\u001b[0;34m,\u001b[0m \u001b[0m_\u001b[0m \u001b[0;34m=\u001b[0m \u001b[0mDQN\u001b[0m\u001b[0;34m.\u001b[0m\u001b[0mtrain\u001b[0m\u001b[0;34m(\u001b[0m\u001b[0ms_batch\u001b[0m\u001b[0;34m,\u001b[0m \u001b[0ma_batch\u001b[0m\u001b[0;34m,\u001b[0m \u001b[0mR_batch\u001b[0m\u001b[0;34m,\u001b[0m \u001b[0mlr\u001b[0m\u001b[0;34m)\u001b[0m\u001b[0;34m\u001b[0m\u001b[0m\n\u001b[0m\u001b[1;32m     46\u001b[0m \u001b[0;34m\u001b[0m\u001b[0m\n\u001b[1;32m     47\u001b[0m             \u001b[0;32mif\u001b[0m \u001b[0mterminal\u001b[0m\u001b[0;34m:\u001b[0m\u001b[0;34m\u001b[0m\u001b[0m\n",
      "\u001b[0;32m/mnt/notebooks/DQN/q_networks.pyc\u001b[0m in \u001b[0;36mtrain\u001b[0;34m(self, inputs, actions, R, lr_rate)\u001b[0m\n\u001b[1;32m     82\u001b[0m             \u001b[0mself\u001b[0m\u001b[0;34m.\u001b[0m\u001b[0mtaken_action\u001b[0m\u001b[0;34m:\u001b[0m \u001b[0mactions\u001b[0m\u001b[0;34m,\u001b[0m\u001b[0;34m\u001b[0m\u001b[0m\n\u001b[1;32m     83\u001b[0m             \u001b[0mself\u001b[0m\u001b[0;34m.\u001b[0m\u001b[0mR\u001b[0m\u001b[0;34m:\u001b[0m \u001b[0mR\u001b[0m\u001b[0;34m,\u001b[0m\u001b[0;34m\u001b[0m\u001b[0m\n\u001b[0;32m---> 84\u001b[0;31m             \u001b[0mself\u001b[0m\u001b[0;34m.\u001b[0m\u001b[0mlearning_rate\u001b[0m\u001b[0;34m:\u001b[0m \u001b[0mlr_rate\u001b[0m\u001b[0;34m\u001b[0m\u001b[0m\n\u001b[0m\u001b[1;32m     85\u001b[0m         })\n\u001b[1;32m     86\u001b[0m \u001b[0;34m\u001b[0m\u001b[0m\n",
      "\u001b[0;32m/usr/local/lib/python2.7/dist-packages/tensorflow/python/client/session.pyc\u001b[0m in \u001b[0;36mrun\u001b[0;34m(self, fetches, feed_dict, options, run_metadata)\u001b[0m\n\u001b[1;32m    764\u001b[0m     \u001b[0;32mtry\u001b[0m\u001b[0;34m:\u001b[0m\u001b[0;34m\u001b[0m\u001b[0m\n\u001b[1;32m    765\u001b[0m       result = self._run(None, fetches, feed_dict, options_ptr,\n\u001b[0;32m--> 766\u001b[0;31m                          run_metadata_ptr)\n\u001b[0m\u001b[1;32m    767\u001b[0m       \u001b[0;32mif\u001b[0m \u001b[0mrun_metadata\u001b[0m\u001b[0;34m:\u001b[0m\u001b[0;34m\u001b[0m\u001b[0m\n\u001b[1;32m    768\u001b[0m         \u001b[0mproto_data\u001b[0m \u001b[0;34m=\u001b[0m \u001b[0mtf_session\u001b[0m\u001b[0;34m.\u001b[0m\u001b[0mTF_GetBuffer\u001b[0m\u001b[0;34m(\u001b[0m\u001b[0mrun_metadata_ptr\u001b[0m\u001b[0;34m)\u001b[0m\u001b[0;34m\u001b[0m\u001b[0m\n",
      "\u001b[0;32m/usr/local/lib/python2.7/dist-packages/tensorflow/python/client/session.pyc\u001b[0m in \u001b[0;36m_run\u001b[0;34m(self, handle, fetches, feed_dict, options, run_metadata)\u001b[0m\n\u001b[1;32m    962\u001b[0m     \u001b[0;32mif\u001b[0m \u001b[0mfinal_fetches\u001b[0m \u001b[0;32mor\u001b[0m \u001b[0mfinal_targets\u001b[0m\u001b[0;34m:\u001b[0m\u001b[0;34m\u001b[0m\u001b[0m\n\u001b[1;32m    963\u001b[0m       results = self._do_run(handle, final_targets, final_fetches,\n\u001b[0;32m--> 964\u001b[0;31m                              feed_dict_string, options, run_metadata)\n\u001b[0m\u001b[1;32m    965\u001b[0m     \u001b[0;32melse\u001b[0m\u001b[0;34m:\u001b[0m\u001b[0;34m\u001b[0m\u001b[0m\n\u001b[1;32m    966\u001b[0m       \u001b[0mresults\u001b[0m \u001b[0;34m=\u001b[0m \u001b[0;34m[\u001b[0m\u001b[0;34m]\u001b[0m\u001b[0;34m\u001b[0m\u001b[0m\n",
      "\u001b[0;32m/usr/local/lib/python2.7/dist-packages/tensorflow/python/client/session.pyc\u001b[0m in \u001b[0;36m_do_run\u001b[0;34m(self, handle, target_list, fetch_list, feed_dict, options, run_metadata)\u001b[0m\n\u001b[1;32m   1012\u001b[0m     \u001b[0;32mif\u001b[0m \u001b[0mhandle\u001b[0m \u001b[0;32mis\u001b[0m \u001b[0mNone\u001b[0m\u001b[0;34m:\u001b[0m\u001b[0;34m\u001b[0m\u001b[0m\n\u001b[1;32m   1013\u001b[0m       return self._do_call(_run_fn, self._session, feed_dict, fetch_list,\n\u001b[0;32m-> 1014\u001b[0;31m                            target_list, options, run_metadata)\n\u001b[0m\u001b[1;32m   1015\u001b[0m     \u001b[0;32melse\u001b[0m\u001b[0;34m:\u001b[0m\u001b[0;34m\u001b[0m\u001b[0m\n\u001b[1;32m   1016\u001b[0m       return self._do_call(_prun_fn, self._session, handle, feed_dict,\n",
      "\u001b[0;32m/usr/local/lib/python2.7/dist-packages/tensorflow/python/client/session.pyc\u001b[0m in \u001b[0;36m_do_call\u001b[0;34m(self, fn, *args)\u001b[0m\n\u001b[1;32m   1019\u001b[0m   \u001b[0;32mdef\u001b[0m \u001b[0m_do_call\u001b[0m\u001b[0;34m(\u001b[0m\u001b[0mself\u001b[0m\u001b[0;34m,\u001b[0m \u001b[0mfn\u001b[0m\u001b[0;34m,\u001b[0m \u001b[0;34m*\u001b[0m\u001b[0margs\u001b[0m\u001b[0;34m)\u001b[0m\u001b[0;34m:\u001b[0m\u001b[0;34m\u001b[0m\u001b[0m\n\u001b[1;32m   1020\u001b[0m     \u001b[0;32mtry\u001b[0m\u001b[0;34m:\u001b[0m\u001b[0;34m\u001b[0m\u001b[0m\n\u001b[0;32m-> 1021\u001b[0;31m       \u001b[0;32mreturn\u001b[0m \u001b[0mfn\u001b[0m\u001b[0;34m(\u001b[0m\u001b[0;34m*\u001b[0m\u001b[0margs\u001b[0m\u001b[0;34m)\u001b[0m\u001b[0;34m\u001b[0m\u001b[0m\n\u001b[0m\u001b[1;32m   1022\u001b[0m     \u001b[0;32mexcept\u001b[0m \u001b[0merrors\u001b[0m\u001b[0;34m.\u001b[0m\u001b[0mOpError\u001b[0m \u001b[0;32mas\u001b[0m \u001b[0me\u001b[0m\u001b[0;34m:\u001b[0m\u001b[0;34m\u001b[0m\u001b[0m\n\u001b[1;32m   1023\u001b[0m       \u001b[0mmessage\u001b[0m \u001b[0;34m=\u001b[0m \u001b[0mcompat\u001b[0m\u001b[0;34m.\u001b[0m\u001b[0mas_text\u001b[0m\u001b[0;34m(\u001b[0m\u001b[0me\u001b[0m\u001b[0;34m.\u001b[0m\u001b[0mmessage\u001b[0m\u001b[0;34m)\u001b[0m\u001b[0;34m\u001b[0m\u001b[0m\n",
      "\u001b[0;32m/usr/local/lib/python2.7/dist-packages/tensorflow/python/client/session.pyc\u001b[0m in \u001b[0;36m_run_fn\u001b[0;34m(session, feed_dict, fetch_list, target_list, options, run_metadata)\u001b[0m\n\u001b[1;32m   1001\u001b[0m         return tf_session.TF_Run(session, options,\n\u001b[1;32m   1002\u001b[0m                                  \u001b[0mfeed_dict\u001b[0m\u001b[0;34m,\u001b[0m \u001b[0mfetch_list\u001b[0m\u001b[0;34m,\u001b[0m \u001b[0mtarget_list\u001b[0m\u001b[0;34m,\u001b[0m\u001b[0;34m\u001b[0m\u001b[0m\n\u001b[0;32m-> 1003\u001b[0;31m                                  status, run_metadata)\n\u001b[0m\u001b[1;32m   1004\u001b[0m \u001b[0;34m\u001b[0m\u001b[0m\n\u001b[1;32m   1005\u001b[0m     \u001b[0;32mdef\u001b[0m \u001b[0m_prun_fn\u001b[0m\u001b[0;34m(\u001b[0m\u001b[0msession\u001b[0m\u001b[0;34m,\u001b[0m \u001b[0mhandle\u001b[0m\u001b[0;34m,\u001b[0m \u001b[0mfeed_dict\u001b[0m\u001b[0;34m,\u001b[0m \u001b[0mfetch_list\u001b[0m\u001b[0;34m)\u001b[0m\u001b[0;34m:\u001b[0m\u001b[0;34m\u001b[0m\u001b[0m\n",
      "\u001b[0;31mKeyboardInterrupt\u001b[0m: "
     ]
    }
   ],
   "source": [
    "eps = EPSILON\n",
    "#lr = LEARNING_RATE\n",
    "buff.clear()\n",
    "last_ep = 0\n",
    "start_update = 0\n",
    "with tf.Session(graph=graph) as sess:\n",
    "    DQN.set_up(sess)\n",
    "    sess.run(tf.global_variables_initializer())\n",
    "    \n",
    "    ep_reward = np.zeros(MAX_EPISODE)\n",
    "    ep_success = np.zeros(MAX_EPISODE)\n",
    "    ep_crash = np.zeros(MAX_EPISODE)\n",
    "    batch_loss = np.zeros(MAX_EPISODE)\n",
    "    #avg_var = 0\n",
    "    \n",
    "    for ep in range(MAX_EPISODE):\n",
    "        s = game.reset()\n",
    "        #var = 0\n",
    "        for st in range(MAX_STEP):\n",
    "            a = DQN.take_action(s.reshape(-1,info.dim_s), eps)\n",
    "            s2, r, terminal, report = game.step(a)\n",
    "            \n",
    "            buff.add(np.reshape(s, (info.dim_s,)).astype(np.float32), np.array(a).astype(np.float32),\\\n",
    "                     np.array(r).astype(np.float32), np.reshape(s2, (info.dim_s,)).astype(np.float32),\\\n",
    "                     np.array(terminal).astype(np.float32))\n",
    "            \n",
    "            ep_reward[ep] += (1.*r)\n",
    "            #var += np.sum(actor.give_policy(s.reshape(-1,info.dim_s))**2)\n",
    "            s = s2\n",
    "            if buff.size() >= MINIBATCH_SIZE:\n",
    "                (s_batch, a_batch, r_batch, s2_batch, t_batch) = buff.sample_batch(MINIBATCH_SIZE)\n",
    "                \n",
    "                s_batch = np.array(s_batch).reshape(-1, info.dim_s)\n",
    "                s2_batch = np.array(s2_batch).reshape(-1, info.dim_s)\n",
    "                a_batch = np.array(a_batch)#.reshape(-1, 1)\n",
    "                r_batch = np.array(r_batch)#.reshape(-1, 1)\n",
    "                t_batch = np.array(t_batch)#.reshape(-1, 1)\n",
    "\n",
    "                Q_max = DQN.target_q(s2_batch)\n",
    "                Q_max = Q_max[0]\n",
    "                \n",
    "                R_batch = r_batch + GAMMA * Q_max * (1-t_batch) # if terminal then the second part is zero\n",
    "\n",
    "                if(len(a_batch.shape)>1):\n",
    "                    pdb.set_trace()\n",
    "                    print(a_batch.shape, buff.size(), ep, st)\n",
    "                batch_loss[ep], _ = DQN.train(s_batch, a_batch, R_batch, lr)\n",
    "            \n",
    "            if terminal:\n",
    "                break\n",
    "                \n",
    "        if ((ep % C_target_update) == (C_target_update -1)):\n",
    "            DQN.update_target()\n",
    "                \n",
    "        if (r >= 100):\n",
    "            ep_success[ep] = 1\n",
    "        elif (r <= -100):\n",
    "            ep_crash[ep] = 1\n",
    "        \n",
    "        if ((ep % print_ep) == (print_ep-1)) or (ep == 0):\n",
    "            print('Ep: %d --- Ave R: %.1f  |  loss: %.1f  |  Suc: %.2f  |  crash: %.2f  |  Max R: %.1f  |  lr:%.1fe-4  |  eps:%.0fe-2'\\\n",
    "                  %(ep, np.mean(ep_reward[last_ep:ep+1]), np.mean(batch_loss[last_ep:ep+1]),\\\n",
    "                    np.mean(ep_success[last_ep:ep+1]), np.mean(ep_crash[last_ep:ep+1]), \\\n",
    "                    np.amax(ep_reward[last_ep:ep+1]), 1e4*lr, 1e2*eps))\n",
    "            last_ep = ep\n",
    "            \n",
    "        if (ep % save_ep) == (save_ep-1):\n",
    "            print(' ***** Saving...  at episode %d ...' %ep, end=\"\")\n",
    "            saver = tf.train.Saver()\n",
    "            filename = save_dir + 'Episod_' + str(ep) + '.chk'\n",
    "            saver.save(sess, filename)\n",
    "            with open(save_dir + 'rewards.txt', 'w') as f:\n",
    "                f.write('%d, , , , ,Learning rate = %f - lr decay = %f - Epsilon = %f - eps decay = %f - Buffer size = %d - Batch size = %d - hidden layers: %d - target update cycle: %d\\n' \\\n",
    "                        %(ep, LEARNING_RATE, lr_decay_rate, EPSILON, eps_decay_rate, BUFFER_SIZE, MINIBATCH_SIZE, info.hid_layers, C_target_update) )\n",
    "                for i in range(ep):\n",
    "                    f.write('%f,      %f\\n' %(ep_reward[i], batch_loss[i]))\n",
    "            print(' Done ******')\n",
    "        if (ep == 0):\n",
    "            try:\n",
    "                os.mkdir(save_dir)  \n",
    "                with open(save_dir + 'params.txt', 'w') as f:\n",
    "                    f.write('Learning rate = %f\\n' %LEARNING_RATE)\n",
    "                    f.write('lr decay = %f\\n' %lr_decay_rate)\n",
    "                    f.write('Epsilon = %f\\n' %EPSILON)\n",
    "                    f.write('eps decay = %f\\n' %eps_decay_rate)\n",
    "                    f.write('Buffer size = %d\\n' %BUFFER_SIZE)\n",
    "                    f.write('Batch size = %d\\n' %MINIBATCH_SIZE)\n",
    "                    f.write('hidden layers: %d\\n' %info.hid_layers)\n",
    "                    f.write('target update cycle: %d\\n' %C_target_update)\n",
    "            except:\n",
    "                print('Directory \\net exists')\n",
    "                raise\n",
    "            \n",
    "        if (ep % lr_decay_ep) == (lr_decay_ep-1):\n",
    "            lr = lr_decay_rate * lr\n",
    "            eps = eps_decay_rate * eps\n",
    "            \n",
    "print('DONE') \n",
    "    "
   ]
  },
  {
   "cell_type": "code",
   "execution_count": null,
   "metadata": {
    "collapsed": false
   },
   "outputs": [],
   "source": []
  },
  {
   "cell_type": "code",
   "execution_count": null,
   "metadata": {
    "collapsed": false
   },
   "outputs": [],
   "source": []
  },
  {
   "cell_type": "code",
   "execution_count": null,
   "metadata": {
    "collapsed": false
   },
   "outputs": [],
   "source": []
  },
  {
   "cell_type": "code",
   "execution_count": null,
   "metadata": {
    "collapsed": false
   },
   "outputs": [],
   "source": []
  },
  {
   "cell_type": "code",
   "execution_count": null,
   "metadata": {
    "collapsed": false
   },
   "outputs": [],
   "source": []
  },
  {
   "cell_type": "code",
   "execution_count": null,
   "metadata": {
    "collapsed": true
   },
   "outputs": [],
   "source": []
  }
 ],
 "metadata": {
  "kernelspec": {
   "display_name": "Python 2",
   "language": "python",
   "name": "python2"
  },
  "language_info": {
   "codemirror_mode": {
    "name": "ipython",
    "version": 2
   },
   "file_extension": ".py",
   "mimetype": "text/x-python",
   "name": "python",
   "nbconvert_exporter": "python",
   "pygments_lexer": "ipython2",
   "version": "2.7.13rc1"
  }
 },
 "nbformat": 4,
 "nbformat_minor": 0
}
