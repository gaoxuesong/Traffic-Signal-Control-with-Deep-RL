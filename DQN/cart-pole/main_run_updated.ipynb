{
 "cells": [
  {
   "cell_type": "code",
   "execution_count": null,
   "metadata": {
    "collapsed": false
   },
   "outputs": [],
   "source": [
    "import numpy as np\n",
    "import tensorflow as tf \n",
    "from collections import deque\n",
    "import random\n",
    "import pdb\n",
    "from replay_memory_Q import ReplayMemory\n",
    "from q_networks import Q_Network\n",
    "from test_game import test_env\n",
    "from info_obj import info_holder\n",
    "import os"
   ]
  },
  {
   "cell_type": "code",
   "execution_count": null,
   "metadata": {
    "collapsed": false
   },
   "outputs": [],
   "source": [
    "\n",
    "import gym\n",
    "game_name = 'CartPole-v0'\n",
    "#game_name = 'LunarLander-v2'\n",
    "game = gym.make(game_name)\n",
    "state_dim = game.observation_space.shape[0]\n",
    "action_dim = game.action_space.n\n",
    "'''\n",
    "game = test_env()\n",
    "state_dim = 1\n",
    "action_dim = 2\n",
    "'''\n",
    "print(action_dim)\n",
    "print(state_dim)"
   ]
  },
  {
   "cell_type": "code",
   "execution_count": null,
   "metadata": {
    "collapsed": false
   },
   "outputs": [],
   "source": [
    "# info = graph, dim_s, dim_a, hid_layers, learning_rate, tau\n",
    "save_dir = './Results/'+ game_name[:-3] + '/net/'\n",
    "if 'LunarLander' in game_name:\n",
    "    BUFFER_SIZE = int(1e5)\n",
    "    MINIBATCH_SIZE = 128\n",
    "    GAMMA = 0.99\n",
    "    LEARNING_RATE = 1e-4 #5e-5 lr/2\n",
    "    lr_decay_ep = 100\n",
    "    lr_decay_rate = 1\n",
    "    eps_decay_rate = 0.9\n",
    "    TAU = 0\n",
    "    ENTROPY_BETA = 0\n",
    "    EPSILON = 0.8\n",
    "    C_target_update = 100 #episode\n",
    "\n",
    "    MAX_EPISODE = int(3e4)\n",
    "    MAX_STEP = int(1e3)\n",
    "    print_ep = int(1e2)\n",
    "    save_ep = int(1e3)\n",
    "elif 'CartPole' in game_name:\n",
    "    BUFFER_SIZE = int(1e5)\n",
    "    MINIBATCH_SIZE = 128\n",
    "    GAMMA = 0.99\n",
    "    LEARNING_RATE = 1e-4 #5e-5 lr/2\n",
    "    lr_decay_ep = 100\n",
    "    lr_decay_rate = 1\n",
    "    eps_decay_rate = 0.9\n",
    "    TAU = 0\n",
    "    ENTROPY_BETA = 0\n",
    "    EPSILON = 0.8\n",
    "    C_target_update = 100 #episode\n",
    "\n",
    "    MAX_EPISODE = int(3e4)\n",
    "    MAX_STEP = int(1e3)\n",
    "    print_ep = int(1e2)\n",
    "    save_ep = int(1e3)\n",
    "\n",
    "buff = ReplayMemory(BUFFER_SIZE)\n",
    "info = info_holder()\n",
    "try:\n",
    "    DQN\n",
    "except:\n",
    "    pass\n",
    "else:\n",
    "    DQN.reset_net()\n",
    "\n",
    "graph = tf.Graph()\n",
    "with graph.as_default():\n",
    "    info.graph = graph\n",
    "    info.dim_s = state_dim\n",
    "    info.dim_a = action_dim\n",
    "    info.hid_layers = np.array([16])\n",
    "    info.learning_rate = LEARNING_RATE\n",
    "    info.tau = TAU\n",
    "    info.entropy_beta = ENTROPY_BETA\n",
    "    DQN = Q_Network(info)"
   ]
  },
  {
   "cell_type": "code",
   "execution_count": null,
   "metadata": {
    "collapsed": false
   },
   "outputs": [],
   "source": [
    "eps = EPSILON\n",
    "lr = LEARNING_RATE\n",
    "buff.clear()\n",
    "last_ep = 0\n",
    "start_update = 0\n",
    "with tf.Session(graph=graph) as sess:\n",
    "    DQN.set_up(sess)\n",
    "    sess.run(tf.global_variables_initializer())\n",
    "    \n",
    "    ep_reward = np.zeros(MAX_EPISODE)\n",
    "    ep_success = np.zeros(MAX_EPISODE)\n",
    "    ep_crash = np.zeros(MAX_EPISODE)\n",
    "    batch_loss = np.zeros(MAX_EPISODE)\n",
    "    #avg_var = 0\n",
    "    \n",
    "    for ep in range(MAX_EPISODE):\n",
    "        s = game.reset()\n",
    "        #var = 0\n",
    "        for st in range(MAX_STEP):\n",
    "            a = DQN.take_action(s.reshape(-1,info.dim_s), eps)\n",
    "            s2, r, terminal, report = game.step(a)\n",
    "            \n",
    "            buff.add(np.reshape(s, (info.dim_s,)).astype(np.float32), np.array(a).astype(np.float32),\\\n",
    "                     np.array(r).astype(np.float32), np.reshape(s2, (info.dim_s,)).astype(np.float32),\\\n",
    "                     np.array(terminal).astype(np.float32))\n",
    "            \n",
    "            ep_reward[ep] += (1.*r)\n",
    "            #var += np.sum(actor.give_policy(s.reshape(-1,info.dim_s))**2)\n",
    "            s = s2\n",
    "            if buff.size() >= MINIBATCH_SIZE:\n",
    "                (s_batch, a_batch, r_batch, s2_batch, t_batch) = buff.sample_batch(MINIBATCH_SIZE)\n",
    "                \n",
    "                s_batch = np.array(s_batch).reshape(-1, info.dim_s)\n",
    "                s2_batch = np.array(s2_batch).reshape(-1, info.dim_s)\n",
    "                a_batch = np.array(a_batch)#.reshape(-1, 1)\n",
    "                r_batch = np.array(r_batch)#.reshape(-1, 1)\n",
    "                t_batch = np.array(t_batch)#.reshape(-1, 1)\n",
    "\n",
    "                Q_max = DQN.target_q(s2_batch)\n",
    "                Q_max = Q_max[0]\n",
    "                \n",
    "                R_batch = r_batch + GAMMA * Q_max * (1-t_batch) # if terminal then the second part is zero\n",
    "\n",
    "                if(len(a_batch.shape)>1):\n",
    "                    pdb.set_trace()\n",
    "                    print(a_batch.shape, buff.size(), ep, st)\n",
    "                batch_loss[ep], _ = DQN.train(s_batch, a_batch, R_batch, lr)\n",
    "            \n",
    "            if terminal:\n",
    "                break\n",
    "                \n",
    "        if ((ep % C_target_update) == (C_target_update -1)):\n",
    "            DQN.update_target()\n",
    "                \n",
    "        if (r >= 100):\n",
    "            ep_success[ep] = 1\n",
    "        elif (r <= -100):\n",
    "            ep_crash[ep] = 1\n",
    "        \n",
    "        if ((ep % print_ep) == (print_ep-1)) or (ep == 0):\n",
    "            print('Ep: %d --- Ave R: %.1f  |  loss: %.1f  |  Suc: %.2f  |  crash: %.2f  |  Max R: %.1f  |  lr:%.0f*1e-4  |  eps:%.0f*1e-2'\\\n",
    "                  %(ep, np.mean(ep_reward[last_ep:ep+1]), np.mean(batch_loss[last_ep:ep+1]),\\\n",
    "                    np.mean(ep_success[last_ep:ep+1]), np.mean(ep_crash[last_ep:ep+1]), \\\n",
    "                    np.amax(ep_reward[last_ep:ep+1]), 1e4*lr, 1e2*eps))\n",
    "            last_ep = ep\n",
    "            \n",
    "        if (ep % save_ep) == (save_ep-1):\n",
    "            print(' ***** Saving...  at episode %d ...' %ep, end=\"\")\n",
    "            saver = tf.train.Saver()\n",
    "            filename = save_dir + 'Episod_' + str(ep) + '.chk'\n",
    "            saver.save(sess, filename)\n",
    "            with open(save_dir + 'rewards.txt', 'w') as f:\n",
    "                f.write('%d, , , , ,Learning rate = %f - lr decay = %f - Epsilon = %f - eps decay = %f - Buffer size = %d - Batch size = %d - hidden layers: %d - target update cycle: %d\\n' \\\n",
    "                        %(ep, LEARNING_RATE, lr_decay_rate, EPSILON, eps_decay_rate, BUFFER_SIZE, MINIBATCH_SIZE, info.hid_layers, C_target_update) )\n",
    "                for i in range(ep):\n",
    "                    f.write('%f,      %f\\n' %(ep_reward[i], batch_loss[i]))\n",
    "            print(' Done ******')\n",
    "        if (ep == 0):\n",
    "            try:\n",
    "                os.mkdir(save_dir)  \n",
    "                with open(save_dir + 'params.txt', 'w') as f:\n",
    "                    f.write('Learning rate = %f\\n' %LEARNING_RATE)\n",
    "                    f.write('lr decay = %f\\n' %lr_decay_rate)\n",
    "                    f.write('Epsilon = %f\\n' %EPSILON)\n",
    "                    f.write('eps decay = %f\\n' %eps_decay_rate)\n",
    "                    f.write('Buffer size = %d\\n' %BUFFER_SIZE)\n",
    "                    f.write('Batch size = %d\\n' %MINIBATCH_SIZE)\n",
    "                    f.write('hidden layers: %d\\n' %info.hid_layers)\n",
    "                    f.write('target update cycle: %d\\n' %C_target_update)\n",
    "            except:\n",
    "                print('Directory \\net exists')\n",
    "                raise\n",
    "                '''\n",
    "                with open(save_dir + 'params.txt', 'w') as f:\n",
    "                    f.write('Learning rate = %f\\n' %LEARNING_RATE)\n",
    "                    f.write('lr decay = %f\\n' %lr_decay_rate)\n",
    "                    f.write('Epsilon = %f\\n' %EPSILON)\n",
    "                    f.write('eps decay = %f\\n' %eps_decay_rate)\n",
    "                    f.write('Buffer size = %d\\n' %BUFFER_SIZE)\n",
    "                    f.write('Batch size = %d\\n' %MINIBATCH_SIZE)\n",
    "                    f.write('hidden layers: %d\\n' %info.hid_layers)\n",
    "                    f.write('target update cycle: %d\\n' %C_target_update)\n",
    "                '''\n",
    "            \n",
    "        if (ep % lr_decay_ep) == (lr_decay_ep-1):\n",
    "            lr = lr_decay_rate * lr\n",
    "            eps = eps_decay_rate * eps\n",
    "            \n",
    "print('DONE') \n",
    "    "
   ]
  },
  {
   "cell_type": "code",
   "execution_count": null,
   "metadata": {
    "collapsed": false
   },
   "outputs": [],
   "source": []
  },
  {
   "cell_type": "code",
   "execution_count": null,
   "metadata": {
    "collapsed": false
   },
   "outputs": [],
   "source": [
    "\n"
   ]
  },
  {
   "cell_type": "code",
   "execution_count": null,
   "metadata": {
    "collapsed": false
   },
   "outputs": [],
   "source": []
  },
  {
   "cell_type": "code",
   "execution_count": null,
   "metadata": {
    "collapsed": false
   },
   "outputs": [],
   "source": []
  },
  {
   "cell_type": "code",
   "execution_count": null,
   "metadata": {
    "collapsed": false
   },
   "outputs": [],
   "source": []
  },
  {
   "cell_type": "code",
   "execution_count": null,
   "metadata": {
    "collapsed": true
   },
   "outputs": [],
   "source": []
  }
 ],
 "metadata": {
  "kernelspec": {
   "display_name": "Python 3",
   "language": "python",
   "name": "python3"
  },
  "language_info": {
   "codemirror_mode": {
    "name": "ipython",
    "version": 3
   },
   "file_extension": ".py",
   "mimetype": "text/x-python",
   "name": "python",
   "nbconvert_exporter": "python",
   "pygments_lexer": "ipython3",
   "version": "3.5.2"
  }
 },
 "nbformat": 4,
 "nbformat_minor": 0
}
