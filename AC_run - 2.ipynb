{
 "cells": [
  {
   "cell_type": "code",
   "execution_count": 1,
   "metadata": {
    "collapsed": false
   },
   "outputs": [],
   "source": [
    "import numpy as np\n",
    "import tensorflow as tf \n",
    "import tflearn\n",
    "from collections import deque\n",
    "import random\n",
    "import pdb\n",
    "from replay_memory import ReplayMemory\n",
    "#from AC_networks import ActorNet, CriticNet\n",
    "from AC_networks_2 import AC_Net\n",
    "from test_game import test_env\n",
    "import os"
   ]
  },
  {
   "cell_type": "code",
   "execution_count": 2,
   "metadata": {
    "collapsed": false
   },
   "outputs": [],
   "source": [
    "class input_struct:\n",
    "    def __init__(self, net):\n",
    "        self.net = net\n"
   ]
  },
  {
   "cell_type": "code",
   "execution_count": 3,
   "metadata": {
    "collapsed": false
   },
   "outputs": [
    {
     "name": "stderr",
     "output_type": "stream",
     "text": [
      "[2016-12-26 23:07:19,513] Making new env: LunarLander-v2\n"
     ]
    }
   ],
   "source": [
    "import gym\n",
    "game = gym.make('LunarLander-v2')\n",
    "#game = gym.make('CartPole-v0')\n",
    "state_dim = game.observation_space.shape[0]\n",
    "action_dim = game.action_space.n\n",
    "#for i_episode in range(20):\n",
    "#    observation = env.reset()\n",
    "#    for t in range(100):\n",
    "#        env.render()\n",
    "#        print(observation)\n",
    "#        action = env.action_space.sample()\n",
    "#        observation, reward, done, info = env.step(action)\n",
    "#        if done:\n",
    "#            print(\"Episode finished after {} timesteps\".format(t+1))\n",
    "#            break"
   ]
  },
  {
   "cell_type": "code",
   "execution_count": 4,
   "metadata": {
    "collapsed": false
   },
   "outputs": [],
   "source": [
    "# info = graph, dim_s, dim_a, hid_layers, learning_rate, tau\n",
    "MAX_EPISODE = 10000\n",
    "MAX_STEP = 1000\n",
    "#MINIBATCH_SIZE = 16\n",
    "GAMMA = 0.99\n",
    "LEARNING_RATE = 1e-4 #7e-5 lr/2\n",
    "ENTROPY_BETA = 0\n",
    "#buff = ReplayMemory(500)\n",
    "info = input_struct('actor')\n",
    "try:\n",
    "    actor\n",
    "except:\n",
    "    pass\n",
    "else:\n",
    "    AC_src.reset_net() \n",
    "    \n",
    "graph = tf.Graph()\n",
    "with graph.as_default():\n",
    "    info.graph = graph\n",
    "    info.dim_s = state_dim\n",
    "    info.dim_a = action_dim\n",
    "    info.shared_layers = np.array([64])\n",
    "    info.act_hid_layers = np.array([32])\n",
    "    info.crit_hid_layers = np.array([32])\n",
    "    info.learning_rate = LEARNING_RATE\n",
    "    info.entropy_beta = ENTROPY_BETA\n",
    "    thread = -1\n",
    "    AC_src = AC_Net(info, thread)\n",
    "    thread = 1\n",
    "    AC_dst = AC_Net(info, thread)\n",
    "    "
   ]
  },
  {
   "cell_type": "code",
   "execution_count": 8,
   "metadata": {
    "collapsed": false
   },
   "outputs": [
    {
     "name": "stdout",
     "output_type": "stream",
     "text": [
      "Episode: 0 --- Ave R: -544.4  |  Success: 0.00  |  crash: 1.00  |  Max R: -544.4  |  var: 0.25  |  lr:1.00*1e-4\n",
      "Episode: 99 --- Ave R: -254.7  |  Success: 0.00  |  crash: 0.99  |  Max R: -26.1  |  var: 0.29  |  lr:1.00*1e-4\n",
      "Episode: 199 --- Ave R: -352.0  |  Success: 0.00  |  crash: 1.00  |  Max R: -56.2  |  var: 0.40  |  lr:0.97*1e-4\n",
      "Episode: 299 --- Ave R: -238.0  |  Success: 0.00  |  crash: 0.94  |  Max R: -31.6  |  var: 0.36  |  lr:0.94*1e-4\n",
      "Episode: 399 --- Ave R: -186.8  |  Success: 0.00  |  crash: 0.88  |  Max R: -11.6  |  var: 0.50  |  lr:0.91*1e-4\n",
      "Episode: 499 --- Ave R: -129.6  |  Success: 0.01  |  crash: 0.75  |  Max R: 26.6  |  var: 0.46  |  lr:0.89*1e-4\n",
      "Episode: 599 --- Ave R: -62.5  |  Success: 0.09  |  crash: 0.49  |  Max R: 138.8  |  var: 0.49  |  lr:0.86*1e-4\n",
      "Episode: 699 --- Ave R: -184.1  |  Success: 0.02  |  crash: 0.98  |  Max R: 158.7  |  var: 0.51  |  lr:0.83*1e-4\n",
      "Episode: 799 --- Ave R: -235.7  |  Success: 0.00  |  crash: 1.00  |  Max R: -169.3  |  var: 0.59  |  lr:0.81*1e-4\n",
      "Episode: 899 --- Ave R: -218.4  |  Success: 0.00  |  crash: 1.00  |  Max R: -95.0  |  var: 0.42  |  lr:0.78*1e-4\n",
      "Episode: 999 --- Ave R: -175.8  |  Success: 0.00  |  crash: 0.95  |  Max R: -79.7  |  var: 0.48  |  lr:0.76*1e-4\n",
      " ***** Saving...  at episode 999 ******\n"
     ]
    },
    {
     "name": "stderr",
     "output_type": "stream",
     "text": [
      "WARNING:tensorflow:Error encountered when serializing data_augmentation.\n",
      "Type is unsupported, or the types of the items don't match field type in CollectionDef.\n",
      "'NoneType' object has no attribute 'name'\n",
      "[2016-12-26 23:18:31,749] Error encountered when serializing data_augmentation.\n",
      "Type is unsupported, or the types of the items don't match field type in CollectionDef.\n",
      "'NoneType' object has no attribute 'name'\n",
      "WARNING:tensorflow:Error encountered when serializing data_preprocessing.\n",
      "Type is unsupported, or the types of the items don't match field type in CollectionDef.\n",
      "'NoneType' object has no attribute 'name'\n",
      "[2016-12-26 23:18:31,754] Error encountered when serializing data_preprocessing.\n",
      "Type is unsupported, or the types of the items don't match field type in CollectionDef.\n",
      "'NoneType' object has no attribute 'name'\n"
     ]
    },
    {
     "name": "stdout",
     "output_type": "stream",
     "text": [
      "Episode: 1099 --- Ave R: -174.3  |  Success: 0.00  |  crash: 0.96  |  Max R: -45.4  |  var: 0.50  |  lr:0.74*1e-4\n",
      "Episode: 1199 --- Ave R: -180.0  |  Success: 0.00  |  crash: 0.92  |  Max R: -60.2  |  var: 0.45  |  lr:0.72*1e-4\n",
      "Episode: 1299 --- Ave R: -197.3  |  Success: 0.00  |  crash: 0.85  |  Max R: -15.3  |  var: 0.52  |  lr:0.69*1e-4\n",
      "Episode: 1399 --- Ave R: -224.9  |  Success: 0.00  |  crash: 0.96  |  Max R: -144.8  |  var: 0.50  |  lr:0.67*1e-4\n",
      "Episode: 1499 --- Ave R: -245.0  |  Success: 0.00  |  crash: 0.83  |  Max R: -126.5  |  var: 0.51  |  lr:0.65*1e-4\n"
     ]
    },
    {
     "ename": "KeyboardInterrupt",
     "evalue": "",
     "output_type": "error",
     "traceback": [
      "\u001b[0;31m---------------------------------------------------------------------------\u001b[0m",
      "\u001b[0;31mKeyboardInterrupt\u001b[0m                         Traceback (most recent call last)",
      "\u001b[0;32m<ipython-input-8-357c4bfe160b>\u001b[0m in \u001b[0;36m<module>\u001b[0;34m()\u001b[0m\n\u001b[1;32m     55\u001b[0m \u001b[0;34m\u001b[0m\u001b[0m\n\u001b[1;32m     56\u001b[0m                 \u001b[0;31m#Q_2 = critic.predict_target(s2_batch)\u001b[0m\u001b[0;34m\u001b[0m\u001b[0;34m\u001b[0m\u001b[0m\n\u001b[0;32m---> 57\u001b[0;31m                 \u001b[0mQ_2\u001b[0m \u001b[0;34m=\u001b[0m \u001b[0mAC_src\u001b[0m\u001b[0;34m.\u001b[0m\u001b[0mpredict\u001b[0m\u001b[0;34m(\u001b[0m\u001b[0ms2_batch\u001b[0m\u001b[0;34m)\u001b[0m\u001b[0;34m\u001b[0m\u001b[0m\n\u001b[0m\u001b[1;32m     58\u001b[0m \u001b[0;34m\u001b[0m\u001b[0m\n\u001b[1;32m     59\u001b[0m                 \u001b[0mR_batch\u001b[0m \u001b[0;34m=\u001b[0m \u001b[0mr_batch\u001b[0m \u001b[0;34m+\u001b[0m \u001b[0mGAMMA\u001b[0m \u001b[0;34m*\u001b[0m \u001b[0mQ_2\u001b[0m \u001b[0;34m*\u001b[0m \u001b[0;34m(\u001b[0m\u001b[0;36m1\u001b[0m\u001b[0;34m-\u001b[0m\u001b[0mt_batch\u001b[0m\u001b[0;34m)\u001b[0m\u001b[0;34m\u001b[0m\u001b[0m\n",
      "\u001b[0;32m/mnt/notebooks/AC_networks_2.pyc\u001b[0m in \u001b[0;36mpredict\u001b[0;34m(self, inputs)\u001b[0m\n\u001b[1;32m    154\u001b[0m     \u001b[0;32mdef\u001b[0m \u001b[0mpredict\u001b[0m\u001b[0;34m(\u001b[0m\u001b[0mself\u001b[0m\u001b[0;34m,\u001b[0m \u001b[0minputs\u001b[0m\u001b[0;34m)\u001b[0m\u001b[0;34m:\u001b[0m\u001b[0;34m\u001b[0m\u001b[0m\n\u001b[1;32m    155\u001b[0m         return self.sess.run(self.value, feed_dict={\n\u001b[0;32m--> 156\u001b[0;31m             \u001b[0mself\u001b[0m\u001b[0;34m.\u001b[0m\u001b[0minputs\u001b[0m\u001b[0;34m:\u001b[0m \u001b[0minputs\u001b[0m\u001b[0;34m\u001b[0m\u001b[0m\n\u001b[0m\u001b[1;32m    157\u001b[0m         })\n\u001b[1;32m    158\u001b[0m \u001b[0;34m\u001b[0m\u001b[0m\n",
      "\u001b[0;32m/usr/local/lib/python2.7/dist-packages/tensorflow/python/client/session.pyc\u001b[0m in \u001b[0;36mrun\u001b[0;34m(self, fetches, feed_dict, options, run_metadata)\u001b[0m\n\u001b[1;32m    370\u001b[0m     \u001b[0;32mtry\u001b[0m\u001b[0;34m:\u001b[0m\u001b[0;34m\u001b[0m\u001b[0m\n\u001b[1;32m    371\u001b[0m       result = self._run(None, fetches, feed_dict, options_ptr,\n\u001b[0;32m--> 372\u001b[0;31m                          run_metadata_ptr)\n\u001b[0m\u001b[1;32m    373\u001b[0m       \u001b[0;32mif\u001b[0m \u001b[0mrun_metadata\u001b[0m\u001b[0;34m:\u001b[0m\u001b[0;34m\u001b[0m\u001b[0m\n\u001b[1;32m    374\u001b[0m         \u001b[0mproto_data\u001b[0m \u001b[0;34m=\u001b[0m \u001b[0mtf_session\u001b[0m\u001b[0;34m.\u001b[0m\u001b[0mTF_GetBuffer\u001b[0m\u001b[0;34m(\u001b[0m\u001b[0mrun_metadata_ptr\u001b[0m\u001b[0;34m)\u001b[0m\u001b[0;34m\u001b[0m\u001b[0m\n",
      "\u001b[0;32m/usr/local/lib/python2.7/dist-packages/tensorflow/python/client/session.pyc\u001b[0m in \u001b[0;36m_run\u001b[0;34m(self, handle, fetches, feed_dict, options, run_metadata)\u001b[0m\n\u001b[1;32m    634\u001b[0m     \u001b[0;32mtry\u001b[0m\u001b[0;34m:\u001b[0m\u001b[0;34m\u001b[0m\u001b[0m\n\u001b[1;32m    635\u001b[0m       results = self._do_run(handle, target_list, unique_fetches,\n\u001b[0;32m--> 636\u001b[0;31m                              feed_dict_string, options, run_metadata)\n\u001b[0m\u001b[1;32m    637\u001b[0m     \u001b[0;32mfinally\u001b[0m\u001b[0;34m:\u001b[0m\u001b[0;34m\u001b[0m\u001b[0m\n\u001b[1;32m    638\u001b[0m       \u001b[0;31m# The movers are no longer used. Delete them.\u001b[0m\u001b[0;34m\u001b[0m\u001b[0;34m\u001b[0m\u001b[0m\n",
      "\u001b[0;32m/usr/local/lib/python2.7/dist-packages/tensorflow/python/client/session.pyc\u001b[0m in \u001b[0;36m_do_run\u001b[0;34m(self, handle, target_list, fetch_list, feed_dict, options, run_metadata)\u001b[0m\n\u001b[1;32m    706\u001b[0m     \u001b[0;32mif\u001b[0m \u001b[0mhandle\u001b[0m \u001b[0;32mis\u001b[0m \u001b[0mNone\u001b[0m\u001b[0;34m:\u001b[0m\u001b[0;34m\u001b[0m\u001b[0m\n\u001b[1;32m    707\u001b[0m       return self._do_call(_run_fn, self._session, feed_dict, fetch_list,\n\u001b[0;32m--> 708\u001b[0;31m                            target_list, options, run_metadata)\n\u001b[0m\u001b[1;32m    709\u001b[0m     \u001b[0;32melse\u001b[0m\u001b[0;34m:\u001b[0m\u001b[0;34m\u001b[0m\u001b[0m\n\u001b[1;32m    710\u001b[0m       return self._do_call(_prun_fn, self._session, handle, feed_dict,\n",
      "\u001b[0;32m/usr/local/lib/python2.7/dist-packages/tensorflow/python/client/session.pyc\u001b[0m in \u001b[0;36m_do_call\u001b[0;34m(self, fn, *args)\u001b[0m\n\u001b[1;32m    713\u001b[0m   \u001b[0;32mdef\u001b[0m \u001b[0m_do_call\u001b[0m\u001b[0;34m(\u001b[0m\u001b[0mself\u001b[0m\u001b[0;34m,\u001b[0m \u001b[0mfn\u001b[0m\u001b[0;34m,\u001b[0m \u001b[0;34m*\u001b[0m\u001b[0margs\u001b[0m\u001b[0;34m)\u001b[0m\u001b[0;34m:\u001b[0m\u001b[0;34m\u001b[0m\u001b[0m\n\u001b[1;32m    714\u001b[0m     \u001b[0;32mtry\u001b[0m\u001b[0;34m:\u001b[0m\u001b[0;34m\u001b[0m\u001b[0m\n\u001b[0;32m--> 715\u001b[0;31m       \u001b[0;32mreturn\u001b[0m \u001b[0mfn\u001b[0m\u001b[0;34m(\u001b[0m\u001b[0;34m*\u001b[0m\u001b[0margs\u001b[0m\u001b[0;34m)\u001b[0m\u001b[0;34m\u001b[0m\u001b[0m\n\u001b[0m\u001b[1;32m    716\u001b[0m     \u001b[0;32mexcept\u001b[0m \u001b[0merrors\u001b[0m\u001b[0;34m.\u001b[0m\u001b[0mOpError\u001b[0m \u001b[0;32mas\u001b[0m \u001b[0me\u001b[0m\u001b[0;34m:\u001b[0m\u001b[0;34m\u001b[0m\u001b[0m\n\u001b[1;32m    717\u001b[0m       \u001b[0mmessage\u001b[0m \u001b[0;34m=\u001b[0m \u001b[0mcompat\u001b[0m\u001b[0;34m.\u001b[0m\u001b[0mas_text\u001b[0m\u001b[0;34m(\u001b[0m\u001b[0me\u001b[0m\u001b[0;34m.\u001b[0m\u001b[0mmessage\u001b[0m\u001b[0;34m)\u001b[0m\u001b[0;34m\u001b[0m\u001b[0m\n",
      "\u001b[0;32m/usr/local/lib/python2.7/dist-packages/tensorflow/python/client/session.pyc\u001b[0m in \u001b[0;36m_run_fn\u001b[0;34m(session, feed_dict, fetch_list, target_list, options, run_metadata)\u001b[0m\n\u001b[1;32m    695\u001b[0m         return tf_session.TF_Run(session, options,\n\u001b[1;32m    696\u001b[0m                                  \u001b[0mfeed_dict\u001b[0m\u001b[0;34m,\u001b[0m \u001b[0mfetch_list\u001b[0m\u001b[0;34m,\u001b[0m \u001b[0mtarget_list\u001b[0m\u001b[0;34m,\u001b[0m\u001b[0;34m\u001b[0m\u001b[0m\n\u001b[0;32m--> 697\u001b[0;31m                                  status, run_metadata)\n\u001b[0m\u001b[1;32m    698\u001b[0m \u001b[0;34m\u001b[0m\u001b[0m\n\u001b[1;32m    699\u001b[0m     \u001b[0;32mdef\u001b[0m \u001b[0m_prun_fn\u001b[0m\u001b[0;34m(\u001b[0m\u001b[0msession\u001b[0m\u001b[0;34m,\u001b[0m \u001b[0mhandle\u001b[0m\u001b[0;34m,\u001b[0m \u001b[0mfeed_dict\u001b[0m\u001b[0;34m,\u001b[0m \u001b[0mfetch_list\u001b[0m\u001b[0;34m)\u001b[0m\u001b[0;34m:\u001b[0m\u001b[0;34m\u001b[0m\u001b[0m\n",
      "\u001b[0;31mKeyboardInterrupt\u001b[0m: "
     ]
    }
   ],
   "source": [
    "#game = test_env()\n",
    "print_ep = 100\n",
    "save_ep = 1000\n",
    "lr_decay_ep = 100\n",
    "lr = LEARNING_RATE\n",
    "#buff.clear()\n",
    "last_ep = 0\n",
    "start_update = 0\n",
    "with tf.Session(graph=graph) as sess:\n",
    "    AC_src.set_up(sess)\n",
    "    AC_dst.set_up(sess)\n",
    "    sess.run(tf.initialize_all_variables())\n",
    "    \n",
    "    #saver = tf.train.Saver()\n",
    "    #filename = './saved_nets - last/Episod_4999.chk'\n",
    "    #saver.restore(sess, filename)\n",
    "    #pdb.set_trace()\n",
    "    ep_reward = np.zeros(MAX_EPISODE)\n",
    "    ep_success = np.zeros(MAX_EPISODE)\n",
    "    ep_crash = np.zeros(MAX_EPISODE)\n",
    "    avg_var = 0\n",
    "    \n",
    "    for ep in xrange(MAX_EPISODE):\n",
    "        s = game.reset()\n",
    "        var = 0\n",
    "        #ep_reward[ep] = 0\n",
    "        #print(ep)\n",
    "        for st in xrange(MAX_STEP):\n",
    "            A = AC_src.take_action(s.reshape(-1,info.dim_s))\n",
    "            a = np.argmax(A)\n",
    "            s2, r, terminal, report = game.step(a) # A changes to a\n",
    "            \n",
    "            #print(terminal, r)\n",
    "            #s2, r = game.step(a)\n",
    "            #terminal = 1\n",
    "            #print('s: %d,  a: %d,   s2: %d,   r: %d' %(s, np.argmax(A), s2, r))\n",
    "            \n",
    "            #buff.add(np.reshape(s, (actor.dim_s,)).astype(np.float32), np.reshape(A, (actor.dim_a,)).astype(np.float32),\\\n",
    "            #         np.array(r).astype(np.float32), np.reshape(s2, (actor.dim_s,)).astype(np.float32),\\\n",
    "            #         np.reshape(terminal, (1,)))\n",
    "\n",
    "            #pdb.set_trace()\n",
    "            #if buff.size() > MINIBATCH_SIZE:\n",
    "            if True:\n",
    "                (s_batch, a_batch, r_batch, s2_batch, t_batch) = (s, A, r, s2, terminal)#\\\n",
    "                    #buff.sample_batch(MINIBATCH_SIZE)\n",
    "                start_update = 1\n",
    "                #pdb.set_trace()\n",
    "                s_batch = np.array(s_batch).reshape(-1, info.dim_s)\n",
    "                s2_batch = np.array(s2_batch).reshape(-1, info.dim_s)\n",
    "                a_batch = np.array(a_batch).reshape(-1, info.dim_a)\n",
    "                r_batch = np.array(r_batch).reshape(-1, 1)\n",
    "                t_batch = np.array(t_batch).reshape(-1, 1)\n",
    "                \n",
    "                \n",
    "                #Q_2 = critic.predict_target(s2_batch)\n",
    "                Q_2 = AC_src.predict(s2_batch)\n",
    "\n",
    "                R_batch = r_batch + GAMMA * Q_2 * (1-t_batch)\n",
    "                #if((ep % print_ep) == (print_ep-1)) and (st == 0):\n",
    "                    #pdb.set_trace()\n",
    "                    \n",
    "                predicted_Q, _ = AC_src.train(s_batch, a_batch, np.reshape(R_batch, (1, 1)), lr)\n",
    "            \n",
    "                #td_batch = R_batch - predicted_Q\n",
    "                #pdb.set_trace()\n",
    "                #actor.train(s_batch, a_batch, np.reshape(td_batch, (MINIBATCH_SIZE, 1)), lr)\n",
    "            \n",
    "            ep_reward[ep] += (1.*r)\n",
    "            #pdb.set_trace()\n",
    "            var += np.sum(AC_src.give_policy(s.reshape(-1,info.dim_s))**2)\n",
    "            s = s2\n",
    "            if terminal:\n",
    "                var = var/st\n",
    "                avg_var += (var/print_ep)\n",
    "                break\n",
    "        if terminal == False:\n",
    "            var = var/MAX_STEP\n",
    "            avg_var += (var/print_ep)\n",
    "        if (r >= 100):\n",
    "            ep_success[ep] = 1\n",
    "        elif (r <= -100):\n",
    "            ep_crash[ep] = 1\n",
    "        #if(start_update):\n",
    "        #    actor.update_target_network\n",
    "        #    critic.update_target_network\n",
    "        \n",
    "        if ((ep % print_ep) == (print_ep-1)) or (ep == 0):\n",
    "            print('Episode: %d --- Ave R: %.1f  |  Success: %.2f  |  crash: %.2f  |  Max R: %.1f  |  var: %.2f  |  lr:%.2f*1e-4'\\\n",
    "                  %(ep, np.mean(ep_reward[last_ep:ep+1]), np.mean(ep_success[last_ep:ep+1]), \\\n",
    "                    np.mean(ep_crash[last_ep:ep+1]), np.amax(ep_reward[last_ep:ep+1]), var, 1e4*lr))\n",
    "            last_ep = ep\n",
    "            avg_var = 0\n",
    "            #pdb.set_trace()\n",
    "        if (ep % save_ep) == (save_ep-1):\n",
    "            print(' ***** Saving...  at episode %d ******' %ep)\n",
    "            saver = tf.train.Saver()\n",
    "            filename = './saved_nets/Episod_' + str(ep) + '.chk'\n",
    "            try:\n",
    "                saver.save(sess, filename)\n",
    "            except:\n",
    "                os.mkdir('./saved_nets')  \n",
    "            with open('./saved_nets/rewards_file.txt', 'w') as f:\n",
    "                for i in xrange(MAX_EPISODE):\n",
    "                    f.write('%f\\n' %ep_reward[i])\n",
    "        if (ep % lr_decay_ep) == (lr_decay_ep-1):\n",
    "            lr = 0.97 * lr\n",
    "    '''\n",
    "    pdb.set_trace()\n",
    "    AC_dst.sync_from_source(AC_src)\n",
    "    ep_dst = 0\n",
    "    for st in xrange(MAX_STEP):\n",
    "        A = AC_src.take_action(s.reshape(-1,info.dim_s))\n",
    "        a = np.argmax(A)\n",
    "        s2, r, terminal, report = game.step(a)\n",
    "        ep_dst += 1. * r\n",
    "        s = s2\n",
    "    print('dest_reward: %f' %(ep_dst))\n",
    "    '''\n",
    "    \n",
    "print('DONE') \n",
    "    "
   ]
  },
  {
   "cell_type": "code",
   "execution_count": null,
   "metadata": {
    "collapsed": false
   },
   "outputs": [],
   "source": [
    "EP = MAX_EPISODE - 1\n",
    "with tf.Session(graph=graph) as sess:\n",
    "    \n",
    "    actor.set_up(sess)\n",
    "    critic.set_up(sess)\n",
    "    sess.run(tf.initialize_all_variables())\n",
    "    saver = tf.train.Saver()\n",
    "    filename = './saved_nets/Episod_' + str(EP) + '.chk'\n",
    "    saver.restore(sess, filename)\n",
    "    \n",
    "    ep_reward = 0\n",
    "    s = game.reset()\n",
    "    for st in xrange(MAX_STEP):\n",
    "        game.render()\n",
    "        print(actor.give_policy(s.reshape(-1,info.dim_s)))\n",
    "        A = actor.take_action(s.reshape(-1,info.dim_s))\n",
    "        a = np.argmax(A)\n",
    "        s2, r, terminal, report = game.step(a)\n",
    "        s = s2\n",
    "        ep_reward += (1.*r)\n",
    "        if terminal:\n",
    "            break\n",
    "    print(r)\n",
    "    print('reward:%f' %np.mean(ep_reward))"
   ]
  },
  {
   "cell_type": "code",
   "execution_count": null,
   "metadata": {
    "collapsed": false
   },
   "outputs": [],
   "source": [
    "with open('rewards_file.txt', 'w') as f:\n",
    "    for i in xrange(MAX_EPISODE):\n",
    "        f.write('%f\\n' %ep_reward[i])\n"
   ]
  },
  {
   "cell_type": "code",
   "execution_count": null,
   "metadata": {
    "collapsed": false
   },
   "outputs": [],
   "source": [
    "np.random.choice(2, 1)"
   ]
  },
  {
   "cell_type": "code",
   "execution_count": null,
   "metadata": {
    "collapsed": true
   },
   "outputs": [],
   "source": []
  }
 ],
 "metadata": {
  "kernelspec": {
   "display_name": "Python 2",
   "language": "python",
   "name": "python2"
  },
  "language_info": {
   "codemirror_mode": {
    "name": "ipython",
    "version": 2
   },
   "file_extension": ".py",
   "mimetype": "text/x-python",
   "name": "python",
   "nbconvert_exporter": "python",
   "pygments_lexer": "ipython2",
   "version": "2.7.13rc1"
  }
 },
 "nbformat": 4,
 "nbformat_minor": 0
}
