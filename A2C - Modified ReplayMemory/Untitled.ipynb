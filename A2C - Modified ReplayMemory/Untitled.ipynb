{
 "cells": [
  {
   "cell_type": "code",
   "execution_count": 12,
   "metadata": {
    "collapsed": true
   },
   "outputs": [],
   "source": [
    "buff = []"
   ]
  },
  {
   "cell_type": "code",
   "execution_count": 18,
   "metadata": {
    "collapsed": false
   },
   "outputs": [],
   "source": [
    "import numpy as np\n",
    "last_R = 0\n",
    "Gamma = 0.99\n",
    "r_episode = np.zeros(200)\n",
    "r_episode[-1] = 100\n",
    "s_episode = np.random.randint(5, size=(200, 4))\n",
    "a_episode = np.random.randint(4, size=(200))\n",
    "t_max = r_episode.shape[0]\n",
    "episode_R = np.zeros(t_max)\n",
    "episode_R[-1] = r_episode[-1] + Gamma * last_R\n",
    "for st in reversed(range(1, t_max)):\n",
    "    episode_R[st-1] = r_episode[st-1] + Gamma * episode_R[st]\n",
    "#print(episode_R)\n",
    "exp = (s_episode, a_episode, episode_R)\n",
    "buff += exp"
   ]
  },
  {
   "cell_type": "code",
   "execution_count": 19,
   "metadata": {
    "collapsed": false
   },
   "outputs": [
    {
     "name": "stdout",
     "output_type": "stream",
     "text": [
      "9\n"
     ]
    }
   ],
   "source": [
    "print(len(buff))"
   ]
  },
  {
   "cell_type": "code",
   "execution_count": null,
   "metadata": {
    "collapsed": true
   },
   "outputs": [],
   "source": []
  }
 ],
 "metadata": {
  "kernelspec": {
   "display_name": "Python 3",
   "language": "python",
   "name": "python3"
  },
  "language_info": {
   "codemirror_mode": {
    "name": "ipython",
    "version": 3
   },
   "file_extension": ".py",
   "mimetype": "text/x-python",
   "name": "python",
   "nbconvert_exporter": "python",
   "pygments_lexer": "ipython3",
   "version": "3.5.2"
  }
 },
 "nbformat": 4,
 "nbformat_minor": 2
}
