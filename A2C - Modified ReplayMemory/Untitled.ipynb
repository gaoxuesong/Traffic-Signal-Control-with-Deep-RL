{
 "cells": [
  {
   "cell_type": "code",
   "execution_count": null,
   "metadata": {
    "collapsed": true
   },
   "outputs": [],
   "source": [
    "buff = []"
   ]
  },
  {
   "cell_type": "code",
   "execution_count": 1,
   "metadata": {
    "collapsed": false
   },
   "outputs": [
    {
     "name": "stdout",
     "output_type": "stream",
     "text": [
      "0.0\n",
      "0.0009775161743164062\n",
      "0.001955270767211914\n",
      "0.008798599243164062\n"
     ]
    },
    {
     "ename": "NameError",
     "evalue": "name 'part5' is not defined",
     "output_type": "error",
     "traceback": [
      "\u001b[0;31m---------------------------------------------------------------------------\u001b[0m",
      "\u001b[0;31mNameError\u001b[0m                                 Traceback (most recent call last)",
      "\u001b[0;32m<ipython-input-1-12ee3c22c220>\u001b[0m in \u001b[0;36m<module>\u001b[0;34m()\u001b[0m\n\u001b[1;32m     95\u001b[0m \u001b[0mprint\u001b[0m\u001b[1;33m(\u001b[0m\u001b[0mpart3\u001b[0m\u001b[1;33m)\u001b[0m\u001b[1;33m\u001b[0m\u001b[0m\n\u001b[1;32m     96\u001b[0m \u001b[0mprint\u001b[0m\u001b[1;33m(\u001b[0m\u001b[0mpart4\u001b[0m\u001b[1;33m)\u001b[0m\u001b[1;33m\u001b[0m\u001b[0m\n\u001b[0;32m---> 97\u001b[0;31m \u001b[0mprint\u001b[0m\u001b[1;33m(\u001b[0m\u001b[0mpart5\u001b[0m\u001b[1;33m)\u001b[0m\u001b[1;33m\u001b[0m\u001b[0m\n\u001b[0m\u001b[1;32m     98\u001b[0m \u001b[0mprint\u001b[0m\u001b[1;33m(\u001b[0m\u001b[0mpart6\u001b[0m\u001b[1;33m)\u001b[0m\u001b[1;33m\u001b[0m\u001b[0m\n\u001b[1;32m     99\u001b[0m \u001b[0mprint\u001b[0m\u001b[1;33m(\u001b[0m\u001b[0mpart7\u001b[0m\u001b[1;33m)\u001b[0m\u001b[1;33m\u001b[0m\u001b[0m\n",
      "\u001b[0;31mNameError\u001b[0m: name 'part5' is not defined"
     ]
    }
   ],
   "source": [
    "import numpy as np\n",
    "from collections import deque\n",
    "import pdb\n",
    "import time\n",
    "import random\n",
    "count = 0\n",
    "buf = deque()\n",
    "#last_R = 0\n",
    "Gamma = 0.99\n",
    "r_buffer = np.zeros(50000)\n",
    "t_buffer = np.zeros(50000)\n",
    "for i in range(600):\n",
    "    r_buffer[i*7 + 6] = 100\n",
    "    t_buffer[i*7 + 6] = 1\n",
    "s_buffer = np.random.randint(5, size=(50000, 4))\n",
    "a_buffer = np.random.randint(4, size=(50000))\n",
    "\n",
    "t_max = 80\n",
    "batch_size = 50\n",
    "count = 0\n",
    "for i in range(5000-1):\n",
    "    s = s_buffer[i,:]\n",
    "    s2 = s_buffer[i+1,:]\n",
    "    a = a_buffer[i]\n",
    "    r = r_buffer[i]\n",
    "    t = t_buffer[i]\n",
    "    exp = (s, a, r, s2, t)\n",
    "    buf.append(exp)\n",
    "    count += 1\n",
    "\n",
    "if count > (batch_size + t_max):\n",
    "    #pdb.set_trace()\n",
    "    start = time.time()\n",
    "    samples_start = np.random.choice(count - t_max, batch_size)\n",
    "    sample_ends = samples_start + np.array(t_max)\n",
    "    #pdb.set_trace()\n",
    "    t_batch = []\n",
    "    r_batch = []\n",
    "    s_batch = []\n",
    "    a_batch = []\n",
    "    part1 = time.time() -start\n",
    "    start = time.time()\n",
    "    samples = []\n",
    "    for i in range(batch_size):\n",
    "       samples += range(samples_start[i], sample_ends[i])\n",
    "    part2 = time.time() -start\n",
    "    samples = []\n",
    "    for i in range(t_max):\n",
    "        samples.append(samples_start[:]+i)\n",
    "    #pdb.set_trace()\n",
    "    \n",
    "    start = time.time()\n",
    "    xx = np.array(buf)[samples,:]\n",
    "    #pdb.set_trace()\n",
    "    t_batch = xx[:,:,4].reshape(batch_size, t_max).tolist()\n",
    "    r_batch = xx[:,:,2].reshape(batch_size, t_max).tolist()\n",
    "    s_batch = xx[:,:,0].tolist()\n",
    "    a_batch = xx[:,:,1].tolist()\n",
    "    part3 = time.time() -start\n",
    "    start = time.time()\n",
    "    t_batch = np.array(buf)[samples,4].reshape(batch_size, t_max).tolist()\n",
    "    r_batch = np.array(buf)[samples,2].reshape(batch_size, t_max).tolist()\n",
    "    s_batch = np.array(buf)[samples,0].tolist()\n",
    "    a_batch = np.array(buf)[samples,1].tolist()\n",
    "    part4 = time.time() -start\n",
    "    \n",
    "    '''\n",
    "    #for i in range(batch_size):\n",
    "    #    t_batch.append(np.array(buf)[samples_start[i]:sample_ends[i],4].tolist())\n",
    "    #    r_batch.append(np.array(buf)[samples_start[i]:sample_ends[i],2].tolist())\n",
    "    #    s_batch += np.array(buf)[samples_start[i]:sample_ends[i],0].tolist()\n",
    "    #    a_batch += np.array(buf)[samples_start[i]:sample_ends[i],1].tolist()\n",
    "    steps = 1 - np.array(t_batch)\n",
    "    part4 = time.time() -start\n",
    "    start = time.time()\n",
    "    #pdb.set_trace()\n",
    "    for i in range(1, t_max):\n",
    "        steps[:,i] = steps[:,i] * steps[:,i-1]\n",
    "    #pdb.set_trace()\n",
    "    part5 = time.time() -start\n",
    "    start = time.time()\n",
    "    steps = steps\n",
    "    batch_size = batch_size\n",
    "    t_batch2 = t_batch\n",
    "    r_batch2 = r_batch\n",
    "    s_batch2 = s_batch\n",
    "    a_batch2 = a_batch\n",
    "    part6 = time.time() -start\n",
    "    start = time.time()\n",
    "    s2_batch = np.array(buf)[sample_ends-1,3].tolist()\n",
    "    part7 = time.time() -start\n",
    "'''\n",
    "print(part1)\n",
    "print(part2)\n",
    "print(part3)\n",
    "print(part4)\n",
    "print(part5)\n",
    "print(part6)\n",
    "print(part7)\n",
    "#print(np.array(buf))\n",
    "#print(samples)\n",
    "#print(np.array(s2_batch))\n",
    "#print(np.array(s_batch))"
   ]
  },
  {
   "cell_type": "code",
   "execution_count": null,
   "metadata": {
    "collapsed": false
   },
   "outputs": [],
   "source": [
    "\n",
    "last_R = np.array([10, -10, 1])\n",
    "print(np.array(t_batch))\n",
    "print(np.array(r_batch))\n",
    "\n",
    "R_batch = np.zeros([batch_size, t_max])\n",
    "#pdb.set_trace()\n",
    "R_batch[:,-1] = np.array(r_batch)[:,-1] * steps[:,-2] + Gamma * last_R * steps[:,-1]\n",
    "#pdb.set_trace()\n",
    "for st in reversed(range(2, t_max)):\n",
    "    R_batch[:,st-1] = np.array(r_batch)[:,st-1] * steps[:,st-2]+ Gamma * R_batch[:,st] * steps[:,st-1]\n",
    "#pdb.set_trace()\n",
    "R_batch[:,0] = np.array(r_batch)[:,0] + Gamma * R_batch[:,1] * steps[:,0]\n",
    "#pdb.set_trace()\n",
    "R_batch = R_batch.reshape(-1,1)\n",
    "#pdb.set_trace()\n",
    "#R_batch = np.delete(R_batch, [R_batch == 0])"
   ]
  },
  {
   "cell_type": "code",
   "execution_count": null,
   "metadata": {
    "collapsed": false
   },
   "outputs": [],
   "source": [
    "print(R_batch.shape)\n",
    "print(len(s_batch))\n",
    "print(np.array(buf))\n",
    "print(samples)\n",
    "mask = np.all(np.equal(R_batch, 0), axis=1)\n",
    "R_batch2 = R_batch[~mask]\n",
    "s_batch2 = np.array(s_batch)[~mask]\n",
    "print(R_batch2.tolist())\n",
    "print(s_batch2.tolist())"
   ]
  },
  {
   "cell_type": "code",
   "execution_count": null,
   "metadata": {
    "collapsed": false
   },
   "outputs": [],
   "source": [
    "print(np.sum(np.array(s_batch)-np.array(s_batch2)))\n",
    "#print(np.array(t_batch))\n",
    "#print(np.array(t_batch2))"
   ]
  },
  {
   "cell_type": "code",
   "execution_count": null,
   "metadata": {
    "collapsed": false
   },
   "outputs": [],
   "source": [
    "start = time.time()\n",
    "for i in range(int(1e5)):\n",
    "    sample_starts = range(1, 10*1)\n",
    "print(time.time()-start)"
   ]
  },
  {
   "cell_type": "code",
   "execution_count": null,
   "metadata": {
    "collapsed": false
   },
   "outputs": [],
   "source": [
    "start = time.time()\n",
    "for i in range(int(1e5)):\n",
    "    sample_starts = range(int(1e10), int(1e10))\n",
    "print(time.time()-start)"
   ]
  },
  {
   "cell_type": "code",
   "execution_count": null,
   "metadata": {
    "collapsed": false
   },
   "outputs": [],
   "source": [
    "import random\n",
    "start = time.time()\n",
    "for i in range(int(1e5)):\n",
    "    sample_starts = random.sample(int(1e5), 8)\n",
    "print(time.time()-start)"
   ]
  },
  {
   "cell_type": "code",
   "execution_count": null,
   "metadata": {
    "collapsed": false
   },
   "outputs": [],
   "source": [
    "xx = [1, 2, 4]\n",
    "xx.pop(0)\n",
    "print(xx)"
   ]
  },
  {
   "cell_type": "code",
   "execution_count": null,
   "metadata": {
    "collapsed": true
   },
   "outputs": [],
   "source": []
  }
 ],
 "metadata": {
  "kernelspec": {
   "display_name": "Python 2",
   "language": "python",
   "name": "python2"
  },
  "language_info": {
   "codemirror_mode": {
    "name": "ipython",
    "version": 2
   },
   "file_extension": ".py",
   "mimetype": "text/x-python",
   "name": "python",
   "nbconvert_exporter": "python",
   "pygments_lexer": "ipython2",
   "version": "2.7.13rc1"
  }
 },
 "nbformat": 4,
 "nbformat_minor": 2
}
