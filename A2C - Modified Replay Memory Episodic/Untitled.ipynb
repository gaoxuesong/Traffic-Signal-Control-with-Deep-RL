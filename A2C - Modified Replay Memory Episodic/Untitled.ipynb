{
 "cells": [
  {
   "cell_type": "code",
   "execution_count": 80,
   "metadata": {
    "collapsed": false
   },
   "outputs": [
    {
     "name": "stdout",
     "output_type": "stream",
     "text": [
      "0\n",
      "1\n",
      "2\n",
      "3\n",
      "4\n",
      "5\n"
     ]
    }
   ],
   "source": [
    "from collections import deque\n",
    "import random\n",
    "import numpy as np\n",
    "import pdb\n",
    "\n",
    "length =[20, 30, 10, 5, 10, 15]\n",
    "buf_ep = deque()\n",
    "for l in range(len(length)):\n",
    "    print(l)\n",
    "\n",
    "for l in range(len(length)):\n",
    "    buf = deque()\n",
    "    for i in range(length[l]):\n",
    "        s=np.random.randint(10, size=(4))\n",
    "        a=np.random.randint(4, size=(1))\n",
    "        #pdb.set_trace()\n",
    "        exp = (s, a)        \n",
    "        buf.append(exp)\n",
    "    buf_ep.append(buf)"
   ]
  },
  {
   "cell_type": "code",
   "execution_count": 94,
   "metadata": {
    "collapsed": false
   },
   "outputs": [],
   "source": [
    "samples = random.sample(buf_ep, 4)"
   ]
  },
  {
   "cell_type": "code",
   "execution_count": 95,
   "metadata": {
    "collapsed": false
   },
   "outputs": [],
   "source": [
    "C = [item for sublist in samples for item in sublist]\n",
    "X = [sublist for sublist in samples]"
   ]
  },
  {
   "cell_type": "code",
   "execution_count": 92,
   "metadata": {
    "collapsed": false
   },
   "outputs": [],
   "source": [
    "X = np.array(samples)\n",
    "#for i in range(len(samples)):\n",
    "#    X = np.append(X, np.array(samples[i]))"
   ]
  },
  {
   "cell_type": "code",
   "execution_count": 99,
   "metadata": {
    "collapsed": false
   },
   "outputs": [
    {
     "data": {
      "text/plain": [
       "(75, 2)"
      ]
     },
     "execution_count": 99,
     "metadata": {},
     "output_type": "execute_result"
    }
   ],
   "source": [
    "np.array(C).shape"
   ]
  },
  {
   "cell_type": "code",
   "execution_count": null,
   "metadata": {
    "collapsed": true
   },
   "outputs": [],
   "source": []
  }
 ],
 "metadata": {
  "kernelspec": {
   "display_name": "Python 2",
   "language": "python",
   "name": "python2"
  },
  "language_info": {
   "codemirror_mode": {
    "name": "ipython",
    "version": 2
   },
   "file_extension": ".py",
   "mimetype": "text/x-python",
   "name": "python",
   "nbconvert_exporter": "python",
   "pygments_lexer": "ipython2",
   "version": "2.7.13rc1"
  }
 },
 "nbformat": 4,
 "nbformat_minor": 0
}
