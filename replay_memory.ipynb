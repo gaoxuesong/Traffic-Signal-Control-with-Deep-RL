{
 "cells": [
  {
   "cell_type": "code",
   "execution_count": 1,
   "metadata": {
    "collapsed": true
   },
   "outputs": [],
   "source": [
    "from collections import deque\n",
    "import random\n",
    "import numpy as np"
   ]
  },
  {
   "cell_type": "code",
   "execution_count": null,
   "metadata": {
    "collapsed": true
   },
   "outputs": [],
   "source": [
    "class ReplayMemory(object):\n",
    "    \n",
    "    def __init__(self, buffer_size, random_seed=123):\n",
    "        \n",
    "        self.buffer_size = buffer_size\n",
    "        self.count = 0\n",
    "        self.buf = deque()\n",
    "        random_seed = random_seed\n",
    "        \n",
    "    def add(self, s, a, r, s2, t):\n",
    "        \n",
    "        # Current state, Action, Reward, Next State, terminal?\n",
    "        exp = (s, a, r, s2, t)\n",
    "        if self.count >= self.buffer_size:\n",
    "            self.buf.popleft()\n",
    "        \n",
    "        self.buf.append(exp)\n",
    "        self.count += 1\n",
    "        \n",
    "    def size(self):\n",
    "        return self.count\n",
    "    \n",
    "    def sample_batch(self, batch_size):\n",
    "        \n",
    "        if self.count > batch_size:\n",
    "            samples = random.sample(self.buf, batch_size)\n",
    "        else:\n",
    "            samples = random.sample(self.buf, self.count)\n",
    "            \n",
    "        s_batch = np.array(samples)[:,0][0]\n",
    "        a_batch = np.array(samples)[:,1][0]\n",
    "        r_batch = np.array(samples)[:,2][0]\n",
    "        s2_batch = np.array(samples)[:,3][0]\n",
    "        t_batch = np.array(samples)[:,4][0]\n",
    "        \n",
    "        return s_batch, a_batch, r_batch, s2_batch, t_batch\n",
    "    \n",
    "    def clear(self):\n",
    "        \n",
    "        self.deque.clear()\n",
    "        self.count = 0"
   ]
  },
  {
   "cell_type": "code",
   "execution_count": null,
   "metadata": {
    "collapsed": true
   },
   "outputs": [],
   "source": [
    "buff = ReplayMemory(400)\n"
   ]
  }
 ],
 "metadata": {
  "kernelspec": {
   "display_name": "Python 2",
   "language": "python",
   "name": "python2"
  },
  "language_info": {
   "codemirror_mode": {
    "name": "ipython",
    "version": 2
   },
   "file_extension": ".py",
   "mimetype": "text/x-python",
   "name": "python",
   "nbconvert_exporter": "python",
   "pygments_lexer": "ipython2",
   "version": "2.7.6"
  }
 },
 "nbformat": 4,
 "nbformat_minor": 0
}
