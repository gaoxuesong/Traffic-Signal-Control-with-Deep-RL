{
 "cells": [
  {
   "cell_type": "code",
   "execution_count": 1,
   "metadata": {
    "collapsed": false
   },
   "outputs": [],
   "source": [
    "import numpy as np\n",
    "import tensorflow as tf \n",
    "from collections import deque\n",
    "import random\n",
    "import pdb\n",
    "from replay_memory import ReplayMemory # AC replay memory\n",
    "from AC_networks_tf import ActorNet, CriticNet\n",
    "from test_game import test_env\n",
    "import os\n",
    "from __future__ import print_function\n",
    "from info_obj import info_holder"
   ]
  },
  {
   "cell_type": "code",
   "execution_count": 2,
   "metadata": {
    "collapsed": false
   },
   "outputs": [
    {
     "name": "stderr",
     "output_type": "stream",
     "text": [
      "[2016-12-31 23:13:14,332] Making new env: LunarLander-v2\n"
     ]
    },
    {
     "data": {
      "text/plain": [
       "'\\ngame = test_env()\\nstate_dim = 1\\naction_dim = 2\\n'"
      ]
     },
     "execution_count": 2,
     "metadata": {},
     "output_type": "execute_result"
    }
   ],
   "source": [
    "import gym\n",
    "game_name = 'LunarLander-v2'\n",
    "#game_name = 'CartPole-v0'\n",
    "#game_name = 'MountainCar-v0'\n",
    "game = gym.make(game_name)\n",
    "state_dim = game.observation_space.shape[0]\n",
    "action_dim = game.action_space.n\n",
    "'''\n",
    "game = test_env()\n",
    "state_dim = 1\n",
    "action_dim = 2\n",
    "'''"
   ]
  },
  {
   "cell_type": "code",
   "execution_count": 3,
   "metadata": {
    "collapsed": false
   },
   "outputs": [
    {
     "name": "stdout",
     "output_type": "stream",
     "text": [
      "From what episode?(Enter a number or last): last\n",
      "Loading the previous trained network and continue training from episode 7000\n"
     ]
    }
   ],
   "source": [
    "# info = graph, dim_s, dim_a, hid_layers, learning_rate, tau\n",
    "save_dir = './Results/'+ game_name[:-3] + '/net/'\n",
    "if 'LunarLander' in game_name:\n",
    "    LEARNING_RATE = float(1e-2) #5e-5 lr/2\n",
    "    lr_decay_rate = 1\n",
    "    C_update = 1 #episode\n",
    "    GAMMA = 0.99\n",
    "    MAX_EPISODE = int(1e4)\n",
    "    MAX_STEP = int(1e3)\n",
    "    lr_decay_ep = 100\n",
    "    print_ep = int(1e2)\n",
    "    save_ep = int(1e3)\n",
    "    TAU = 0\n",
    "    ENTROPY_BETA = 0\n",
    "    \n",
    "elif 'CartPole' in game_name:\n",
    "    LEARNING_RATE = 1e-3 #5e-5 lr/2\n",
    "    lr_decay_rate = 1\n",
    "    C_update = 1 #episode\n",
    "    GAMMA = 0.99\n",
    "    MAX_EPISODE = int(1e4)\n",
    "    MAX_STEP = int(2e2)\n",
    "    lr_decay_ep = 100\n",
    "    print_ep = int(1e2)\n",
    "    save_ep = int(1e3)\n",
    "    TAU = 0\n",
    "    ENTROPY_BETA = 0\n",
    "    \n",
    "elif 'MountainCar' in game_name:\n",
    "    LEARNING_RATE = 1e-3 #5e-5 lr/2\n",
    "    lr_decay_rate = 0.955\n",
    "    C_update = 1 #episode\n",
    "    GAMMA = 0.99\n",
    "    MAX_EPISODE = int(1e4)\n",
    "    MAX_STEP = int(2e2)\n",
    "    lr_decay_ep = 100\n",
    "    print_ep = int(1e2)\n",
    "    save_ep = int(1e3)\n",
    "    TAU = 0\n",
    "    ENTROPY_BETA = 0\n",
    "#### load the network\n",
    "if_load = 'y'\n",
    "logging_mode = 'w'\n",
    "strings = ['learning_rate = ', 'lr decay = ', 'update cycle: ']\n",
    "if 'y' == if_load:\n",
    "    if not(os.path.isdir(save_dir)):\n",
    "        raise NameError('No network to upload')\n",
    "    logging_mode = 'a'\n",
    "    with open(save_dir + 'params.txt', 'r') as f:\n",
    "        while True:\n",
    "            xa = f.readline()\n",
    "            if strings[0] in xa:\n",
    "                LEARNING_RATE = int(xa[len(string[0]):])\n",
    "            elif strings[1] in xa:\n",
    "                lr_decay_rate = int(xa[len(string[1]):])\n",
    "            elif strings[2] in xa:\n",
    "                C_update = int(xa[len(string[23]):])\n",
    "            break\n",
    "    with open(save_dir + 'rewards.txt', 'r') as f:\n",
    "        xa = f.readline()\n",
    "        xa = xa.split(',')\n",
    "        start_ep = int(xa[0]) + 1\n",
    "    var = raw_input(\"From what episode?(Enter a number or last): \")\n",
    "    if var != 'last': \n",
    "        var_int = int(var)\n",
    "        while ((var_int%save_ep)!=0) or (var_int > start_ep):\n",
    "            print('Episode not found!')\n",
    "            var = raw_input(\"From what episode?(Enter a number or last): \")\n",
    "    print('Loading the previous trained network and continue training from episode %d' %start_ep)\n",
    "else:\n",
    "    start_ep = 0\n",
    "lr = LEARNING_RATE * (lr_decay_rate ** (start_ep/lr_decay_ep))# / MINIBATCH_SIZE\n",
    "#### till here\n",
    "\n",
    "buff = ReplayMemory()\n",
    "info = info_holder()\n",
    "try:\n",
    "    actor\n",
    "except:\n",
    "    pass\n",
    "else:\n",
    "    actor.reset_net()\n",
    "try:\n",
    "    critic\n",
    "except:\n",
    "    pass\n",
    "else:\n",
    "    critic.reset_net()  \n",
    "    \n",
    "graph = tf.Graph()\n",
    "with graph.as_default():\n",
    "    info.graph = graph\n",
    "    info.dim_s = state_dim\n",
    "    info.dim_a = action_dim\n",
    "    info.act_hid_layers = np.array([32])\n",
    "    info.crit_hid_layers = np.array([16])\n",
    "    info.learning_rate = LEARNING_RATE\n",
    "    info.tau = TAU\n",
    "    info.entropy_beta = ENTROPY_BETA\n",
    "    actor = ActorNet(info)\n",
    "    critic = CriticNet(info)"
   ]
  },
  {
   "cell_type": "code",
   "execution_count": 4,
   "metadata": {
    "collapsed": false
   },
   "outputs": [
    {
     "name": "stdout",
     "output_type": "stream",
     "text": [
      "Ep: 7000 --- Ave R: -151.8  |  Suc: 0.00  |  crash: 1.00  |  Max R: -151.8  |  var: 0.49  |  lr:100.00e-4\n",
      "Ep: 7099 --- Ave R: -81.2  |  Suc: 0.00  |  crash: 0.30  |  Max R: 31.5  |  var: 0.45  |  lr:100.00e-4\n",
      "Ep: 7199 --- Ave R: -75.9  |  Suc: 0.00  |  crash: 0.33  |  Max R: 18.1  |  var: 0.45  |  lr:100.00e-4\n",
      "Ep: 7299 --- Ave R: -74.1  |  Suc: 0.00  |  crash: 0.24  |  Max R: 40.9  |  var: 0.45  |  lr:100.00e-4\n",
      "Ep: 7399 --- Ave R: -72.1  |  Suc: 0.00  |  crash: 0.30  |  Max R: 53.0  |  var: 0.45  |  lr:100.00e-4\n",
      "Ep: 7499 --- Ave R: -72.7  |  Suc: 0.01  |  crash: 0.29  |  Max R: 131.9  |  var: 0.46  |  lr:100.00e-4\n",
      "Ep: 7599 --- Ave R: -59.0  |  Suc: 0.02  |  crash: 0.14  |  Max R: 76.4  |  var: 0.46  |  lr:100.00e-4\n",
      "Ep: 7699 --- Ave R: -37.3  |  Suc: 0.01  |  crash: 0.18  |  Max R: 101.3  |  var: 0.46  |  lr:100.00e-4\n",
      "Ep: 7799 --- Ave R: -31.9  |  Suc: 0.02  |  crash: 0.14  |  Max R: 132.7  |  var: 0.46  |  lr:100.00e-4\n",
      "Ep: 7899 --- Ave R: -25.5  |  Suc: 0.06  |  crash: 0.16  |  Max R: 115.2  |  var: 0.48  |  lr:100.00e-4\n",
      "Ep: 7999 --- Ave R: -22.4  |  Suc: 0.05  |  crash: 0.13  |  Max R: 167.4  |  var: 0.47  |  lr:100.00e-4\n",
      " ***** Saving...  at episode 7999 ... Done ******\n",
      "Ep: 8099 --- Ave R: -29.0  |  Suc: 0.04  |  crash: 0.12  |  Max R: 171.3  |  var: 0.47  |  lr:100.00e-4\n"
     ]
    },
    {
     "ename": "KeyboardInterrupt",
     "evalue": "",
     "output_type": "error",
     "traceback": [
      "\u001b[0;31m---------------------------------------------------------------------------\u001b[0m",
      "\u001b[0;31mKeyboardInterrupt\u001b[0m                         Traceback (most recent call last)",
      "\u001b[0;32m<ipython-input-4-b89262bac9d9>\u001b[0m in \u001b[0;36m<module>\u001b[0;34m()\u001b[0m\n\u001b[1;32m     24\u001b[0m         \u001b[0mvar\u001b[0m \u001b[0;34m=\u001b[0m \u001b[0;36m0\u001b[0m\u001b[0;34m\u001b[0m\u001b[0m\n\u001b[1;32m     25\u001b[0m         \u001b[0;32mfor\u001b[0m \u001b[0mst\u001b[0m \u001b[0;32min\u001b[0m \u001b[0mrange\u001b[0m\u001b[0;34m(\u001b[0m\u001b[0mMAX_STEP\u001b[0m\u001b[0;34m)\u001b[0m\u001b[0;34m:\u001b[0m\u001b[0;34m\u001b[0m\u001b[0m\n\u001b[0;32m---> 26\u001b[0;31m             \u001b[0ma\u001b[0m \u001b[0;34m=\u001b[0m \u001b[0mactor\u001b[0m\u001b[0;34m.\u001b[0m\u001b[0mtake_action\u001b[0m\u001b[0;34m(\u001b[0m\u001b[0ms\u001b[0m\u001b[0;34m.\u001b[0m\u001b[0mreshape\u001b[0m\u001b[0;34m(\u001b[0m\u001b[0;34m-\u001b[0m\u001b[0;36m1\u001b[0m\u001b[0;34m,\u001b[0m\u001b[0minfo\u001b[0m\u001b[0;34m.\u001b[0m\u001b[0mdim_s\u001b[0m\u001b[0;34m)\u001b[0m\u001b[0;34m)\u001b[0m\u001b[0;34m\u001b[0m\u001b[0m\n\u001b[0m\u001b[1;32m     27\u001b[0m             \u001b[0;31m#print(actor.give_policy(s.reshape(-1,info.dim_s)))\u001b[0m\u001b[0;34m\u001b[0m\u001b[0;34m\u001b[0m\u001b[0m\n\u001b[1;32m     28\u001b[0m             \u001b[0ms2\u001b[0m\u001b[0;34m,\u001b[0m \u001b[0mr\u001b[0m\u001b[0;34m,\u001b[0m \u001b[0mterminal\u001b[0m\u001b[0;34m,\u001b[0m \u001b[0mreport\u001b[0m \u001b[0;34m=\u001b[0m \u001b[0mgame\u001b[0m\u001b[0;34m.\u001b[0m\u001b[0mstep\u001b[0m\u001b[0;34m(\u001b[0m\u001b[0ma\u001b[0m\u001b[0;34m)\u001b[0m\u001b[0;34m\u001b[0m\u001b[0m\n",
      "\u001b[0;32m/mnt/notebooks/A2C/AC_networks_tf.pyc\u001b[0m in \u001b[0;36mtake_action\u001b[0;34m(self, inputs)\u001b[0m\n\u001b[1;32m     95\u001b[0m \u001b[0;34m\u001b[0m\u001b[0m\n\u001b[1;32m     96\u001b[0m         \u001b[0;32mfor\u001b[0m \u001b[0mi\u001b[0m \u001b[0;32min\u001b[0m \u001b[0mrange\u001b[0m\u001b[0;34m(\u001b[0m\u001b[0mpi\u001b[0m\u001b[0;34m.\u001b[0m\u001b[0mshape\u001b[0m\u001b[0;34m[\u001b[0m\u001b[0;36m0\u001b[0m\u001b[0;34m]\u001b[0m\u001b[0;34m)\u001b[0m\u001b[0;34m:\u001b[0m\u001b[0;34m\u001b[0m\u001b[0m\n\u001b[0;32m---> 97\u001b[0;31m             \u001b[0maction\u001b[0m \u001b[0;34m=\u001b[0m \u001b[0mnp\u001b[0m\u001b[0;34m.\u001b[0m\u001b[0mrandom\u001b[0m\u001b[0;34m.\u001b[0m\u001b[0mchoice\u001b[0m\u001b[0;34m(\u001b[0m\u001b[0mself\u001b[0m\u001b[0;34m.\u001b[0m\u001b[0mdim_a\u001b[0m\u001b[0;34m,\u001b[0m \u001b[0;36m1\u001b[0m\u001b[0;34m,\u001b[0m \u001b[0mp\u001b[0m\u001b[0;34m=\u001b[0m\u001b[0mpi\u001b[0m\u001b[0;34m[\u001b[0m\u001b[0mi\u001b[0m\u001b[0;34m,\u001b[0m\u001b[0;34m:\u001b[0m\u001b[0;34m]\u001b[0m\u001b[0;34m.\u001b[0m\u001b[0mreshape\u001b[0m\u001b[0;34m(\u001b[0m\u001b[0mself\u001b[0m\u001b[0;34m.\u001b[0m\u001b[0mdim_a\u001b[0m\u001b[0;34m)\u001b[0m\u001b[0;34m)\u001b[0m\u001b[0;34m\u001b[0m\u001b[0m\n\u001b[0m\u001b[1;32m     98\u001b[0m \u001b[0;34m\u001b[0m\u001b[0m\n\u001b[1;32m     99\u001b[0m         \u001b[0;32mreturn\u001b[0m \u001b[0maction\u001b[0m\u001b[0;34m[\u001b[0m\u001b[0;36m0\u001b[0m\u001b[0;34m]\u001b[0m\u001b[0;34m\u001b[0m\u001b[0m\n",
      "\u001b[0;31mKeyboardInterrupt\u001b[0m: "
     ]
    }
   ],
   "source": [
    "# lr = LEARNING_RATE\n",
    "buff.clear()\n",
    "###\n",
    "last_ep = 0\n",
    "start_update = 0\n",
    "with tf.Session(graph=graph) as sess:\n",
    "    actor.set_up(sess)\n",
    "    critic.set_up(sess)\n",
    "    sess.run(tf.global_variables_initializer())\n",
    "    \n",
    "    if if_load == 'y':\n",
    "        saver = tf.train.Saver()\n",
    "        filename = save_dir + 'Episod_' + str(start_ep-1) + '.chk'\n",
    "        saver.restore(sess, filename)\n",
    "    \n",
    "    ep_reward = np.zeros(MAX_EPISODE)\n",
    "    ep_success = np.zeros(MAX_EPISODE)\n",
    "    ep_crash = np.zeros(MAX_EPISODE)\n",
    "    ep_var = np.zeros(MAX_EPISODE)\n",
    "    avg_var = 0\n",
    "    \n",
    "    for ep in range(MAX_EPISODE):\n",
    "        s = game.reset()\n",
    "        var = 0\n",
    "        for st in range(MAX_STEP):\n",
    "            a = actor.take_action(s.reshape(-1,info.dim_s))\n",
    "            #print(actor.give_policy(s.reshape(-1,info.dim_s)))\n",
    "            s2, r, terminal, report = game.step(a)\n",
    "            \n",
    "            buff.add(np.reshape(s, (info.dim_s,)).astype(np.float32), np.array(a).astype(np.float32),\\\n",
    "                     np.array(r).astype(np.float32), np.reshape(s2, (info.dim_s,)).astype(np.float32),\\\n",
    "                     np.array(terminal).astype(np.float32))\n",
    "\n",
    "            ep_reward[ep] += (1.*r)\n",
    "            var += np.sum(actor.give_policy(s.reshape(-1,info.dim_s))**2)\n",
    "            \n",
    "            s = s2\n",
    "\n",
    "            if terminal:\n",
    "                ep_var[ep] = var/st\n",
    "                #avg_var += (var/print_ep)\n",
    "                break\n",
    "        \n",
    "        if ((ep % C_update) == (C_update -1)):\n",
    "            (s_batch, a_batch, r_batch, s2_batch, t_batch) = \\\n",
    "                buff.sample_batch()\n",
    "            s_batch = np.array(s_batch).reshape(-1, info.dim_s)\n",
    "            s2_batch = np.array(s2_batch).reshape(-1, info.dim_s)\n",
    "            a_batch = np.array(a_batch)#.reshape(-1, 1)\n",
    "            r_batch = np.array(r_batch)#.reshape(-1, 1)\n",
    "            t_batch = np.array(t_batch)#.reshape(-1, 1)\n",
    "    \n",
    "            Q_2 = critic.predict(s2_batch)\n",
    "            Q_2 = Q_2[:,0]\n",
    "            \n",
    "            R_batch = r_batch + GAMMA * Q_2 * (1-t_batch)\n",
    "            R_batch = R_batch.reshape(-1, 1)\n",
    "            \n",
    "            predicted_Q, _, _ = critic.train(s_batch, R_batch, lr)\n",
    "            td_batch = R_batch - predicted_Q\n",
    "            #print(actor.give_policy(s_batch)[0:9,:])\n",
    "            #print(td_batch[0:9])\n",
    "            #print(a_batch[0:9])\n",
    "            actor.train(s_batch, a_batch, td_batch, lr)\n",
    "            #print(actor.give_policy(s_batch)[0:9,:])\n",
    "            #pdb.set_trace()\n",
    "         \n",
    "        if terminal == False:\n",
    "            ep_var[ep] = var/MAX_STEP\n",
    "            #avg_var += (var/print_ep)\n",
    "        if (r >= 100):\n",
    "            ep_success[ep] = 1\n",
    "        elif (r <= -100):\n",
    "            ep_crash[ep] = 1\n",
    "        \n",
    "        if ((ep % print_ep) == (print_ep-1)) or (ep == 0):                                                      ####\n",
    "            print('Ep: %d --- Ave R: %.1f  |  Suc: %.2f  |  crash: %.2f  |  Max R: %.1f  |  var: %.2f  |  lr:%.2fe-4'\\\n",
    "                  %((start_ep+ep), np.mean(ep_reward[last_ep:ep+1]), np.mean(ep_success[last_ep:ep+1]), \\\n",
    "                    np.mean(ep_crash[last_ep:ep+1]), np.amax(ep_reward[last_ep:ep+1]), np.mean(ep_var[last_ep:ep+1]), 1e4*lr))\n",
    "            last_ep = ep\n",
    "            #avg_var = 0\n",
    "        \n",
    "        if (ep == 0) and (if_load == 'n'):  ####\n",
    "            if (os.path.isdir(save_dir)):\n",
    "                raise NameError('Directory net exists')\n",
    "                \n",
    "        if (ep == (save_ep-1)) and (if_load == 'n'):  ####\n",
    "            os.mkdir(save_dir)\n",
    "            with open(save_dir + 'params.txt', 'w') as f:\n",
    "                f.write('Learning rate = %f\\n' %LEARNING_RATE)\n",
    "                f.write('lr decay = %f\\n' %lr_decay_rate)\n",
    "                f.write('hidden layers: %d\\n' %info.hid_layers)\n",
    "                f.write('update cycle: %d\\n' %C_update)\n",
    "                \n",
    "        if (ep % save_ep) == (save_ep-1):\n",
    "            print(' ***** Saving...  at episode %d ...' %(start_ep+ep), end=\"\")                                     ####\n",
    "            saver = tf.train.Saver()\n",
    "            filename = save_dir + 'Episod_' + str(start_ep+ep) + '.chk'                                           ####\n",
    "            saver.save(sess, filename)\n",
    "            with open(save_dir + 'rewards.txt', logging_mode) as f:                                               ####\n",
    "                f.write('%d, , , , ,Learning rate = %f - lr decay = %f - C_update = %d - hidden layers: %d\\n' \\\n",
    "                        %((start_ep+ep), LEARNING_RATE, lr_decay_rate, C_update, info.hid_layers) )                 ####\n",
    "                for i in range(ep):\n",
    "                    f.write('%f,     %f\\n' %(ep_reward[i],ep_var[i]))\n",
    "            print(' Done ******')\n",
    "            \n",
    "        if (ep % lr_decay_ep) == (lr_decay_ep-1):\n",
    "            lr = lr_decay_rate * lr\n",
    "    \n",
    "print('DONE') \n",
    "    "
   ]
  },
  {
   "cell_type": "markdown",
   "metadata": {},
   "source": [
    "sess.run(actor.responsible_outputs, feed_dict={actor.inputs:s_batch, actor.taken_action:a_batch})\n",
    "sess.run(actor.log_pi, feed_dict={actor.inputs:s_batch, actor.taken_action:a_batch})\n",
    "td_batch\n",
    "xx = sess.run(actor.log_pi, feed_dict={actor.inputs:s_batch, actor.taken_action:a_batch})*td_batch\n",
    "xx = sess.run(actor.loss_vector, feed_dict={actor.inputs:s_batch, actor.taken_action:a_batch, actor.td:td_batch})\n",
    "xx.shape\n",
    "actor.give_policy(s_batch)"
   ]
  },
  {
   "cell_type": "code",
   "execution_count": null,
   "metadata": {
    "collapsed": true
   },
   "outputs": [],
   "source": []
  },
  {
   "cell_type": "code",
   "execution_count": null,
   "metadata": {
    "collapsed": false
   },
   "outputs": [],
   "source": []
  },
  {
   "cell_type": "code",
   "execution_count": null,
   "metadata": {
    "collapsed": false
   },
   "outputs": [],
   "source": []
  },
  {
   "cell_type": "markdown",
   "metadata": {},
   "source": [
    "## \n",
    "##\n",
    "##\n",
    "##\n",
    "##\n",
    "##\n",
    "##\n",
    "##\n",
    "##\n",
    "##\n",
    "##\n",
    "##\n",
    "##\n",
    "##\n",
    "##\n",
    "##"
   ]
  },
  {
   "cell_type": "code",
   "execution_count": null,
   "metadata": {
    "collapsed": false
   },
   "outputs": [],
   "source": [
    "print('Ep: %d --- Ave R: %.1f  |  Suc: %.2f  |  crash: %.2f  |  Max R: %.1f  |  var: %.2f  |  lr:%.2fe-4'\\\n",
    "                  %((start_ep+ep), np.mean(ep_reward[last_ep:ep+1]), np.mean(ep_success[last_ep:ep+1]), \\\n",
    "                    np.mean(ep_crash[last_ep:ep+1]), np.amax(ep_reward[last_ep:ep+1]), np.mean(ep_var[last_ep:ep+1]), 1e4*lr))"
   ]
  },
  {
   "cell_type": "code",
   "execution_count": null,
   "metadata": {
    "collapsed": false
   },
   "outputs": [],
   "source": [
    "last_ep = 0"
   ]
  },
  {
   "cell_type": "code",
   "execution_count": null,
   "metadata": {
    "collapsed": true
   },
   "outputs": [],
   "source": []
  }
 ],
 "metadata": {
  "kernelspec": {
   "display_name": "Python 2",
   "language": "python",
   "name": "python2"
  },
  "language_info": {
   "codemirror_mode": {
    "name": "ipython",
    "version": 2
   },
   "file_extension": ".py",
   "mimetype": "text/x-python",
   "name": "python",
   "nbconvert_exporter": "python",
   "pygments_lexer": "ipython2",
   "version": "2.7.13rc1"
  }
 },
 "nbformat": 4,
 "nbformat_minor": 0
}
