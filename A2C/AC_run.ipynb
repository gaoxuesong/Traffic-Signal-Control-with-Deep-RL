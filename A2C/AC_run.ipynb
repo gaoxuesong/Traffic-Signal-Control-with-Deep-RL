{
 "cells": [
  {
   "cell_type": "code",
   "execution_count": 1,
   "metadata": {
    "collapsed": false
   },
   "outputs": [],
   "source": [
    "import numpy as np\n",
    "import tensorflow as tf \n",
    "from collections import deque\n",
    "import random\n",
    "import pdb\n",
    "from replay_memory import ReplayMemory # AC replay memory\n",
    "from AC_networks_tf import ActorNet, CriticNet\n",
    "from test_game import test_env\n",
    "import os\n",
    "from __future__ import print_function\n",
    "from info_obj import info_holder"
   ]
  },
  {
   "cell_type": "code",
   "execution_count": 2,
   "metadata": {
    "collapsed": false
   },
   "outputs": [
    {
     "name": "stderr",
     "output_type": "stream",
     "text": [
      "[2016-12-31 01:36:47,408] Making new env: CartPole-v0\n"
     ]
    },
    {
     "data": {
      "text/plain": [
       "'\\ngame = test_env()\\nstate_dim = 1\\naction_dim = 2\\n'"
      ]
     },
     "execution_count": 2,
     "metadata": {},
     "output_type": "execute_result"
    }
   ],
   "source": [
    "import gym\n",
    "#game_name = 'LunarLander-v2'\n",
    "game_name = 'CartPole-v0'\n",
    "#game_name = 'MountainCar-v0'\n",
    "game = gym.make(game_name)\n",
    "state_dim = game.observation_space.shape[0]\n",
    "action_dim = game.action_space.n\n",
    "'''\n",
    "game = test_env()\n",
    "state_dim = 1\n",
    "action_dim = 2\n",
    "'''"
   ]
  },
  {
   "cell_type": "code",
   "execution_count": 9,
   "metadata": {
    "collapsed": false
   },
   "outputs": [],
   "source": [
    "# info = graph, dim_s, dim_a, hid_layers, learning_rate, tau\n",
    "save_dir = './Results/'+ game_name[:-3] + '/net/'\n",
    "if 'LunarLander' in game_name:\n",
    "    # BUFFER_SIZE = int(1e5)\n",
    "    # MINIBATCH_SIZE = 256\n",
    "    GAMMA = 0.99\n",
    "    LEARNING_RATE = 1. #5e-5 lr/2\n",
    "    lr = LEARNING_RATE # / MINIBATCH_SIZE\n",
    "    lr_decay_ep = 100\n",
    "    lr_decay_rate = 0.955\n",
    "    eps_decay_rate = 0.955\n",
    "    TAU = 0\n",
    "    ENTROPY_BETA = 0\n",
    "    EPSILON = 1\n",
    "    C_update = 100 #episode\n",
    "    MAX_EPISODE = int(1e4)\n",
    "    MAX_STEP = int(1e3)\n",
    "    print_ep = int(1e2)\n",
    "    save_ep = int(1e3)\n",
    "    \n",
    "elif 'CartPole' in game_name:\n",
    "    # BUFFER_SIZE = int(1e5)\n",
    "    # MINIBATCH_SIZE = 128\n",
    "    GAMMA = 0.99\n",
    "    LEARNING_RATE = 1e-4 #5e-5 lr/2\n",
    "    lr = LEARNING_RATE # / MINIBATCH_SIZE\n",
    "    lr_decay_ep = 100\n",
    "    lr_decay_rate = 1\n",
    "    eps_decay_rate = 0.9\n",
    "    TAU = 0\n",
    "    ENTROPY_BETA = 0\n",
    "    EPSILON = 1\n",
    "    C_update = 16 #episode\n",
    "    MAX_EPISODE = int(1e4)\n",
    "    MAX_STEP = int(2e2)\n",
    "    print_ep = int(1e2)\n",
    "    save_ep = int(1e3)\n",
    "    \n",
    "elif 'MountainCar' in game_name:\n",
    "    # BUFFER_SIZE = int(1e5)\n",
    "    # MINIBATCH_SIZE = 256\n",
    "    GAMMA = 0.99\n",
    "    LEARNING_RATE = 1e-2 #5e-5 lr/2\n",
    "    lr = LEARNING_RATE # / MINIBATCH_SIZE\n",
    "    lr_decay_ep = 100\n",
    "    lr_decay_rate = 0.955\n",
    "    eps_decay_rate = 0.955\n",
    "    TAU = 0\n",
    "    ENTROPY_BETA = 0\n",
    "    EPSILON = 1\n",
    "    C_update = 100 #episode\n",
    "    MAX_EPISODE = int(1e4)\n",
    "    MAX_STEP = int(2e2)\n",
    "    print_ep = int(1e2)\n",
    "    save_ep = int(1e3)\n",
    "\n",
    "buff = ReplayMemory()\n",
    "info = info_holder()\n",
    "try:\n",
    "    actor\n",
    "except:\n",
    "    pass\n",
    "else:\n",
    "    actor.reset_net()\n",
    "try:\n",
    "    critic\n",
    "except:\n",
    "    pass\n",
    "else:\n",
    "    critic.reset_net()  \n",
    "    \n",
    "graph = tf.Graph()\n",
    "with graph.as_default():\n",
    "    info.graph = graph\n",
    "    info.dim_s = state_dim\n",
    "    info.dim_a = action_dim\n",
    "    info.act_hid_layers = np.array([16])\n",
    "    info.crit_hid_layers = np.array([16])\n",
    "    info.learning_rate = LEARNING_RATE\n",
    "    info.tau = TAU\n",
    "    info.entropy_beta = ENTROPY_BETA\n",
    "    actor = ActorNet(info)\n",
    "    critic = CriticNet(info)"
   ]
  },
  {
   "cell_type": "code",
   "execution_count": 13,
   "metadata": {
    "collapsed": false
   },
   "outputs": [
    {
     "name": "stdout",
     "output_type": "stream",
     "text": [
      "Ep: 0 --- Ave R: 34.0  |  Suc: 0.00  |  crash: 0.00  |  Max R: 34.0  |  var: 0.62  |  lr:1.00e-4\n",
      "Ep: 99 --- Ave R: 25.4  |  Suc: 0.00  |  crash: 0.00  |  Max R: 65.0  |  var: 0.65  |  lr:1.00e-4\n",
      "Ep: 199 --- Ave R: 26.2  |  Suc: 0.00  |  crash: 0.00  |  Max R: 57.0  |  var: 0.65  |  lr:1.00e-4\n",
      "Ep: 299 --- Ave R: 26.2  |  Suc: 0.00  |  crash: 0.00  |  Max R: 59.0  |  var: 0.60  |  lr:1.00e-4\n",
      "Ep: 399 --- Ave R: 26.0  |  Suc: 0.00  |  crash: 0.00  |  Max R: 76.0  |  var: 0.72  |  lr:1.00e-4\n",
      "Ep: 499 --- Ave R: 24.7  |  Suc: 0.00  |  crash: 0.00  |  Max R: 54.0  |  var: 0.68  |  lr:1.00e-4\n",
      "Ep: 599 --- Ave R: 25.2  |  Suc: 0.00  |  crash: 0.00  |  Max R: 60.0  |  var: 0.67  |  lr:1.00e-4\n",
      "Ep: 699 --- Ave R: 24.9  |  Suc: 0.00  |  crash: 0.00  |  Max R: 69.0  |  var: 0.64  |  lr:1.00e-4\n",
      "Ep: 799 --- Ave R: 25.5  |  Suc: 0.00  |  crash: 0.00  |  Max R: 58.0  |  var: 0.68  |  lr:1.00e-4\n"
     ]
    },
    {
     "ename": "KeyboardInterrupt",
     "evalue": "",
     "output_type": "error",
     "traceback": [
      "\u001b[0;31m---------------------------------------------------------------------------\u001b[0m",
      "\u001b[0;31mKeyboardInterrupt\u001b[0m                         Traceback (most recent call last)",
      "\u001b[0;32m<ipython-input-13-65bb1a2ae877>\u001b[0m in \u001b[0;36m<module>\u001b[0;34m()\u001b[0m\n\u001b[1;32m     17\u001b[0m         \u001b[0mvar\u001b[0m \u001b[1;33m=\u001b[0m \u001b[1;36m0\u001b[0m\u001b[1;33m\u001b[0m\u001b[0m\n\u001b[1;32m     18\u001b[0m         \u001b[1;32mfor\u001b[0m \u001b[0mst\u001b[0m \u001b[1;32min\u001b[0m \u001b[0mrange\u001b[0m\u001b[1;33m(\u001b[0m\u001b[0mMAX_STEP\u001b[0m\u001b[1;33m)\u001b[0m\u001b[1;33m:\u001b[0m\u001b[1;33m\u001b[0m\u001b[0m\n\u001b[0;32m---> 19\u001b[0;31m             \u001b[0ma\u001b[0m \u001b[1;33m=\u001b[0m \u001b[0mactor\u001b[0m\u001b[1;33m.\u001b[0m\u001b[0mtake_action\u001b[0m\u001b[1;33m(\u001b[0m\u001b[0ms\u001b[0m\u001b[1;33m.\u001b[0m\u001b[0mreshape\u001b[0m\u001b[1;33m(\u001b[0m\u001b[1;33m-\u001b[0m\u001b[1;36m1\u001b[0m\u001b[1;33m,\u001b[0m\u001b[0minfo\u001b[0m\u001b[1;33m.\u001b[0m\u001b[0mdim_s\u001b[0m\u001b[1;33m)\u001b[0m\u001b[1;33m)\u001b[0m\u001b[1;33m\u001b[0m\u001b[0m\n\u001b[0m\u001b[1;32m     20\u001b[0m             \u001b[0ms2\u001b[0m\u001b[1;33m,\u001b[0m \u001b[0mr\u001b[0m\u001b[1;33m,\u001b[0m \u001b[0mterminal\u001b[0m\u001b[1;33m,\u001b[0m \u001b[0mreport\u001b[0m \u001b[1;33m=\u001b[0m \u001b[0mgame\u001b[0m\u001b[1;33m.\u001b[0m\u001b[0mstep\u001b[0m\u001b[1;33m(\u001b[0m\u001b[0ma\u001b[0m\u001b[1;33m)\u001b[0m\u001b[1;33m\u001b[0m\u001b[0m\n\u001b[1;32m     21\u001b[0m \u001b[1;33m\u001b[0m\u001b[0m\n",
      "\u001b[0;32mC:\\Users\\s.alizadeh\\Docker\\gym-vnc2\\notebooks\\A2C\\AC_networks_tf.py\u001b[0m in \u001b[0;36mtake_action\u001b[0;34m(self, inputs)\u001b[0m\n\u001b[1;32m     90\u001b[0m     \u001b[1;32mdef\u001b[0m \u001b[0mtake_action\u001b[0m\u001b[1;33m(\u001b[0m\u001b[0mself\u001b[0m\u001b[1;33m,\u001b[0m \u001b[0minputs\u001b[0m\u001b[1;33m)\u001b[0m\u001b[1;33m:\u001b[0m\u001b[1;33m\u001b[0m\u001b[0m\n\u001b[1;32m     91\u001b[0m \u001b[1;33m\u001b[0m\u001b[0m\n\u001b[0;32m---> 92\u001b[0;31m         \u001b[0mpi\u001b[0m \u001b[1;33m=\u001b[0m \u001b[0mself\u001b[0m\u001b[1;33m.\u001b[0m\u001b[0mgive_policy\u001b[0m\u001b[1;33m(\u001b[0m\u001b[0minputs\u001b[0m\u001b[1;33m)\u001b[0m\u001b[1;33m\u001b[0m\u001b[0m\n\u001b[0m\u001b[1;32m     93\u001b[0m         \u001b[0mpi\u001b[0m \u001b[1;33m=\u001b[0m \u001b[0mpi\u001b[0m\u001b[1;33m/\u001b[0m\u001b[0mnp\u001b[0m\u001b[1;33m.\u001b[0m\u001b[0msum\u001b[0m\u001b[1;33m(\u001b[0m\u001b[0mpi\u001b[0m\u001b[1;33m,\u001b[0m \u001b[0maxis\u001b[0m \u001b[1;33m=\u001b[0m \u001b[1;36m1\u001b[0m\u001b[1;33m)\u001b[0m\u001b[1;33m.\u001b[0m\u001b[0mreshape\u001b[0m\u001b[1;33m(\u001b[0m\u001b[1;33m-\u001b[0m\u001b[1;36m1\u001b[0m\u001b[1;33m,\u001b[0m\u001b[1;36m1\u001b[0m\u001b[1;33m)\u001b[0m\u001b[1;33m\u001b[0m\u001b[0m\n\u001b[1;32m     94\u001b[0m         \u001b[0maction\u001b[0m \u001b[1;33m=\u001b[0m \u001b[0mnp\u001b[0m\u001b[1;33m.\u001b[0m\u001b[0mzeros\u001b[0m\u001b[1;33m(\u001b[0m\u001b[0mpi\u001b[0m\u001b[1;33m.\u001b[0m\u001b[0mshape\u001b[0m\u001b[1;33m[\u001b[0m\u001b[1;36m0\u001b[0m\u001b[1;33m]\u001b[0m\u001b[1;33m)\u001b[0m\u001b[1;33m\u001b[0m\u001b[0m\n",
      "\u001b[0;32mC:\\Users\\s.alizadeh\\Docker\\gym-vnc2\\notebooks\\A2C\\AC_networks_tf.py\u001b[0m in \u001b[0;36mgive_policy\u001b[0;34m(self, inputs)\u001b[0m\n\u001b[1;32m     85\u001b[0m \u001b[1;33m\u001b[0m\u001b[0m\n\u001b[1;32m     86\u001b[0m         return self.sess.run(self.policy, feed_dict={\n\u001b[0;32m---> 87\u001b[0;31m             \u001b[0mself\u001b[0m\u001b[1;33m.\u001b[0m\u001b[0minputs\u001b[0m\u001b[1;33m:\u001b[0m \u001b[0minputs\u001b[0m\u001b[1;33m\u001b[0m\u001b[0m\n\u001b[0m\u001b[1;32m     88\u001b[0m         })\n\u001b[1;32m     89\u001b[0m \u001b[1;33m\u001b[0m\u001b[0m\n",
      "\u001b[0;32mc:\\miniconda3\\envs\\ts_py\\lib\\site-packages\\tensorflow\\python\\client\\session.py\u001b[0m in \u001b[0;36mrun\u001b[0;34m(self, fetches, feed_dict, options, run_metadata)\u001b[0m\n\u001b[1;32m    764\u001b[0m     \u001b[1;32mtry\u001b[0m\u001b[1;33m:\u001b[0m\u001b[1;33m\u001b[0m\u001b[0m\n\u001b[1;32m    765\u001b[0m       result = self._run(None, fetches, feed_dict, options_ptr,\n\u001b[0;32m--> 766\u001b[0;31m                          run_metadata_ptr)\n\u001b[0m\u001b[1;32m    767\u001b[0m       \u001b[1;32mif\u001b[0m \u001b[0mrun_metadata\u001b[0m\u001b[1;33m:\u001b[0m\u001b[1;33m\u001b[0m\u001b[0m\n\u001b[1;32m    768\u001b[0m         \u001b[0mproto_data\u001b[0m \u001b[1;33m=\u001b[0m \u001b[0mtf_session\u001b[0m\u001b[1;33m.\u001b[0m\u001b[0mTF_GetBuffer\u001b[0m\u001b[1;33m(\u001b[0m\u001b[0mrun_metadata_ptr\u001b[0m\u001b[1;33m)\u001b[0m\u001b[1;33m\u001b[0m\u001b[0m\n",
      "\u001b[0;32mc:\\miniconda3\\envs\\ts_py\\lib\\site-packages\\tensorflow\\python\\client\\session.py\u001b[0m in \u001b[0;36m_run\u001b[0;34m(self, handle, fetches, feed_dict, options, run_metadata)\u001b[0m\n\u001b[1;32m    962\u001b[0m     \u001b[1;32mif\u001b[0m \u001b[0mfinal_fetches\u001b[0m \u001b[1;32mor\u001b[0m \u001b[0mfinal_targets\u001b[0m\u001b[1;33m:\u001b[0m\u001b[1;33m\u001b[0m\u001b[0m\n\u001b[1;32m    963\u001b[0m       results = self._do_run(handle, final_targets, final_fetches,\n\u001b[0;32m--> 964\u001b[0;31m                              feed_dict_string, options, run_metadata)\n\u001b[0m\u001b[1;32m    965\u001b[0m     \u001b[1;32melse\u001b[0m\u001b[1;33m:\u001b[0m\u001b[1;33m\u001b[0m\u001b[0m\n\u001b[1;32m    966\u001b[0m       \u001b[0mresults\u001b[0m \u001b[1;33m=\u001b[0m \u001b[1;33m[\u001b[0m\u001b[1;33m]\u001b[0m\u001b[1;33m\u001b[0m\u001b[0m\n",
      "\u001b[0;32mc:\\miniconda3\\envs\\ts_py\\lib\\site-packages\\tensorflow\\python\\client\\session.py\u001b[0m in \u001b[0;36m_do_run\u001b[0;34m(self, handle, target_list, fetch_list, feed_dict, options, run_metadata)\u001b[0m\n\u001b[1;32m   1012\u001b[0m     \u001b[1;32mif\u001b[0m \u001b[0mhandle\u001b[0m \u001b[1;32mis\u001b[0m \u001b[1;32mNone\u001b[0m\u001b[1;33m:\u001b[0m\u001b[1;33m\u001b[0m\u001b[0m\n\u001b[1;32m   1013\u001b[0m       return self._do_call(_run_fn, self._session, feed_dict, fetch_list,\n\u001b[0;32m-> 1014\u001b[0;31m                            target_list, options, run_metadata)\n\u001b[0m\u001b[1;32m   1015\u001b[0m     \u001b[1;32melse\u001b[0m\u001b[1;33m:\u001b[0m\u001b[1;33m\u001b[0m\u001b[0m\n\u001b[1;32m   1016\u001b[0m       return self._do_call(_prun_fn, self._session, handle, feed_dict,\n",
      "\u001b[0;32mc:\\miniconda3\\envs\\ts_py\\lib\\site-packages\\tensorflow\\python\\client\\session.py\u001b[0m in \u001b[0;36m_do_call\u001b[0;34m(self, fn, *args)\u001b[0m\n\u001b[1;32m   1019\u001b[0m   \u001b[1;32mdef\u001b[0m \u001b[0m_do_call\u001b[0m\u001b[1;33m(\u001b[0m\u001b[0mself\u001b[0m\u001b[1;33m,\u001b[0m \u001b[0mfn\u001b[0m\u001b[1;33m,\u001b[0m \u001b[1;33m*\u001b[0m\u001b[0margs\u001b[0m\u001b[1;33m)\u001b[0m\u001b[1;33m:\u001b[0m\u001b[1;33m\u001b[0m\u001b[0m\n\u001b[1;32m   1020\u001b[0m     \u001b[1;32mtry\u001b[0m\u001b[1;33m:\u001b[0m\u001b[1;33m\u001b[0m\u001b[0m\n\u001b[0;32m-> 1021\u001b[0;31m       \u001b[1;32mreturn\u001b[0m \u001b[0mfn\u001b[0m\u001b[1;33m(\u001b[0m\u001b[1;33m*\u001b[0m\u001b[0margs\u001b[0m\u001b[1;33m)\u001b[0m\u001b[1;33m\u001b[0m\u001b[0m\n\u001b[0m\u001b[1;32m   1022\u001b[0m     \u001b[1;32mexcept\u001b[0m \u001b[0merrors\u001b[0m\u001b[1;33m.\u001b[0m\u001b[0mOpError\u001b[0m \u001b[1;32mas\u001b[0m \u001b[0me\u001b[0m\u001b[1;33m:\u001b[0m\u001b[1;33m\u001b[0m\u001b[0m\n\u001b[1;32m   1023\u001b[0m       \u001b[0mmessage\u001b[0m \u001b[1;33m=\u001b[0m \u001b[0mcompat\u001b[0m\u001b[1;33m.\u001b[0m\u001b[0mas_text\u001b[0m\u001b[1;33m(\u001b[0m\u001b[0me\u001b[0m\u001b[1;33m.\u001b[0m\u001b[0mmessage\u001b[0m\u001b[1;33m)\u001b[0m\u001b[1;33m\u001b[0m\u001b[0m\n",
      "\u001b[0;32mc:\\miniconda3\\envs\\ts_py\\lib\\site-packages\\tensorflow\\python\\client\\session.py\u001b[0m in \u001b[0;36m_run_fn\u001b[0;34m(session, feed_dict, fetch_list, target_list, options, run_metadata)\u001b[0m\n\u001b[1;32m   1001\u001b[0m         return tf_session.TF_Run(session, options,\n\u001b[1;32m   1002\u001b[0m                                  \u001b[0mfeed_dict\u001b[0m\u001b[1;33m,\u001b[0m \u001b[0mfetch_list\u001b[0m\u001b[1;33m,\u001b[0m \u001b[0mtarget_list\u001b[0m\u001b[1;33m,\u001b[0m\u001b[1;33m\u001b[0m\u001b[0m\n\u001b[0;32m-> 1003\u001b[0;31m                                  status, run_metadata)\n\u001b[0m\u001b[1;32m   1004\u001b[0m \u001b[1;33m\u001b[0m\u001b[0m\n\u001b[1;32m   1005\u001b[0m     \u001b[1;32mdef\u001b[0m \u001b[0m_prun_fn\u001b[0m\u001b[1;33m(\u001b[0m\u001b[0msession\u001b[0m\u001b[1;33m,\u001b[0m \u001b[0mhandle\u001b[0m\u001b[1;33m,\u001b[0m \u001b[0mfeed_dict\u001b[0m\u001b[1;33m,\u001b[0m \u001b[0mfetch_list\u001b[0m\u001b[1;33m)\u001b[0m\u001b[1;33m:\u001b[0m\u001b[1;33m\u001b[0m\u001b[0m\n",
      "\u001b[0;31mKeyboardInterrupt\u001b[0m: "
     ]
    }
   ],
   "source": [
    "# lr = LEARNING_RATE\n",
    "buff.clear()\n",
    "last_ep = 0\n",
    "start_update = 0\n",
    "with tf.Session(graph=graph) as sess:\n",
    "    actor.set_up(sess)\n",
    "    critic.set_up(sess)\n",
    "    sess.run(tf.global_variables_initializer())\n",
    "    \n",
    "    ep_reward = np.zeros(MAX_EPISODE)\n",
    "    ep_success = np.zeros(MAX_EPISODE)\n",
    "    ep_crash = np.zeros(MAX_EPISODE)\n",
    "    #batch_loss = np.zeros(MAX_EPISODE)\n",
    "    avg_var = 0\n",
    "    \n",
    "    for ep in range(MAX_EPISODE):\n",
    "        s = game.reset()\n",
    "        var = 0\n",
    "        for st in range(MAX_STEP):\n",
    "            a = actor.take_action(s.reshape(-1,info.dim_s))\n",
    "            s2, r, terminal, report = game.step(a)\n",
    "\n",
    "            buff.add(np.reshape(s, (info.dim_s,)).astype(np.float32), np.array(a).astype(np.float32),\\\n",
    "                     np.array(r).astype(np.float32), np.reshape(s2, (info.dim_s,)).astype(np.float32),\\\n",
    "                     np.array(terminal).astype(np.float32))\n",
    "\n",
    "            ep_reward[ep] += (1.*r)\n",
    "            var += np.sum(actor.give_policy(s.reshape(-1,info.dim_s))**2)\n",
    "            s = s2\n",
    "\n",
    "            if terminal:\n",
    "                var = var/st\n",
    "                avg_var += (var/print_ep)\n",
    "                break\n",
    "                \n",
    "        if ((ep % C_update) == (C_update -1)):\n",
    "            (s_batch, a_batch, r_batch, s2_batch, t_batch) = \\\n",
    "                buff.sample_batch()\n",
    "            s_batch = np.array(s_batch).reshape(-1, info.dim_s)\n",
    "            s2_batch = np.array(s2_batch).reshape(-1, info.dim_s)\n",
    "            a_batch = np.array(a_batch)#.reshape(-1, 1)\n",
    "            r_batch = np.array(r_batch)#.reshape(-1, 1)\n",
    "            t_batch = np.array(t_batch)#.reshape(-1, 1)\n",
    "\n",
    "            Q_2 = critic.predict(s2_batch)\n",
    "            Q_2 = Q_2[:,0]\n",
    "            \n",
    "            R_batch = r_batch + GAMMA * Q_2 * (1-t_batch)\n",
    "            R_batch = R_batch.reshape(-1, 1)\n",
    "            #pdb.set_trace()\n",
    "            predicted_Q, _ = critic.train(s_batch, R_batch, lr)\n",
    "            td_batch = R_batch - predicted_Q\n",
    "            actor.train(s_batch, a_batch, td_batch, lr)\n",
    "                \n",
    "        if terminal == False:\n",
    "            var = var/MAX_STEP\n",
    "            avg_var += (var/print_ep)\n",
    "        if (r >= 100):\n",
    "            ep_success[ep] = 1\n",
    "        elif (r <= -100):\n",
    "            ep_crash[ep] = 1\n",
    "        \n",
    "        if ((ep % print_ep) == (print_ep-1)) or (ep == 0):\n",
    "            print('Ep: %d --- Ave R: %.1f  |  Suc: %.2f  |  crash: %.2f  |  Max R: %.1f  |  var: %.2f  |  lr:%.2fe-4'\\\n",
    "                  %(ep, np.mean(ep_reward[last_ep:ep+1]), np.mean(ep_success[last_ep:ep+1]), \\\n",
    "                    np.mean(ep_crash[last_ep:ep+1]), np.amax(ep_reward[last_ep:ep+1]), var, 1e4*lr))\n",
    "            last_ep = ep\n",
    "            avg_var = 0\n",
    "        \n",
    "        if (ep == 0):\n",
    "            if (os.path.isdir(save_dir)):\n",
    "                raise NameError('Directory net exists')\n",
    "                \n",
    "        if (ep == (save_ep-1)):\n",
    "            os.mkdir(save_dir)\n",
    "            with open(save_dir + 'params.txt', 'w') as f:\n",
    "                f.write('Learning rate = %f\\n' %LEARNING_RATE)\n",
    "                f.write('lr decay = %f\\n' %lr_decay_rate)\n",
    "                f.write('hidden layers: %d\\n' %info.hid_layers)\n",
    "                f.write('update cycle: %d\\n' %C_update)\n",
    "                \n",
    "        if (ep % save_ep) == (save_ep-1):\n",
    "            print(' ***** Saving...  at episode %d ...' %ep, end=\"\")\n",
    "            saver = tf.train.Saver()\n",
    "            filename = save_dir + 'Episod_' + str(ep) + '.chk'\n",
    "            saver.save(sess, filename)\n",
    "            with open(save_dir + 'rewards.txt', 'w') as f:\n",
    "                f.write('%d, , , , ,Learning rate = %f - lr decay = %f - C_update = %d - hidden layers: %d\\n' \\\n",
    "                        %(ep, LEARNING_RATE, lr_decay_rate, C_update, info.hid_layers) )\n",
    "                for i in range(ep):\n",
    "                    f.write('%f\\n' %(ep_reward[i]))\n",
    "            print(' Done ******')\n",
    "            \n",
    "        if (ep % lr_decay_ep) == (lr_decay_ep-1):\n",
    "            lr = lr_decay_rate * lr\n",
    "    \n",
    "print('DONE') \n",
    "    "
   ]
  },
  {
   "cell_type": "code",
   "execution_count": null,
   "metadata": {
    "collapsed": false
   },
   "outputs": [],
   "source": []
  },
  {
   "cell_type": "code",
   "execution_count": null,
   "metadata": {
    "collapsed": false
   },
   "outputs": [],
   "source": []
  },
  {
   "cell_type": "markdown",
   "metadata": {},
   "source": [
    "## "
   ]
  }
 ],
 "metadata": {
  "kernelspec": {
   "display_name": "Python 3",
   "language": "python",
   "name": "python3"
  },
  "language_info": {
   "codemirror_mode": {
    "name": "ipython",
    "version": 3
   },
   "file_extension": ".py",
   "mimetype": "text/x-python",
   "name": "python",
   "nbconvert_exporter": "python",
   "pygments_lexer": "ipython3",
   "version": "3.5.2"
  }
 },
 "nbformat": 4,
 "nbformat_minor": 0
}
