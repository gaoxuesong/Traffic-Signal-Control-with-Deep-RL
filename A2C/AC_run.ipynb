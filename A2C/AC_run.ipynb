{
 "cells": [
  {
   "cell_type": "code",
   "execution_count": 1,
   "metadata": {
    "collapsed": false
   },
   "outputs": [],
   "source": [
    "import numpy as np\n",
    "import tensorflow as tf \n",
    "import tflearn\n",
    "from collections import deque\n",
    "import random\n",
    "import pdb\n",
    "from replay_memory import ReplayMemory\n",
    "from AC_networks import ActorNet, CriticNet\n",
    "#from test_game import test_env\n",
    "import os"
   ]
  },
  {
   "cell_type": "code",
   "execution_count": 2,
   "metadata": {
    "collapsed": false
   },
   "outputs": [],
   "source": [
    "class input_struct:\n",
    "    def __init__(self, net):\n",
    "        self.net = net\n"
   ]
  },
  {
   "cell_type": "code",
   "execution_count": 3,
   "metadata": {
    "collapsed": false
   },
   "outputs": [
    {
     "name": "stderr",
     "output_type": "stream",
     "text": [
      "[2016-12-28 20:34:14,225] Making new env: LunarLander-v2\n"
     ]
    }
   ],
   "source": [
    "import gym\n",
    "game = gym.make('LunarLander-v2')\n",
    "#game = gym.make('CartPole-v0')\n",
    "state_dim = game.observation_space.shape[0]\n",
    "action_dim = game.action_space.n"
   ]
  },
  {
   "cell_type": "code",
   "execution_count": 19,
   "metadata": {
    "collapsed": false
   },
   "outputs": [],
   "source": [
    "# info = graph, dim_s, dim_a, hid_layers, learning_rate, tau\n",
    "save_dir = './Results/net/'\n",
    "MAX_EPISODE = 20000\n",
    "MAX_STEP = 1000\n",
    "MINIBATCH_SIZE = 16\n",
    "GAMMA = 0.99\n",
    "LEARNING_RATE = 1e-2 #5e-5 lr/2\n",
    "TAU = 0\n",
    "ENTROPY_BETA = 0\n",
    "buff = ReplayMemory()\n",
    "info = input_struct('actor')\n",
    "try:\n",
    "    actor\n",
    "except:\n",
    "    pass\n",
    "else:\n",
    "    actor.reset_net()\n",
    "try:\n",
    "    critic\n",
    "except:\n",
    "    pass\n",
    "else:\n",
    "    critic.reset_net()  \n",
    "    \n",
    "graph = tf.Graph()\n",
    "with graph.as_default():\n",
    "    info.graph = graph\n",
    "    info.dim_s = state_dim\n",
    "    info.dim_a = action_dim\n",
    "    info.act_hid_layers = np.array([16])\n",
    "    info.crit_hid_layers = np.array([16])\n",
    "    info.learning_rate = LEARNING_RATE\n",
    "    info.tau = TAU\n",
    "    info.ent_beta = ENTROPY_BETA\n",
    "    actor = ActorNet(info)\n",
    "    critic = CriticNet(info, actor.get_num_trainable_vars())"
   ]
  },
  {
   "cell_type": "code",
   "execution_count": 21,
   "metadata": {
    "collapsed": false
   },
   "outputs": [
    {
     "name": "stdout",
     "output_type": "stream",
     "text": [
      "WARNING:tensorflow:From <ipython-input-21-dd758e175a2f>:13 in <module>.: initialize_all_variables (from tensorflow.python.ops.variables) is deprecated and will be removed after 2017-03-02.\n",
      "Instructions for updating:\n",
      "Use `tf.global_variables_initializer` instead.\n"
     ]
    },
    {
     "name": "stderr",
     "output_type": "stream",
     "text": [
      "[2016-12-28 21:42:51,857] From <ipython-input-21-dd758e175a2f>:13 in <module>.: initialize_all_variables (from tensorflow.python.ops.variables) is deprecated and will be removed after 2017-03-02.\n",
      "Instructions for updating:\n",
      "Use `tf.global_variables_initializer` instead.\n"
     ]
    },
    {
     "name": "stdout",
     "output_type": "stream",
     "text": [
      "Episode: 0 --- Ave R: -428.3  |  Success: 0.00  |  crash: 1.00  |  Max R: -428.3  |  var: 0.25  |  lr:100.00*1e-4\n",
      "Episode: 99 --- Ave R: -241.1  |  Success: 0.00  |  crash: 1.00  |  Max R: -15.2  |  var: 0.25  |  lr:100.00*1e-4\n",
      "Episode: 199 --- Ave R: -221.5  |  Success: 0.00  |  crash: 1.00  |  Max R: -33.1  |  var: 0.25  |  lr:100.00*1e-4\n",
      "Episode: 299 --- Ave R: -253.6  |  Success: 0.00  |  crash: 1.00  |  Max R: -37.9  |  var: 0.26  |  lr:100.00*1e-4\n",
      "Episode: 399 --- Ave R: -244.8  |  Success: 0.00  |  crash: 0.99  |  Max R: 12.2  |  var: 0.26  |  lr:100.00*1e-4\n",
      "Episode: 499 --- Ave R: -251.8  |  Success: 0.00  |  crash: 1.00  |  Max R: -43.6  |  var: 0.26  |  lr:100.00*1e-4\n",
      "Episode: 599 --- Ave R: -257.3  |  Success: 0.00  |  crash: 0.99  |  Max R: 18.7  |  var: 0.27  |  lr:100.00*1e-4\n",
      "Episode: 699 --- Ave R: -243.5  |  Success: 0.00  |  crash: 0.98  |  Max R: 64.5  |  var: 0.26  |  lr:100.00*1e-4\n",
      "Episode: 799 --- Ave R: -247.6  |  Success: 0.00  |  crash: 1.00  |  Max R: -27.0  |  var: 0.26  |  lr:100.00*1e-4\n",
      "Episode: 899 --- Ave R: -230.5  |  Success: 0.00  |  crash: 1.00  |  Max R: -78.0  |  var: 0.26  |  lr:100.00*1e-4\n",
      "Episode: 999 --- Ave R: -233.4  |  Success: 0.00  |  crash: 1.00  |  Max R: -12.4  |  var: 0.29  |  lr:100.00*1e-4\n",
      " ***** Saving...  at episode 999 ******\n",
      "WARNING:tensorflow:Error encountered when serializing data_augmentation.\n",
      "Type is unsupported, or the types of the items don't match field type in CollectionDef.\n",
      "'NoneType' object has no attribute 'name'\n"
     ]
    },
    {
     "name": "stderr",
     "output_type": "stream",
     "text": [
      "[2016-12-28 21:44:26,005] Error encountered when serializing data_augmentation.\n",
      "Type is unsupported, or the types of the items don't match field type in CollectionDef.\n",
      "'NoneType' object has no attribute 'name'\n"
     ]
    },
    {
     "name": "stdout",
     "output_type": "stream",
     "text": [
      "WARNING:tensorflow:Error encountered when serializing data_preprocessing.\n",
      "Type is unsupported, or the types of the items don't match field type in CollectionDef.\n",
      "'NoneType' object has no attribute 'name'\n"
     ]
    },
    {
     "name": "stderr",
     "output_type": "stream",
     "text": [
      "[2016-12-28 21:44:26,010] Error encountered when serializing data_preprocessing.\n",
      "Type is unsupported, or the types of the items don't match field type in CollectionDef.\n",
      "'NoneType' object has no attribute 'name'\n"
     ]
    },
    {
     "name": "stdout",
     "output_type": "stream",
     "text": [
      "Episode: 1099 --- Ave R: -231.5  |  Success: 0.00  |  crash: 0.99  |  Max R: 50.0  |  var: 0.26  |  lr:100.00*1e-4\n",
      "Episode: 1199 --- Ave R: -230.9  |  Success: 0.00  |  crash: 1.00  |  Max R: -32.3  |  var: 0.29  |  lr:100.00*1e-4\n",
      "Episode: 1299 --- Ave R: -227.9  |  Success: 0.00  |  crash: 1.00  |  Max R: -84.8  |  var: 0.26  |  lr:100.00*1e-4\n",
      "Episode: 1399 --- Ave R: -195.5  |  Success: 0.00  |  crash: 1.00  |  Max R: -82.3  |  var: 0.26  |  lr:100.00*1e-4\n",
      "Episode: 1499 --- Ave R: -197.2  |  Success: 0.00  |  crash: 1.00  |  Max R: -63.8  |  var: 0.26  |  lr:100.00*1e-4\n",
      "Episode: 1599 --- Ave R: -215.7  |  Success: 0.00  |  crash: 1.00  |  Max R: -30.7  |  var: 0.26  |  lr:100.00*1e-4\n",
      "Episode: 1699 --- Ave R: -224.9  |  Success: 0.00  |  crash: 1.00  |  Max R: -63.7  |  var: 0.55  |  lr:100.00*1e-4\n",
      "Episode: 1799 --- Ave R: -253.5  |  Success: 0.00  |  crash: 1.00  |  Max R: 1.2  |  var: 0.46  |  lr:100.00*1e-4\n",
      "Episode: 1899 --- Ave R: -275.5  |  Success: 0.00  |  crash: 1.00  |  Max R: -73.1  |  var: 0.26  |  lr:100.00*1e-4\n",
      "Episode: 1999 --- Ave R: -245.6  |  Success: 0.00  |  crash: 1.00  |  Max R: 0.3  |  var: 0.28  |  lr:100.00*1e-4\n",
      " ***** Saving...  at episode 1999 ******\n",
      "WARNING:tensorflow:Error encountered when serializing data_augmentation.\n",
      "Type is unsupported, or the types of the items don't match field type in CollectionDef.\n",
      "'NoneType' object has no attribute 'name'\n"
     ]
    },
    {
     "name": "stderr",
     "output_type": "stream",
     "text": [
      "[2016-12-28 21:45:57,075] Error encountered when serializing data_augmentation.\n",
      "Type is unsupported, or the types of the items don't match field type in CollectionDef.\n",
      "'NoneType' object has no attribute 'name'\n"
     ]
    },
    {
     "name": "stdout",
     "output_type": "stream",
     "text": [
      "WARNING:tensorflow:Error encountered when serializing data_preprocessing.\n",
      "Type is unsupported, or the types of the items don't match field type in CollectionDef.\n",
      "'NoneType' object has no attribute 'name'\n"
     ]
    },
    {
     "name": "stderr",
     "output_type": "stream",
     "text": [
      "[2016-12-28 21:45:57,080] Error encountered when serializing data_preprocessing.\n",
      "Type is unsupported, or the types of the items don't match field type in CollectionDef.\n",
      "'NoneType' object has no attribute 'name'\n"
     ]
    },
    {
     "name": "stdout",
     "output_type": "stream",
     "text": [
      "Episode: 2099 --- Ave R: -251.1  |  Success: 0.00  |  crash: 1.00  |  Max R: -74.7  |  var: 0.51  |  lr:100.00*1e-4\n",
      "Episode: 2199 --- Ave R: -237.2  |  Success: 0.00  |  crash: 1.00  |  Max R: -67.9  |  var: 0.48  |  lr:100.00*1e-4\n",
      "Episode: 2299 --- Ave R: -206.5  |  Success: 0.00  |  crash: 1.00  |  Max R: -21.7  |  var: 0.28  |  lr:100.00*1e-4\n",
      "Episode: 2399 --- Ave R: -176.9  |  Success: 0.00  |  crash: 0.99  |  Max R: 20.5  |  var: 0.30  |  lr:100.00*1e-4\n",
      "Episode: 2499 --- Ave R: -165.3  |  Success: 0.00  |  crash: 1.00  |  Max R: -11.4  |  var: 0.37  |  lr:100.00*1e-4\n",
      "Episode: 2599 --- Ave R: -160.1  |  Success: 0.00  |  crash: 1.00  |  Max R: -20.2  |  var: 0.26  |  lr:100.00*1e-4\n",
      "Episode: 2699 --- Ave R: -182.9  |  Success: 0.00  |  crash: 1.00  |  Max R: -80.3  |  var: 0.27  |  lr:100.00*1e-4\n",
      "Episode: 2799 --- Ave R: -160.6  |  Success: 0.00  |  crash: 1.00  |  Max R: -18.6  |  var: 0.26  |  lr:100.00*1e-4\n",
      "Episode: 2899 --- Ave R: -164.4  |  Success: 0.00  |  crash: 1.00  |  Max R: -68.3  |  var: 0.29  |  lr:100.00*1e-4\n",
      "Episode: 2999 --- Ave R: -152.2  |  Success: 0.00  |  crash: 1.00  |  Max R: -30.0  |  var: 0.28  |  lr:100.00*1e-4\n",
      " ***** Saving...  at episode 2999 ******\n",
      "WARNING:tensorflow:Error encountered when serializing data_augmentation.\n",
      "Type is unsupported, or the types of the items don't match field type in CollectionDef.\n",
      "'NoneType' object has no attribute 'name'\n"
     ]
    },
    {
     "name": "stderr",
     "output_type": "stream",
     "text": [
      "[2016-12-28 21:47:33,105] Error encountered when serializing data_augmentation.\n",
      "Type is unsupported, or the types of the items don't match field type in CollectionDef.\n",
      "'NoneType' object has no attribute 'name'\n"
     ]
    },
    {
     "name": "stdout",
     "output_type": "stream",
     "text": [
      "WARNING:tensorflow:Error encountered when serializing data_preprocessing.\n",
      "Type is unsupported, or the types of the items don't match field type in CollectionDef.\n",
      "'NoneType' object has no attribute 'name'\n"
     ]
    },
    {
     "name": "stderr",
     "output_type": "stream",
     "text": [
      "[2016-12-28 21:47:33,111] Error encountered when serializing data_preprocessing.\n",
      "Type is unsupported, or the types of the items don't match field type in CollectionDef.\n",
      "'NoneType' object has no attribute 'name'\n"
     ]
    },
    {
     "name": "stdout",
     "output_type": "stream",
     "text": [
      "Episode: 3099 --- Ave R: -145.6  |  Success: 0.00  |  crash: 1.00  |  Max R: -67.8  |  var: 0.28  |  lr:100.00*1e-4\n",
      "Episode: 3199 --- Ave R: -152.6  |  Success: 0.00  |  crash: 1.00  |  Max R: -58.9  |  var: 0.30  |  lr:100.00*1e-4\n",
      "Episode: 3299 --- Ave R: -156.7  |  Success: 0.00  |  crash: 1.00  |  Max R: -77.4  |  var: 0.29  |  lr:100.00*1e-4\n",
      "Episode: 3399 --- Ave R: -151.6  |  Success: 0.00  |  crash: 1.00  |  Max R: -76.1  |  var: 0.27  |  lr:100.00*1e-4\n",
      "Episode: 3499 --- Ave R: -145.2  |  Success: 0.01  |  crash: 0.99  |  Max R: 191.0  |  var: 0.26  |  lr:100.00*1e-4\n",
      "Episode: 3599 --- Ave R: -148.3  |  Success: 0.00  |  crash: 1.00  |  Max R: -84.9  |  var: 0.28  |  lr:100.00*1e-4\n",
      "Episode: 3699 --- Ave R: -153.3  |  Success: 0.00  |  crash: 1.00  |  Max R: -85.5  |  var: 0.27  |  lr:100.00*1e-4\n",
      "Episode: 3799 --- Ave R: -148.3  |  Success: 0.00  |  crash: 1.00  |  Max R: -80.8  |  var: 0.27  |  lr:100.00*1e-4\n",
      "Episode: 3899 --- Ave R: -147.7  |  Success: 0.00  |  crash: 1.00  |  Max R: -19.8  |  var: 0.28  |  lr:100.00*1e-4\n",
      "Episode: 3999 --- Ave R: -146.5  |  Success: 0.00  |  crash: 1.00  |  Max R: -76.9  |  var: 0.27  |  lr:100.00*1e-4\n",
      " ***** Saving...  at episode 3999 ******\n",
      "WARNING:tensorflow:Error encountered when serializing data_augmentation.\n",
      "Type is unsupported, or the types of the items don't match field type in CollectionDef.\n",
      "'NoneType' object has no attribute 'name'\n"
     ]
    },
    {
     "name": "stderr",
     "output_type": "stream",
     "text": [
      "[2016-12-28 21:49:03,809] Error encountered when serializing data_augmentation.\n",
      "Type is unsupported, or the types of the items don't match field type in CollectionDef.\n",
      "'NoneType' object has no attribute 'name'\n"
     ]
    },
    {
     "name": "stdout",
     "output_type": "stream",
     "text": [
      "WARNING:tensorflow:Error encountered when serializing data_preprocessing.\n",
      "Type is unsupported, or the types of the items don't match field type in CollectionDef.\n",
      "'NoneType' object has no attribute 'name'\n"
     ]
    },
    {
     "name": "stderr",
     "output_type": "stream",
     "text": [
      "[2016-12-28 21:49:03,814] Error encountered when serializing data_preprocessing.\n",
      "Type is unsupported, or the types of the items don't match field type in CollectionDef.\n",
      "'NoneType' object has no attribute 'name'\n"
     ]
    },
    {
     "name": "stdout",
     "output_type": "stream",
     "text": [
      "Episode: 4099 --- Ave R: -148.9  |  Success: 0.00  |  crash: 1.00  |  Max R: -14.5  |  var: 0.27  |  lr:100.00*1e-4\n",
      "Episode: 4199 --- Ave R: -145.7  |  Success: 0.00  |  crash: 1.00  |  Max R: -75.8  |  var: 0.30  |  lr:100.00*1e-4\n",
      "Episode: 4299 --- Ave R: -141.5  |  Success: 0.00  |  crash: 1.00  |  Max R: -70.4  |  var: 0.28  |  lr:100.00*1e-4\n",
      "Episode: 4399 --- Ave R: -143.7  |  Success: 0.00  |  crash: 1.00  |  Max R: -71.6  |  var: 0.27  |  lr:100.00*1e-4\n",
      "Episode: 4499 --- Ave R: -148.7  |  Success: 0.00  |  crash: 1.00  |  Max R: -71.8  |  var: 0.30  |  lr:100.00*1e-4\n",
      "Episode: 4599 --- Ave R: -143.1  |  Success: 0.00  |  crash: 1.00  |  Max R: -26.7  |  var: 0.28  |  lr:100.00*1e-4\n",
      "Episode: 4699 --- Ave R: -148.8  |  Success: 0.00  |  crash: 1.00  |  Max R: -10.5  |  var: 0.28  |  lr:100.00*1e-4\n",
      "Episode: 4799 --- Ave R: -147.6  |  Success: 0.00  |  crash: 1.00  |  Max R: -51.4  |  var: 0.30  |  lr:100.00*1e-4\n",
      "Episode: 4899 --- Ave R: -138.3  |  Success: 0.00  |  crash: 1.00  |  Max R: -11.5  |  var: 0.34  |  lr:100.00*1e-4\n",
      "Episode: 4999 --- Ave R: -148.0  |  Success: 0.00  |  crash: 1.00  |  Max R: -1.7  |  var: 0.28  |  lr:100.00*1e-4\n",
      " ***** Saving...  at episode 4999 ******\n",
      "WARNING:tensorflow:Error encountered when serializing data_augmentation.\n",
      "Type is unsupported, or the types of the items don't match field type in CollectionDef.\n",
      "'NoneType' object has no attribute 'name'\n"
     ]
    },
    {
     "name": "stderr",
     "output_type": "stream",
     "text": [
      "[2016-12-28 21:50:28,339] Error encountered when serializing data_augmentation.\n",
      "Type is unsupported, or the types of the items don't match field type in CollectionDef.\n",
      "'NoneType' object has no attribute 'name'\n"
     ]
    },
    {
     "name": "stdout",
     "output_type": "stream",
     "text": [
      "WARNING:tensorflow:Error encountered when serializing data_preprocessing.\n",
      "Type is unsupported, or the types of the items don't match field type in CollectionDef.\n",
      "'NoneType' object has no attribute 'name'\n"
     ]
    },
    {
     "name": "stderr",
     "output_type": "stream",
     "text": [
      "[2016-12-28 21:50:28,344] Error encountered when serializing data_preprocessing.\n",
      "Type is unsupported, or the types of the items don't match field type in CollectionDef.\n",
      "'NoneType' object has no attribute 'name'\n"
     ]
    },
    {
     "name": "stdout",
     "output_type": "stream",
     "text": [
      "Episode: 5099 --- Ave R: -149.1  |  Success: 0.00  |  crash: 1.00  |  Max R: -16.9  |  var: 0.30  |  lr:100.00*1e-4\n",
      "Episode: 5199 --- Ave R: -164.0  |  Success: 0.00  |  crash: 1.00  |  Max R: -74.9  |  var: 0.28  |  lr:100.00*1e-4\n",
      "Episode: 5299 --- Ave R: -148.1  |  Success: 0.00  |  crash: 1.00  |  Max R: -66.4  |  var: 0.27  |  lr:100.00*1e-4\n",
      "Episode: 5399 --- Ave R: -152.3  |  Success: 0.00  |  crash: 1.00  |  Max R: -46.2  |  var: 0.35  |  lr:100.00*1e-4\n",
      "Episode: 5499 --- Ave R: -156.4  |  Success: 0.00  |  crash: 1.00  |  Max R: -89.8  |  var: 0.31  |  lr:100.00*1e-4\n",
      "Episode: 5599 --- Ave R: -148.7  |  Success: 0.00  |  crash: 1.00  |  Max R: -81.0  |  var: 0.30  |  lr:100.00*1e-4\n",
      "Episode: 5699 --- Ave R: -148.5  |  Success: 0.00  |  crash: 1.00  |  Max R: -32.1  |  var: 0.30  |  lr:100.00*1e-4\n",
      "Episode: 5799 --- Ave R: -141.0  |  Success: 0.00  |  crash: 1.00  |  Max R: -26.5  |  var: 0.34  |  lr:100.00*1e-4\n",
      "Episode: 5899 --- Ave R: -164.0  |  Success: 0.00  |  crash: 1.00  |  Max R: -65.4  |  var: 0.29  |  lr:100.00*1e-4\n",
      "Episode: 5999 --- Ave R: -153.7  |  Success: 0.00  |  crash: 1.00  |  Max R: -53.0  |  var: 0.27  |  lr:100.00*1e-4\n",
      " ***** Saving...  at episode 5999 ******\n",
      "WARNING:tensorflow:Error encountered when serializing data_augmentation.\n",
      "Type is unsupported, or the types of the items don't match field type in CollectionDef.\n",
      "'NoneType' object has no attribute 'name'\n"
     ]
    },
    {
     "name": "stderr",
     "output_type": "stream",
     "text": [
      "[2016-12-28 21:51:55,031] Error encountered when serializing data_augmentation.\n",
      "Type is unsupported, or the types of the items don't match field type in CollectionDef.\n",
      "'NoneType' object has no attribute 'name'\n"
     ]
    },
    {
     "name": "stdout",
     "output_type": "stream",
     "text": [
      "WARNING:tensorflow:Error encountered when serializing data_preprocessing.\n",
      "Type is unsupported, or the types of the items don't match field type in CollectionDef.\n",
      "'NoneType' object has no attribute 'name'\n"
     ]
    },
    {
     "name": "stderr",
     "output_type": "stream",
     "text": [
      "[2016-12-28 21:51:55,037] Error encountered when serializing data_preprocessing.\n",
      "Type is unsupported, or the types of the items don't match field type in CollectionDef.\n",
      "'NoneType' object has no attribute 'name'\n"
     ]
    },
    {
     "name": "stdout",
     "output_type": "stream",
     "text": [
      "Episode: 6099 --- Ave R: -154.6  |  Success: 0.00  |  crash: 1.00  |  Max R: -38.1  |  var: 0.28  |  lr:100.00*1e-4\n",
      "Episode: 6199 --- Ave R: -154.1  |  Success: 0.00  |  crash: 1.00  |  Max R: -44.1  |  var: 0.29  |  lr:100.00*1e-4\n",
      "Episode: 6299 --- Ave R: -149.6  |  Success: 0.00  |  crash: 1.00  |  Max R: -9.0  |  var: 0.28  |  lr:100.00*1e-4\n",
      "Episode: 6399 --- Ave R: -148.3  |  Success: 0.00  |  crash: 1.00  |  Max R: -44.4  |  var: 0.33  |  lr:100.00*1e-4\n",
      "Episode: 6499 --- Ave R: -142.9  |  Success: 0.00  |  crash: 1.00  |  Max R: -19.2  |  var: 0.27  |  lr:100.00*1e-4\n",
      "Episode: 6599 --- Ave R: -141.3  |  Success: 0.00  |  crash: 1.00  |  Max R: -43.5  |  var: 0.30  |  lr:100.00*1e-4\n",
      "Episode: 6699 --- Ave R: -156.0  |  Success: 0.00  |  crash: 1.00  |  Max R: -55.0  |  var: 0.31  |  lr:100.00*1e-4\n",
      "Episode: 6799 --- Ave R: -141.4  |  Success: 0.00  |  crash: 1.00  |  Max R: -70.7  |  var: 0.28  |  lr:100.00*1e-4\n",
      "Episode: 6899 --- Ave R: -146.8  |  Success: 0.00  |  crash: 1.00  |  Max R: -62.3  |  var: 0.28  |  lr:100.00*1e-4\n",
      "Episode: 6999 --- Ave R: -146.3  |  Success: 0.00  |  crash: 1.00  |  Max R: -70.4  |  var: 0.31  |  lr:100.00*1e-4\n",
      " ***** Saving...  at episode 6999 ******\n",
      "WARNING:tensorflow:Error encountered when serializing data_augmentation.\n",
      "Type is unsupported, or the types of the items don't match field type in CollectionDef.\n",
      "'NoneType' object has no attribute 'name'\n"
     ]
    },
    {
     "name": "stderr",
     "output_type": "stream",
     "text": [
      "[2016-12-28 21:53:20,906] Error encountered when serializing data_augmentation.\n",
      "Type is unsupported, or the types of the items don't match field type in CollectionDef.\n",
      "'NoneType' object has no attribute 'name'\n"
     ]
    },
    {
     "name": "stdout",
     "output_type": "stream",
     "text": [
      "WARNING:tensorflow:Error encountered when serializing data_preprocessing.\n",
      "Type is unsupported, or the types of the items don't match field type in CollectionDef.\n",
      "'NoneType' object has no attribute 'name'\n"
     ]
    },
    {
     "name": "stderr",
     "output_type": "stream",
     "text": [
      "[2016-12-28 21:53:20,911] Error encountered when serializing data_preprocessing.\n",
      "Type is unsupported, or the types of the items don't match field type in CollectionDef.\n",
      "'NoneType' object has no attribute 'name'\n"
     ]
    },
    {
     "name": "stdout",
     "output_type": "stream",
     "text": [
      "Episode: 7099 --- Ave R: -143.0  |  Success: 0.00  |  crash: 1.00  |  Max R: -24.6  |  var: 0.28  |  lr:100.00*1e-4\n",
      "Episode: 7199 --- Ave R: -147.3  |  Success: 0.01  |  crash: 0.99  |  Max R: 116.9  |  var: 0.29  |  lr:100.00*1e-4\n",
      "Episode: 7299 --- Ave R: -150.6  |  Success: 0.00  |  crash: 1.00  |  Max R: -80.8  |  var: 0.32  |  lr:100.00*1e-4\n",
      "Episode: 7399 --- Ave R: -150.1  |  Success: 0.00  |  crash: 1.00  |  Max R: -85.1  |  var: 0.27  |  lr:100.00*1e-4\n",
      "Episode: 7499 --- Ave R: -141.2  |  Success: 0.00  |  crash: 1.00  |  Max R: -27.3  |  var: 0.27  |  lr:100.00*1e-4\n",
      "Episode: 7599 --- Ave R: -146.3  |  Success: 0.00  |  crash: 1.00  |  Max R: -67.0  |  var: 0.28  |  lr:100.00*1e-4\n",
      "Episode: 7699 --- Ave R: -150.6  |  Success: 0.00  |  crash: 1.00  |  Max R: -81.1  |  var: 0.27  |  lr:100.00*1e-4\n",
      "Episode: 7799 --- Ave R: -150.0  |  Success: 0.00  |  crash: 1.00  |  Max R: -80.4  |  var: 0.27  |  lr:100.00*1e-4\n",
      "Episode: 7899 --- Ave R: -148.5  |  Success: 0.00  |  crash: 1.00  |  Max R: -52.0  |  var: 0.27  |  lr:100.00*1e-4\n",
      "Episode: 7999 --- Ave R: -142.1  |  Success: 0.00  |  crash: 1.00  |  Max R: -22.9  |  var: 0.28  |  lr:100.00*1e-4\n",
      " ***** Saving...  at episode 7999 ******\n",
      "WARNING:tensorflow:Error encountered when serializing data_augmentation.\n",
      "Type is unsupported, or the types of the items don't match field type in CollectionDef.\n",
      "'NoneType' object has no attribute 'name'\n"
     ]
    },
    {
     "name": "stderr",
     "output_type": "stream",
     "text": [
      "[2016-12-28 21:54:51,294] Error encountered when serializing data_augmentation.\n",
      "Type is unsupported, or the types of the items don't match field type in CollectionDef.\n",
      "'NoneType' object has no attribute 'name'\n"
     ]
    },
    {
     "name": "stdout",
     "output_type": "stream",
     "text": [
      "WARNING:tensorflow:Error encountered when serializing data_preprocessing.\n",
      "Type is unsupported, or the types of the items don't match field type in CollectionDef.\n",
      "'NoneType' object has no attribute 'name'\n"
     ]
    },
    {
     "name": "stderr",
     "output_type": "stream",
     "text": [
      "[2016-12-28 21:54:51,299] Error encountered when serializing data_preprocessing.\n",
      "Type is unsupported, or the types of the items don't match field type in CollectionDef.\n",
      "'NoneType' object has no attribute 'name'\n"
     ]
    },
    {
     "name": "stdout",
     "output_type": "stream",
     "text": [
      "Episode: 8099 --- Ave R: -145.5  |  Success: 0.00  |  crash: 1.00  |  Max R: -77.4  |  var: 0.28  |  lr:100.00*1e-4\n",
      "Episode: 8199 --- Ave R: -146.3  |  Success: 0.00  |  crash: 1.00  |  Max R: -69.8  |  var: 0.28  |  lr:100.00*1e-4\n",
      "Episode: 8299 --- Ave R: -141.1  |  Success: 0.00  |  crash: 1.00  |  Max R: -78.3  |  var: 0.28  |  lr:100.00*1e-4\n",
      "Episode: 8399 --- Ave R: -143.2  |  Success: 0.00  |  crash: 1.00  |  Max R: -86.1  |  var: 0.27  |  lr:100.00*1e-4\n",
      "Episode: 8499 --- Ave R: -145.5  |  Success: 0.00  |  crash: 1.00  |  Max R: -73.6  |  var: 0.27  |  lr:100.00*1e-4\n",
      "Episode: 8599 --- Ave R: -135.2  |  Success: 0.00  |  crash: 1.00  |  Max R: -73.6  |  var: 0.28  |  lr:100.00*1e-4\n",
      "Episode: 8699 --- Ave R: -141.0  |  Success: 0.00  |  crash: 1.00  |  Max R: -38.3  |  var: 0.34  |  lr:100.00*1e-4\n",
      "Episode: 8799 --- Ave R: -143.7  |  Success: 0.00  |  crash: 1.00  |  Max R: -38.3  |  var: 0.29  |  lr:100.00*1e-4\n",
      "Episode: 8899 --- Ave R: -144.4  |  Success: 0.00  |  crash: 1.00  |  Max R: -84.4  |  var: 0.32  |  lr:100.00*1e-4\n",
      "Episode: 8999 --- Ave R: -132.2  |  Success: 0.00  |  crash: 1.00  |  Max R: -74.7  |  var: 0.29  |  lr:100.00*1e-4\n",
      " ***** Saving...  at episode 8999 ******\n",
      "WARNING:tensorflow:Error encountered when serializing data_augmentation.\n",
      "Type is unsupported, or the types of the items don't match field type in CollectionDef.\n",
      "'NoneType' object has no attribute 'name'\n"
     ]
    },
    {
     "name": "stderr",
     "output_type": "stream",
     "text": [
      "[2016-12-28 21:56:21,274] Error encountered when serializing data_augmentation.\n",
      "Type is unsupported, or the types of the items don't match field type in CollectionDef.\n",
      "'NoneType' object has no attribute 'name'\n"
     ]
    },
    {
     "name": "stdout",
     "output_type": "stream",
     "text": [
      "WARNING:tensorflow:Error encountered when serializing data_preprocessing.\n",
      "Type is unsupported, or the types of the items don't match field type in CollectionDef.\n",
      "'NoneType' object has no attribute 'name'\n"
     ]
    },
    {
     "name": "stderr",
     "output_type": "stream",
     "text": [
      "[2016-12-28 21:56:21,279] Error encountered when serializing data_preprocessing.\n",
      "Type is unsupported, or the types of the items don't match field type in CollectionDef.\n",
      "'NoneType' object has no attribute 'name'\n"
     ]
    },
    {
     "name": "stdout",
     "output_type": "stream",
     "text": [
      "Episode: 9099 --- Ave R: -139.8  |  Success: 0.00  |  crash: 1.00  |  Max R: -66.3  |  var: 0.28  |  lr:100.00*1e-4\n",
      "Episode: 9199 --- Ave R: -147.6  |  Success: 0.00  |  crash: 1.00  |  Max R: -82.9  |  var: 0.27  |  lr:100.00*1e-4\n",
      "Episode: 9299 --- Ave R: -144.0  |  Success: 0.00  |  crash: 1.00  |  Max R: -70.9  |  var: 0.31  |  lr:100.00*1e-4\n",
      "Episode: 9399 --- Ave R: -144.5  |  Success: 0.00  |  crash: 1.00  |  Max R: -69.2  |  var: 0.27  |  lr:100.00*1e-4\n",
      "Episode: 9499 --- Ave R: -150.3  |  Success: 0.00  |  crash: 1.00  |  Max R: -64.5  |  var: 0.28  |  lr:100.00*1e-4\n",
      "Episode: 9599 --- Ave R: -138.6  |  Success: 0.00  |  crash: 1.00  |  Max R: -93.0  |  var: 0.28  |  lr:100.00*1e-4\n",
      "Episode: 9699 --- Ave R: -145.6  |  Success: 0.00  |  crash: 1.00  |  Max R: -47.3  |  var: 0.29  |  lr:100.00*1e-4\n",
      "Episode: 9799 --- Ave R: -139.5  |  Success: 0.00  |  crash: 1.00  |  Max R: -53.0  |  var: 0.26  |  lr:100.00*1e-4\n",
      "Episode: 9899 --- Ave R: -143.9  |  Success: 0.00  |  crash: 1.00  |  Max R: -73.9  |  var: 0.29  |  lr:100.00*1e-4\n",
      "Episode: 9999 --- Ave R: -149.8  |  Success: 0.00  |  crash: 1.00  |  Max R: -61.2  |  var: 0.30  |  lr:100.00*1e-4\n",
      " ***** Saving...  at episode 9999 ******\n",
      "WARNING:tensorflow:Error encountered when serializing data_augmentation.\n",
      "Type is unsupported, or the types of the items don't match field type in CollectionDef.\n",
      "'NoneType' object has no attribute 'name'\n"
     ]
    },
    {
     "name": "stderr",
     "output_type": "stream",
     "text": [
      "[2016-12-28 21:57:55,965] Error encountered when serializing data_augmentation.\n",
      "Type is unsupported, or the types of the items don't match field type in CollectionDef.\n",
      "'NoneType' object has no attribute 'name'\n"
     ]
    },
    {
     "name": "stdout",
     "output_type": "stream",
     "text": [
      "WARNING:tensorflow:Error encountered when serializing data_preprocessing.\n",
      "Type is unsupported, or the types of the items don't match field type in CollectionDef.\n",
      "'NoneType' object has no attribute 'name'\n"
     ]
    },
    {
     "name": "stderr",
     "output_type": "stream",
     "text": [
      "[2016-12-28 21:57:55,975] Error encountered when serializing data_preprocessing.\n",
      "Type is unsupported, or the types of the items don't match field type in CollectionDef.\n",
      "'NoneType' object has no attribute 'name'\n"
     ]
    },
    {
     "name": "stdout",
     "output_type": "stream",
     "text": [
      "Episode: 10099 --- Ave R: -146.0  |  Success: 0.00  |  crash: 0.99  |  Max R: 63.7  |  var: 0.42  |  lr:100.00*1e-4\n",
      "Episode: 10199 --- Ave R: -135.2  |  Success: 0.00  |  crash: 0.99  |  Max R: 63.7  |  var: 0.28  |  lr:100.00*1e-4\n",
      "Episode: 10299 --- Ave R: -143.1  |  Success: 0.00  |  crash: 1.00  |  Max R: -14.7  |  var: 0.30  |  lr:100.00*1e-4\n",
      "Episode: 10399 --- Ave R: -142.6  |  Success: 0.00  |  crash: 1.00  |  Max R: -57.9  |  var: 0.30  |  lr:100.00*1e-4\n",
      "Episode: 10499 --- Ave R: -135.2  |  Success: 0.00  |  crash: 1.00  |  Max R: -47.3  |  var: 0.28  |  lr:100.00*1e-4\n",
      "Episode: 10599 --- Ave R: -140.2  |  Success: 0.00  |  crash: 1.00  |  Max R: -65.6  |  var: 0.31  |  lr:100.00*1e-4\n",
      "Episode: 10699 --- Ave R: -134.6  |  Success: 0.00  |  crash: 1.00  |  Max R: -40.7  |  var: 0.31  |  lr:100.00*1e-4\n",
      "Episode: 10799 --- Ave R: -137.9  |  Success: 0.00  |  crash: 1.00  |  Max R: -39.3  |  var: 0.27  |  lr:100.00*1e-4\n",
      "Episode: 10899 --- Ave R: -136.4  |  Success: 0.00  |  crash: 1.00  |  Max R: -72.9  |  var: 0.28  |  lr:100.00*1e-4\n",
      "Episode: 10999 --- Ave R: -138.9  |  Success: 0.00  |  crash: 1.00  |  Max R: -64.5  |  var: 0.34  |  lr:100.00*1e-4\n",
      " ***** Saving...  at episode 10999 ******\n",
      "WARNING:tensorflow:Error encountered when serializing data_augmentation.\n",
      "Type is unsupported, or the types of the items don't match field type in CollectionDef.\n",
      "'NoneType' object has no attribute 'name'\n"
     ]
    },
    {
     "name": "stderr",
     "output_type": "stream",
     "text": [
      "[2016-12-28 21:59:34,615] Error encountered when serializing data_augmentation.\n",
      "Type is unsupported, or the types of the items don't match field type in CollectionDef.\n",
      "'NoneType' object has no attribute 'name'\n"
     ]
    },
    {
     "name": "stdout",
     "output_type": "stream",
     "text": [
      "WARNING:tensorflow:Error encountered when serializing data_preprocessing.\n",
      "Type is unsupported, or the types of the items don't match field type in CollectionDef.\n",
      "'NoneType' object has no attribute 'name'\n"
     ]
    },
    {
     "name": "stderr",
     "output_type": "stream",
     "text": [
      "[2016-12-28 21:59:34,623] Error encountered when serializing data_preprocessing.\n",
      "Type is unsupported, or the types of the items don't match field type in CollectionDef.\n",
      "'NoneType' object has no attribute 'name'\n"
     ]
    },
    {
     "name": "stdout",
     "output_type": "stream",
     "text": [
      "Episode: 11099 --- Ave R: -130.8  |  Success: 0.00  |  crash: 1.00  |  Max R: -47.9  |  var: 0.30  |  lr:100.00*1e-4\n",
      "Episode: 11199 --- Ave R: -135.6  |  Success: 0.00  |  crash: 1.00  |  Max R: -21.6  |  var: 0.28  |  lr:100.00*1e-4\n",
      "Episode: 11299 --- Ave R: -140.7  |  Success: 0.00  |  crash: 1.00  |  Max R: -29.8  |  var: 0.28  |  lr:100.00*1e-4\n",
      "Episode: 11399 --- Ave R: -133.2  |  Success: 0.00  |  crash: 1.00  |  Max R: -49.1  |  var: 0.33  |  lr:100.00*1e-4\n",
      "Episode: 11499 --- Ave R: -132.4  |  Success: 0.00  |  crash: 1.00  |  Max R: -49.3  |  var: 0.27  |  lr:100.00*1e-4\n",
      "Episode: 11599 --- Ave R: -126.4  |  Success: 0.00  |  crash: 1.00  |  Max R: -56.9  |  var: 0.32  |  lr:100.00*1e-4\n",
      "Episode: 11699 --- Ave R: -129.8  |  Success: 0.00  |  crash: 1.00  |  Max R: -55.8  |  var: 0.31  |  lr:100.00*1e-4\n",
      "Episode: 11799 --- Ave R: -129.5  |  Success: 0.00  |  crash: 1.00  |  Max R: -61.2  |  var: 0.29  |  lr:100.00*1e-4\n",
      "Episode: 11899 --- Ave R: -123.0  |  Success: 0.00  |  crash: 1.00  |  Max R: -12.8  |  var: 0.33  |  lr:100.00*1e-4\n",
      "Episode: 11999 --- Ave R: -124.7  |  Success: 0.01  |  crash: 0.99  |  Max R: 197.2  |  var: 0.31  |  lr:100.00*1e-4\n",
      " ***** Saving...  at episode 11999 ******\n",
      "WARNING:tensorflow:Error encountered when serializing data_augmentation.\n",
      "Type is unsupported, or the types of the items don't match field type in CollectionDef.\n",
      "'NoneType' object has no attribute 'name'\n"
     ]
    },
    {
     "name": "stderr",
     "output_type": "stream",
     "text": [
      "[2016-12-28 22:01:22,792] Error encountered when serializing data_augmentation.\n",
      "Type is unsupported, or the types of the items don't match field type in CollectionDef.\n",
      "'NoneType' object has no attribute 'name'\n"
     ]
    },
    {
     "name": "stdout",
     "output_type": "stream",
     "text": [
      "WARNING:tensorflow:Error encountered when serializing data_preprocessing.\n",
      "Type is unsupported, or the types of the items don't match field type in CollectionDef.\n",
      "'NoneType' object has no attribute 'name'\n"
     ]
    },
    {
     "name": "stderr",
     "output_type": "stream",
     "text": [
      "[2016-12-28 22:01:22,798] Error encountered when serializing data_preprocessing.\n",
      "Type is unsupported, or the types of the items don't match field type in CollectionDef.\n",
      "'NoneType' object has no attribute 'name'\n"
     ]
    },
    {
     "name": "stdout",
     "output_type": "stream",
     "text": [
      "Episode: 12099 --- Ave R: -130.2  |  Success: 0.00  |  crash: 1.00  |  Max R: -15.1  |  var: 0.35  |  lr:100.00*1e-4\n",
      "Episode: 12199 --- Ave R: -127.4  |  Success: 0.00  |  crash: 1.00  |  Max R: -11.8  |  var: 0.32  |  lr:100.00*1e-4\n",
      "Episode: 12299 --- Ave R: -134.5  |  Success: 0.00  |  crash: 1.00  |  Max R: -60.5  |  var: 0.31  |  lr:100.00*1e-4\n",
      "Episode: 12399 --- Ave R: -126.3  |  Success: 0.00  |  crash: 1.00  |  Max R: -61.1  |  var: 0.30  |  lr:100.00*1e-4\n",
      "Episode: 12499 --- Ave R: -117.1  |  Success: 0.00  |  crash: 1.00  |  Max R: -49.7  |  var: 0.30  |  lr:100.00*1e-4\n",
      "Episode: 12599 --- Ave R: -126.9  |  Success: 0.00  |  crash: 1.00  |  Max R: -42.1  |  var: 0.29  |  lr:100.00*1e-4\n",
      "Episode: 12699 --- Ave R: -124.1  |  Success: 0.00  |  crash: 1.00  |  Max R: -50.7  |  var: 0.36  |  lr:100.00*1e-4\n",
      "Episode: 12799 --- Ave R: -118.1  |  Success: 0.00  |  crash: 1.00  |  Max R: -41.6  |  var: 0.33  |  lr:100.00*1e-4\n",
      "Episode: 12899 --- Ave R: -115.2  |  Success: 0.01  |  crash: 0.99  |  Max R: 143.7  |  var: 0.31  |  lr:100.00*1e-4\n",
      "Episode: 12999 --- Ave R: -124.0  |  Success: 0.00  |  crash: 1.00  |  Max R: -24.3  |  var: 0.29  |  lr:100.00*1e-4\n",
      " ***** Saving...  at episode 12999 ******\n",
      "WARNING:tensorflow:Error encountered when serializing data_augmentation.\n",
      "Type is unsupported, or the types of the items don't match field type in CollectionDef.\n",
      "'NoneType' object has no attribute 'name'\n"
     ]
    },
    {
     "name": "stderr",
     "output_type": "stream",
     "text": [
      "[2016-12-28 22:03:31,730] Error encountered when serializing data_augmentation.\n",
      "Type is unsupported, or the types of the items don't match field type in CollectionDef.\n",
      "'NoneType' object has no attribute 'name'\n"
     ]
    },
    {
     "name": "stdout",
     "output_type": "stream",
     "text": [
      "WARNING:tensorflow:Error encountered when serializing data_preprocessing.\n",
      "Type is unsupported, or the types of the items don't match field type in CollectionDef.\n",
      "'NoneType' object has no attribute 'name'\n"
     ]
    },
    {
     "name": "stderr",
     "output_type": "stream",
     "text": [
      "[2016-12-28 22:03:32,553] Error encountered when serializing data_preprocessing.\n",
      "Type is unsupported, or the types of the items don't match field type in CollectionDef.\n",
      "'NoneType' object has no attribute 'name'\n"
     ]
    },
    {
     "name": "stdout",
     "output_type": "stream",
     "text": [
      "Episode: 13099 --- Ave R: -112.5  |  Success: 0.01  |  crash: 0.99  |  Max R: 157.0  |  var: 0.33  |  lr:100.00*1e-4\n",
      "Episode: 13199 --- Ave R: -121.8  |  Success: 0.00  |  crash: 1.00  |  Max R: -47.5  |  var: 0.31  |  lr:100.00*1e-4\n",
      "Episode: 13299 --- Ave R: -114.4  |  Success: 0.00  |  crash: 1.00  |  Max R: -15.8  |  var: 0.30  |  lr:100.00*1e-4\n",
      "Episode: 13399 --- Ave R: -111.1  |  Success: 0.00  |  crash: 1.00  |  Max R: -36.7  |  var: 0.31  |  lr:100.00*1e-4\n",
      "Episode: 13499 --- Ave R: -123.8  |  Success: 0.00  |  crash: 1.00  |  Max R: -47.2  |  var: 0.34  |  lr:100.00*1e-4\n",
      "Episode: 13599 --- Ave R: -114.6  |  Success: 0.00  |  crash: 1.00  |  Max R: -43.9  |  var: 0.32  |  lr:100.00*1e-4\n",
      "Episode: 13699 --- Ave R: -108.5  |  Success: 0.00  |  crash: 1.00  |  Max R: -12.7  |  var: 0.31  |  lr:100.00*1e-4\n",
      "Episode: 13799 --- Ave R: -122.8  |  Success: 0.00  |  crash: 1.00  |  Max R: -45.9  |  var: 0.31  |  lr:100.00*1e-4\n",
      "Episode: 13899 --- Ave R: -116.5  |  Success: 0.00  |  crash: 1.00  |  Max R: 2.7  |  var: 0.30  |  lr:100.00*1e-4\n",
      "Episode: 13999 --- Ave R: -120.2  |  Success: 0.00  |  crash: 1.00  |  Max R: -2.9  |  var: 0.30  |  lr:100.00*1e-4\n",
      " ***** Saving...  at episode 13999 ******\n",
      "WARNING:tensorflow:Error encountered when serializing data_augmentation.\n",
      "Type is unsupported, or the types of the items don't match field type in CollectionDef.\n",
      "'NoneType' object has no attribute 'name'\n"
     ]
    },
    {
     "name": "stderr",
     "output_type": "stream",
     "text": [
      "[2016-12-28 22:05:36,603] Error encountered when serializing data_augmentation.\n",
      "Type is unsupported, or the types of the items don't match field type in CollectionDef.\n",
      "'NoneType' object has no attribute 'name'\n"
     ]
    },
    {
     "name": "stdout",
     "output_type": "stream",
     "text": [
      "WARNING:tensorflow:Error encountered when serializing data_preprocessing.\n",
      "Type is unsupported, or the types of the items don't match field type in CollectionDef.\n",
      "'NoneType' object has no attribute 'name'\n"
     ]
    },
    {
     "name": "stderr",
     "output_type": "stream",
     "text": [
      "[2016-12-28 22:05:36,608] Error encountered when serializing data_preprocessing.\n",
      "Type is unsupported, or the types of the items don't match field type in CollectionDef.\n",
      "'NoneType' object has no attribute 'name'\n"
     ]
    },
    {
     "name": "stdout",
     "output_type": "stream",
     "text": [
      "Episode: 14099 --- Ave R: -115.3  |  Success: 0.00  |  crash: 1.00  |  Max R: -32.4  |  var: 0.36  |  lr:100.00*1e-4\n",
      "Episode: 14199 --- Ave R: -116.1  |  Success: 0.00  |  crash: 1.00  |  Max R: -41.3  |  var: 0.33  |  lr:100.00*1e-4\n",
      "Episode: 14299 --- Ave R: -110.2  |  Success: 0.00  |  crash: 1.00  |  Max R: -19.1  |  var: 0.30  |  lr:100.00*1e-4\n",
      "Episode: 14399 --- Ave R: -106.0  |  Success: 0.00  |  crash: 1.00  |  Max R: 4.3  |  var: 0.35  |  lr:100.00*1e-4\n",
      "Episode: 14499 --- Ave R: -101.8  |  Success: 0.00  |  crash: 1.00  |  Max R: -37.4  |  var: 0.32  |  lr:100.00*1e-4\n",
      "Episode: 14599 --- Ave R: -98.7  |  Success: 0.01  |  crash: 0.99  |  Max R: 211.8  |  var: 0.33  |  lr:100.00*1e-4\n",
      "Episode: 14699 --- Ave R: -104.2  |  Success: 0.00  |  crash: 1.00  |  Max R: -0.7  |  var: 0.36  |  lr:100.00*1e-4\n",
      "Episode: 14799 --- Ave R: -102.4  |  Success: 0.00  |  crash: 1.00  |  Max R: -18.9  |  var: 0.32  |  lr:100.00*1e-4\n",
      "Episode: 14899 --- Ave R: -108.1  |  Success: 0.01  |  crash: 0.99  |  Max R: 197.5  |  var: 0.37  |  lr:100.00*1e-4\n",
      "Episode: 14999 --- Ave R: -96.0  |  Success: 0.01  |  crash: 0.99  |  Max R: 128.5  |  var: 0.37  |  lr:100.00*1e-4\n",
      " ***** Saving...  at episode 14999 ******\n",
      "WARNING:tensorflow:Error encountered when serializing data_augmentation.\n",
      "Type is unsupported, or the types of the items don't match field type in CollectionDef.\n",
      "'NoneType' object has no attribute 'name'\n"
     ]
    },
    {
     "name": "stderr",
     "output_type": "stream",
     "text": [
      "[2016-12-28 22:07:45,043] Error encountered when serializing data_augmentation.\n",
      "Type is unsupported, or the types of the items don't match field type in CollectionDef.\n",
      "'NoneType' object has no attribute 'name'\n"
     ]
    },
    {
     "name": "stdout",
     "output_type": "stream",
     "text": [
      "WARNING:tensorflow:Error encountered when serializing data_preprocessing.\n",
      "Type is unsupported, or the types of the items don't match field type in CollectionDef.\n",
      "'NoneType' object has no attribute 'name'\n"
     ]
    },
    {
     "name": "stderr",
     "output_type": "stream",
     "text": [
      "[2016-12-28 22:07:45,048] Error encountered when serializing data_preprocessing.\n",
      "Type is unsupported, or the types of the items don't match field type in CollectionDef.\n",
      "'NoneType' object has no attribute 'name'\n"
     ]
    },
    {
     "name": "stdout",
     "output_type": "stream",
     "text": [
      "Episode: 15099 --- Ave R: -109.6  |  Success: 0.00  |  crash: 1.00  |  Max R: -9.9  |  var: 0.34  |  lr:100.00*1e-4\n",
      "Episode: 15199 --- Ave R: -111.5  |  Success: 0.00  |  crash: 1.00  |  Max R: -30.1  |  var: 0.35  |  lr:100.00*1e-4\n",
      "Episode: 15299 --- Ave R: -110.9  |  Success: 0.00  |  crash: 0.99  |  Max R: 88.7  |  var: 0.35  |  lr:100.00*1e-4\n",
      "Episode: 15399 --- Ave R: -142.1  |  Success: 0.01  |  crash: 0.99  |  Max R: 128.4  |  var: 0.39  |  lr:100.00*1e-4\n",
      "Episode: 15499 --- Ave R: -185.7  |  Success: 0.00  |  crash: 1.00  |  Max R: -1.6  |  var: 0.39  |  lr:100.00*1e-4\n",
      "Episode: 15599 --- Ave R: -131.6  |  Success: 0.01  |  crash: 0.99  |  Max R: 116.0  |  var: 0.32  |  lr:100.00*1e-4\n",
      "Episode: 15699 --- Ave R: -125.8  |  Success: 0.00  |  crash: 1.00  |  Max R: -7.8  |  var: 0.30  |  lr:100.00*1e-4\n",
      "Episode: 15799 --- Ave R: -112.3  |  Success: 0.00  |  crash: 1.00  |  Max R: 12.8  |  var: 0.41  |  lr:100.00*1e-4\n",
      "Episode: 15899 --- Ave R: -109.4  |  Success: 0.00  |  crash: 1.00  |  Max R: -31.6  |  var: 0.39  |  lr:100.00*1e-4\n",
      "Episode: 15999 --- Ave R: -114.8  |  Success: 0.00  |  crash: 1.00  |  Max R: -17.8  |  var: 0.36  |  lr:100.00*1e-4\n",
      " ***** Saving...  at episode 15999 ******\n",
      "WARNING:tensorflow:Error encountered when serializing data_augmentation.\n",
      "Type is unsupported, or the types of the items don't match field type in CollectionDef.\n",
      "'NoneType' object has no attribute 'name'\n"
     ]
    },
    {
     "name": "stderr",
     "output_type": "stream",
     "text": [
      "[2016-12-28 22:10:52,660] Error encountered when serializing data_augmentation.\n",
      "Type is unsupported, or the types of the items don't match field type in CollectionDef.\n",
      "'NoneType' object has no attribute 'name'\n"
     ]
    },
    {
     "name": "stdout",
     "output_type": "stream",
     "text": [
      "WARNING:tensorflow:Error encountered when serializing data_preprocessing.\n",
      "Type is unsupported, or the types of the items don't match field type in CollectionDef.\n",
      "'NoneType' object has no attribute 'name'\n"
     ]
    },
    {
     "name": "stderr",
     "output_type": "stream",
     "text": [
      "[2016-12-28 22:10:52,665] Error encountered when serializing data_preprocessing.\n",
      "Type is unsupported, or the types of the items don't match field type in CollectionDef.\n",
      "'NoneType' object has no attribute 'name'\n"
     ]
    },
    {
     "name": "stdout",
     "output_type": "stream",
     "text": [
      "Episode: 16099 --- Ave R: -119.4  |  Success: 0.00  |  crash: 1.00  |  Max R: 5.8  |  var: 0.36  |  lr:100.00*1e-4\n",
      "Episode: 16199 --- Ave R: -104.0  |  Success: 0.05  |  crash: 0.95  |  Max R: 223.4  |  var: 0.39  |  lr:100.00*1e-4\n",
      "Episode: 16299 --- Ave R: -126.0  |  Success: 0.01  |  crash: 0.99  |  Max R: 126.9  |  var: 0.38  |  lr:100.00*1e-4\n",
      "Episode: 16399 --- Ave R: -132.9  |  Success: 0.03  |  crash: 0.97  |  Max R: 200.5  |  var: 0.42  |  lr:100.00*1e-4\n",
      "Episode: 16499 --- Ave R: -125.2  |  Success: 0.02  |  crash: 0.98  |  Max R: 202.2  |  var: 0.38  |  lr:100.00*1e-4\n",
      "Episode: 16599 --- Ave R: -121.8  |  Success: 0.00  |  crash: 1.00  |  Max R: -14.8  |  var: 0.34  |  lr:100.00*1e-4\n",
      "Episode: 16699 --- Ave R: -145.9  |  Success: 0.01  |  crash: 0.99  |  Max R: 179.4  |  var: 0.42  |  lr:100.00*1e-4\n",
      "Episode: 16799 --- Ave R: -137.9  |  Success: 0.00  |  crash: 1.00  |  Max R: -22.5  |  var: 0.41  |  lr:100.00*1e-4\n",
      "Episode: 16899 --- Ave R: -156.4  |  Success: 0.03  |  crash: 0.97  |  Max R: 124.0  |  var: 0.44  |  lr:100.00*1e-4\n",
      "Episode: 16999 --- Ave R: -188.0  |  Success: 0.01  |  crash: 0.99  |  Max R: 182.0  |  var: 0.38  |  lr:100.00*1e-4\n",
      " ***** Saving...  at episode 16999 ******\n",
      "WARNING:tensorflow:Error encountered when serializing data_augmentation.\n",
      "Type is unsupported, or the types of the items don't match field type in CollectionDef.\n",
      "'NoneType' object has no attribute 'name'\n"
     ]
    },
    {
     "name": "stderr",
     "output_type": "stream",
     "text": [
      "[2016-12-28 22:14:15,209] Error encountered when serializing data_augmentation.\n",
      "Type is unsupported, or the types of the items don't match field type in CollectionDef.\n",
      "'NoneType' object has no attribute 'name'\n"
     ]
    },
    {
     "name": "stdout",
     "output_type": "stream",
     "text": [
      "WARNING:tensorflow:Error encountered when serializing data_preprocessing.\n",
      "Type is unsupported, or the types of the items don't match field type in CollectionDef.\n",
      "'NoneType' object has no attribute 'name'\n"
     ]
    },
    {
     "name": "stderr",
     "output_type": "stream",
     "text": [
      "[2016-12-28 22:14:15,214] Error encountered when serializing data_preprocessing.\n",
      "Type is unsupported, or the types of the items don't match field type in CollectionDef.\n",
      "'NoneType' object has no attribute 'name'\n"
     ]
    },
    {
     "name": "stdout",
     "output_type": "stream",
     "text": [
      "Episode: 17099 --- Ave R: -168.5  |  Success: 0.03  |  crash: 0.96  |  Max R: 201.9  |  var: 0.39  |  lr:100.00*1e-4\n",
      "Episode: 17199 --- Ave R: -201.4  |  Success: 0.00  |  crash: 0.99  |  Max R: 44.4  |  var: 0.50  |  lr:100.00*1e-4\n",
      "Episode: 17299 --- Ave R: -184.9  |  Success: 0.01  |  crash: 0.97  |  Max R: 175.0  |  var: 0.44  |  lr:100.00*1e-4\n",
      "Episode: 17399 --- Ave R: -116.1  |  Success: 0.01  |  crash: 0.98  |  Max R: 197.4  |  var: 0.47  |  lr:100.00*1e-4\n",
      "Episode: 17499 --- Ave R: -172.0  |  Success: 0.04  |  crash: 0.88  |  Max R: 231.4  |  var: 0.45  |  lr:100.00*1e-4\n",
      "Episode: 17599 --- Ave R: -237.7  |  Success: 0.02  |  crash: 0.98  |  Max R: 154.0  |  var: 0.52  |  lr:100.00*1e-4\n",
      "Episode: 17699 --- Ave R: -255.5  |  Success: 0.00  |  crash: 1.00  |  Max R: -38.4  |  var: 0.46  |  lr:100.00*1e-4\n",
      "Episode: 17799 --- Ave R: -190.5  |  Success: 0.01  |  crash: 0.99  |  Max R: 163.6  |  var: 0.37  |  lr:100.00*1e-4\n",
      "Episode: 17899 --- Ave R: -180.0  |  Success: 0.00  |  crash: 1.00  |  Max R: -43.8  |  var: 0.39  |  lr:100.00*1e-4\n",
      "Episode: 17999 --- Ave R: -195.2  |  Success: 0.00  |  crash: 1.00  |  Max R: -27.2  |  var: 0.43  |  lr:100.00*1e-4\n",
      " ***** Saving...  at episode 17999 ******\n",
      "WARNING:tensorflow:Error encountered when serializing data_augmentation.\n",
      "Type is unsupported, or the types of the items don't match field type in CollectionDef.\n",
      "'NoneType' object has no attribute 'name'\n"
     ]
    },
    {
     "name": "stderr",
     "output_type": "stream",
     "text": [
      "[2016-12-28 22:19:12,738] Error encountered when serializing data_augmentation.\n",
      "Type is unsupported, or the types of the items don't match field type in CollectionDef.\n",
      "'NoneType' object has no attribute 'name'\n"
     ]
    },
    {
     "name": "stdout",
     "output_type": "stream",
     "text": [
      "WARNING:tensorflow:Error encountered when serializing data_preprocessing.\n",
      "Type is unsupported, or the types of the items don't match field type in CollectionDef.\n",
      "'NoneType' object has no attribute 'name'\n"
     ]
    },
    {
     "name": "stderr",
     "output_type": "stream",
     "text": [
      "[2016-12-28 22:19:12,743] Error encountered when serializing data_preprocessing.\n",
      "Type is unsupported, or the types of the items don't match field type in CollectionDef.\n",
      "'NoneType' object has no attribute 'name'\n"
     ]
    },
    {
     "name": "stdout",
     "output_type": "stream",
     "text": [
      "Episode: 18099 --- Ave R: -195.3  |  Success: 0.00  |  crash: 1.00  |  Max R: -19.9  |  var: 0.35  |  lr:100.00*1e-4\n",
      "Episode: 18199 --- Ave R: -204.2  |  Success: 0.00  |  crash: 1.00  |  Max R: -7.2  |  var: 0.41  |  lr:100.00*1e-4\n",
      "Episode: 18299 --- Ave R: -202.0  |  Success: 0.00  |  crash: 1.00  |  Max R: 27.7  |  var: 0.39  |  lr:100.00*1e-4\n",
      "Episode: 18399 --- Ave R: -179.6  |  Success: 0.01  |  crash: 0.99  |  Max R: 119.4  |  var: 0.32  |  lr:100.00*1e-4\n",
      "Episode: 18499 --- Ave R: -192.1  |  Success: 0.00  |  crash: 1.00  |  Max R: -1.2  |  var: 0.44  |  lr:100.00*1e-4\n",
      "Episode: 18599 --- Ave R: -183.6  |  Success: 0.00  |  crash: 1.00  |  Max R: 0.2  |  var: 0.42  |  lr:100.00*1e-4\n",
      "Episode: 18699 --- Ave R: -178.3  |  Success: 0.00  |  crash: 1.00  |  Max R: -12.8  |  var: 0.33  |  lr:100.00*1e-4\n",
      "Episode: 18799 --- Ave R: -177.4  |  Success: 0.00  |  crash: 1.00  |  Max R: -8.2  |  var: 0.32  |  lr:100.00*1e-4\n",
      "Episode: 18899 --- Ave R: -176.6  |  Success: 0.00  |  crash: 1.00  |  Max R: -10.9  |  var: 0.34  |  lr:100.00*1e-4\n",
      "Episode: 18999 --- Ave R: -180.2  |  Success: 0.00  |  crash: 1.00  |  Max R: -22.8  |  var: 0.40  |  lr:100.00*1e-4\n",
      " ***** Saving...  at episode 18999 ******\n",
      "WARNING:tensorflow:Error encountered when serializing data_augmentation.\n",
      "Type is unsupported, or the types of the items don't match field type in CollectionDef.\n",
      "'NoneType' object has no attribute 'name'\n"
     ]
    },
    {
     "name": "stderr",
     "output_type": "stream",
     "text": [
      "[2016-12-28 22:20:30,994] Error encountered when serializing data_augmentation.\n",
      "Type is unsupported, or the types of the items don't match field type in CollectionDef.\n",
      "'NoneType' object has no attribute 'name'\n"
     ]
    },
    {
     "name": "stdout",
     "output_type": "stream",
     "text": [
      "WARNING:tensorflow:Error encountered when serializing data_preprocessing.\n",
      "Type is unsupported, or the types of the items don't match field type in CollectionDef.\n",
      "'NoneType' object has no attribute 'name'\n"
     ]
    },
    {
     "name": "stderr",
     "output_type": "stream",
     "text": [
      "[2016-12-28 22:20:30,999] Error encountered when serializing data_preprocessing.\n",
      "Type is unsupported, or the types of the items don't match field type in CollectionDef.\n",
      "'NoneType' object has no attribute 'name'\n"
     ]
    },
    {
     "name": "stdout",
     "output_type": "stream",
     "text": [
      "Episode: 19099 --- Ave R: -171.4  |  Success: 0.00  |  crash: 1.00  |  Max R: -38.7  |  var: 0.39  |  lr:100.00*1e-4\n",
      "Episode: 19199 --- Ave R: -164.6  |  Success: 0.00  |  crash: 1.00  |  Max R: -22.7  |  var: 0.49  |  lr:100.00*1e-4\n",
      "Episode: 19299 --- Ave R: -170.0  |  Success: 0.00  |  crash: 1.00  |  Max R: -60.0  |  var: 0.28  |  lr:100.00*1e-4\n",
      "Episode: 19399 --- Ave R: -170.5  |  Success: 0.00  |  crash: 1.00  |  Max R: -76.2  |  var: 0.33  |  lr:100.00*1e-4\n",
      "Episode: 19499 --- Ave R: -165.1  |  Success: 0.00  |  crash: 1.00  |  Max R: -57.6  |  var: 0.47  |  lr:100.00*1e-4\n",
      "Episode: 19599 --- Ave R: -158.8  |  Success: 0.00  |  crash: 1.00  |  Max R: -36.7  |  var: 0.38  |  lr:100.00*1e-4\n",
      "Episode: 19699 --- Ave R: -158.8  |  Success: 0.00  |  crash: 1.00  |  Max R: -90.2  |  var: 0.46  |  lr:100.00*1e-4\n",
      "Episode: 19799 --- Ave R: -152.9  |  Success: 0.00  |  crash: 1.00  |  Max R: -60.9  |  var: 0.33  |  lr:100.00*1e-4\n",
      "Episode: 19899 --- Ave R: -153.7  |  Success: 0.00  |  crash: 1.00  |  Max R: -35.5  |  var: 0.37  |  lr:100.00*1e-4\n",
      "Episode: 19999 --- Ave R: -151.6  |  Success: 0.00  |  crash: 1.00  |  Max R: -76.0  |  var: 0.44  |  lr:100.00*1e-4\n",
      " ***** Saving...  at episode 19999 ******\n",
      "WARNING:tensorflow:Error encountered when serializing data_augmentation.\n",
      "Type is unsupported, or the types of the items don't match field type in CollectionDef.\n",
      "'NoneType' object has no attribute 'name'\n"
     ]
    },
    {
     "name": "stderr",
     "output_type": "stream",
     "text": [
      "[2016-12-28 22:21:46,597] Error encountered when serializing data_augmentation.\n",
      "Type is unsupported, or the types of the items don't match field type in CollectionDef.\n",
      "'NoneType' object has no attribute 'name'\n"
     ]
    },
    {
     "name": "stdout",
     "output_type": "stream",
     "text": [
      "WARNING:tensorflow:Error encountered when serializing data_preprocessing.\n",
      "Type is unsupported, or the types of the items don't match field type in CollectionDef.\n",
      "'NoneType' object has no attribute 'name'\n"
     ]
    },
    {
     "name": "stderr",
     "output_type": "stream",
     "text": [
      "[2016-12-28 22:21:46,602] Error encountered when serializing data_preprocessing.\n",
      "Type is unsupported, or the types of the items don't match field type in CollectionDef.\n",
      "'NoneType' object has no attribute 'name'\n"
     ]
    },
    {
     "name": "stdout",
     "output_type": "stream",
     "text": [
      "DONE\n"
     ]
    }
   ],
   "source": [
    "#game = test_env()\n",
    "print_ep = 100\n",
    "save_ep = 1000\n",
    "lr_decay_ep = 100\n",
    "decay_rate = 1\n",
    "lr = LEARNING_RATE\n",
    "buff.clear()\n",
    "last_ep = 0\n",
    "start_update = 0\n",
    "with tf.Session(graph=graph) as sess:\n",
    "    actor.set_up(sess)\n",
    "    critic.set_up(sess)\n",
    "    sess.run(tf.initialize_all_variables())\n",
    "    \n",
    "    ep_reward = np.zeros(MAX_EPISODE)\n",
    "    ep_success = np.zeros(MAX_EPISODE)\n",
    "    ep_crash = np.zeros(MAX_EPISODE)\n",
    "    avg_var = 0\n",
    "    \n",
    "    for ep in xrange(MAX_EPISODE):\n",
    "        s = game.reset()\n",
    "        var = 0\n",
    "        for st in xrange(MAX_STEP):\n",
    "            A = actor.take_action(s.reshape(-1,info.dim_s))\n",
    "            a = np.argmax(A)\n",
    "            s2, r, terminal, report = game.step(a)\n",
    "\n",
    "            buff.add(np.reshape(s, (actor.dim_s,)).astype(np.float32), np.reshape(A, (actor.dim_a,)).astype(np.float32),\\\n",
    "                     np.array(r).astype(np.float32), np.reshape(s2, (actor.dim_s,)).astype(np.float32),\\\n",
    "                     np.reshape(terminal, (1,)))\n",
    "\n",
    "            ep_reward[ep] += (1.*r)\n",
    "            var += np.sum(actor.give_policy(s.reshape(-1,info.dim_s))**2)\n",
    "            s = s2\n",
    "\n",
    "            if terminal:\n",
    "                var = var/st\n",
    "                avg_var += (var/print_ep)\n",
    "                break\n",
    "                \n",
    "        if ((ep % MINIBATCH_SIZE) == (MINIBATCH_SIZE -1)):\n",
    "            (s_batch, a_batch, r_batch, s2_batch, t_batch) = \\\n",
    "                buff.sample_batch(MINIBATCH_SIZE)\n",
    "            s_batch = np.array(s_batch).reshape(-1, info.dim_s)\n",
    "            s2_batch = np.array(s2_batch).reshape(-1, info.dim_s)\n",
    "            a_batch = np.array(a_batch).reshape(-1, info.dim_a)\n",
    "            r_batch = np.array(r_batch).reshape(-1, 1)\n",
    "            t_batch = np.array(t_batch).reshape(-1, 1)\n",
    "\n",
    "            Q_2 = critic.predict(s2_batch)\n",
    "\n",
    "            R_batch = r_batch + GAMMA * Q_2 * (1-t_batch)\n",
    "            \n",
    "            predicted_Q, _ = critic.train(s_batch, np.reshape(R_batch, (-1, 1)), lr)\n",
    "\n",
    "            td_batch = R_batch - predicted_Q\n",
    "\n",
    "            actor.train(s_batch, a_batch, np.reshape(td_batch, (-1, 1)), lr)\n",
    "                \n",
    "        if terminal == False:\n",
    "            var = var/MAX_STEP\n",
    "            avg_var += (var/print_ep)\n",
    "        if (r >= 100):\n",
    "            ep_success[ep] = 1\n",
    "        elif (r <= -100):\n",
    "            ep_crash[ep] = 1\n",
    "        \n",
    "        if ((ep % print_ep) == (print_ep-1)) or (ep == 0):\n",
    "            print('Episode: %d --- Ave R: %.1f  |  Success: %.2f  |  crash: %.2f  |  Max R: %.1f  |  var: %.2f  |  lr:%.2f*1e-4'\\\n",
    "                  %(ep, np.mean(ep_reward[last_ep:ep+1]), np.mean(ep_success[last_ep:ep+1]), \\\n",
    "                    np.mean(ep_crash[last_ep:ep+1]), np.amax(ep_reward[last_ep:ep+1]), var, 1e4*lr))\n",
    "            last_ep = ep\n",
    "            avg_var = 0\n",
    "        if (ep % save_ep) == (save_ep-1):\n",
    "            print(' ***** Saving...  at episode %d ******' %ep)\n",
    "            saver = tf.train.Saver()\n",
    "            filename = save_dir + 'Episod_' + str(ep) + '.chk'\n",
    "            saver.save(sess, filename)\n",
    "            with open(save_dir + 'rewards.txt', 'w') as f:\n",
    "                for i in xrange(MAX_EPISODE):\n",
    "                    f.write('%f\\n' %ep_reward[i])\n",
    "                    \n",
    "        if (ep == 0):\n",
    "            try:\n",
    "                with open(save_dir + 'params.txt', 'w') as f:\n",
    "                    f.write('Learning rate = %f\\n' %LEARNING_RATE)\n",
    "                    f.write('lr decay = %f\\n' %decay_rate)\n",
    "                    f.write('Batch size = %d\\n' %MINIBATCH_SIZE)\n",
    "                    f.write('actor hidden layers: %d\\n' %info.act_hid_layers)\n",
    "                    f.write('critic hidden layers: %d\\n' %info.crit_hid_layers)\n",
    "            except:\n",
    "                os.mkdir(save_dir)  \n",
    "                with open(save_dir + 'params.txt', 'w') as f:\n",
    "                    f.write('Learning rate = %f\\n' %LEARNING_RATE)\n",
    "                    f.write('lr decay = %f\\n' %decay_rate)\n",
    "                    f.write('Batch size = %d\\n' %MINIBATCH_SIZE)\n",
    "                    f.write('actor hidden layers: %d\\n' %info.act_hid_layers)\n",
    "                    f.write('critic hidden layers: %d\\n' %info.crit_hid_layers)\n",
    "            \n",
    "        if (ep % lr_decay_ep) == (lr_decay_ep-1):\n",
    "            lr = decay_rate * lr\n",
    "\n",
    "    \n",
    "print('DONE') \n",
    "    "
   ]
  },
  {
   "cell_type": "code",
   "execution_count": null,
   "metadata": {
    "collapsed": false
   },
   "outputs": [],
   "source": [
    "EP = MAX_EPISODE - 1\n",
    "with tf.Session(graph=graph) as sess:\n",
    "    \n",
    "    actor.set_up(sess)\n",
    "    critic.set_up(sess)\n",
    "    sess.run(tf.initialize_all_variables())\n",
    "    saver = tf.train.Saver()\n",
    "    filename = './saved_nets/Episod_' + str(EP) + '.chk'\n",
    "    saver.restore(sess, filename)\n",
    "    \n",
    "    ep_reward = 0\n",
    "    s = game.reset()\n",
    "    for st in xrange(MAX_STEP):\n",
    "        game.render()\n",
    "        print(actor.give_policy(s.reshape(-1,info.dim_s)))\n",
    "        A = actor.take_action(s.reshape(-1,info.dim_s))\n",
    "        a = np.argmax(A)\n",
    "        s2, r, terminal, report = game.step(a)\n",
    "        s = s2\n",
    "        ep_reward += (1.*r)\n",
    "        if terminal:\n",
    "            break\n",
    "    print(r)\n",
    "    print('reward:%f' %np.mean(ep_reward))"
   ]
  },
  {
   "cell_type": "code",
   "execution_count": 12,
   "metadata": {
    "collapsed": false
   },
   "outputs": [],
   "source": [
    "os.mkdir('./Results/a')\n"
   ]
  },
  {
   "cell_type": "markdown",
   "metadata": {},
   "source": [
    "## "
   ]
  }
 ],
 "metadata": {
  "kernelspec": {
   "display_name": "Python 2",
   "language": "python",
   "name": "python2"
  },
  "language_info": {
   "codemirror_mode": {
    "name": "ipython",
    "version": 2
   },
   "file_extension": ".py",
   "mimetype": "text/x-python",
   "name": "python",
   "nbconvert_exporter": "python",
   "pygments_lexer": "ipython2",
   "version": "2.7.13rc1"
  }
 },
 "nbformat": 4,
 "nbformat_minor": 0
}
