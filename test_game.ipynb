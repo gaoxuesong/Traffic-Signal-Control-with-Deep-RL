{
 "cells": [
  {
   "cell_type": "code",
   "execution_count": null,
   "metadata": {
    "collapsed": true
   },
   "outputs": [],
   "source": [
    "import numpy as np"
   ]
  },
  {
   "cell_type": "code",
   "execution_count": null,
   "metadata": {
    "collapsed": true
   },
   "outputs": [],
   "source": [
    "class test_env(object):\n",
    "    \n",
    "    def __init__(self):\n",
    "        self.s = 0\n",
    "        \n",
    "    def reset(self):\n",
    "        self.s = 0\n",
    "        return np.array(self.s)\n",
    "    def step(self, A):\n",
    "        \n",
    "        a = np.argmax(A)\n",
    "        if a == 1:\n",
    "            self.s = self.s + 1\n",
    "        else:\n",
    "            self.s -= 1\n",
    "        r = -1\n",
    "        if self.s < 0:\n",
    "            r = -20\n",
    "            self.s = 0\n",
    "        elif self.s > 3:   # 3\n",
    "            r = -20        # -20\n",
    "            self.s = 3     # 3\n",
    "        elif self.s == 2:\n",
    "            r = 100\n",
    "        elif self.s == 1:\n",
    "            r = 100\n",
    "            \n",
    "        return np.array(self.s), np.array(r)"
   ]
  }
 ],
 "metadata": {
  "kernelspec": {
   "display_name": "Python 2",
   "language": "python",
   "name": "python2"
  },
  "language_info": {
   "codemirror_mode": {
    "name": "ipython",
    "version": 2
   },
   "file_extension": ".py",
   "mimetype": "text/x-python",
   "name": "python",
   "nbconvert_exporter": "python",
   "pygments_lexer": "ipython2",
   "version": "2.7.6"
  }
 },
 "nbformat": 4,
 "nbformat_minor": 0
}
